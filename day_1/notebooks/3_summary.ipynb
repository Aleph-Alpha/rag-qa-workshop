{
 "cells": [
  {
   "cell_type": "code",
   "execution_count": 14,
   "metadata": {},
   "outputs": [
    {
     "name": "stdout",
     "output_type": "stream",
     "text": [
      "The autoreload extension is already loaded. To reload it, use:\n",
      "  %reload_ext autoreload\n"
     ]
    },
    {
     "data": {
      "text/plain": [
       "True"
      ]
     },
     "execution_count": 14,
     "metadata": {},
     "output_type": "execute_result"
    }
   ],
   "source": [
    "%load_ext autoreload\n",
    "%autoreload 2\n",
    "\n",
    "from dotenv import load_dotenv, find_dotenv\n",
    "load_dotenv(find_dotenv())"
   ]
  },
  {
   "cell_type": "code",
   "execution_count": 15,
   "metadata": {},
   "outputs": [],
   "source": [
    "import os\n",
    "AA_TOKEN=os.getenv(\"AA_TOKEN\")\n",
    "NAMESPACE=os.getenv(\"AA_NAMESPACE\")"
   ]
  },
  {
   "cell_type": "markdown",
   "metadata": {},
   "source": [
    "# Summary"
   ]
  },
  {
   "cell_type": "code",
   "execution_count": 16,
   "metadata": {},
   "outputs": [
    {
     "name": "stderr",
     "output_type": "stream",
     "text": [
      "/Users/moritz.gottschling/dev/aleph_alpha_tutorial_2/.venv/lib/python3.12/site-packages/intelligence_layer/core/model.py:229: UserWarning: The provided model is not a recommended model for this model class.Make sure that the model you have selected is suited to be use for the prompt template used in this model class.\n",
      "  warnings.warn(\n"
     ]
    },
    {
     "name": "stdout",
     "output_type": "stream",
     "text": [
      "Hier ist eine Zusammenfassung des Textes in einer einzelnen Absatz:\n",
      "\n",
      "Python ist eine höhere Programmiersprache, die 1991 von Guido van Rossum entwickelt wurde und sich durch ihre einfache Lesbarkeit und klare Syntax auszeichnet. Sie unterstützt mehrere Programmierparadigmen und wird häufig für Webentwicklung, Datenanalyse, künstliche Intelligenz und andere Anwendungen verwendet. Python ist plattformunabhängig und kann auf verschiedenen Betriebssystemen wie Windows, macOS und Linux verwendet werden. Zu den beliebtesten Python-Paketen gehören NumPy, Pandas, Matplotlib, Scikit-Learn, TensorFlow, Requests, Flask und Django.\n"
     ]
    }
   ],
   "source": [
    "from intelligence_layer.core import Llama3InstructModel, InMemoryTracer\n",
    "from intelligence_layer.examples import (\n",
    "    SingleChunkSummarizeInput,\n",
    "    SteerableSingleChunkSummarize,\n",
    ")\n",
    "\n",
    "chunk = \"\"\"\n",
    "Python ist eine höhere Programmiersprache, die 1991 von Guido van Rossum entwickelt wurde1. Sie zeichnet sich durch ihre einfache Lesbarkeit und klare Syntax aus, was sie besonders leicht erlernbar macht2. Python unterstützt mehrere Programmierparadigmen, darunter die objektorientierte, funktionale und prozedurale Programmierung13.\n",
    "\n",
    "Die Sprache wird häufig für Webentwicklung, Datenanalyse, künstliche Intelligenz und viele andere Anwendungen verwendet. Python ist plattformunabhängig und kann auf verschiedenen Betriebssystemen wie Windows, macOS und Linux verwendet werden1.\n",
    "\n",
    "Zu den meistgenutzten Python-Paketen gehören:\n",
    "\n",
    "NumPy: Für numerische Berechnungen und Arbeiten mit Arrays3.\n",
    "Pandas: Für Datenmanipulation und -analyse3.\n",
    "Matplotlib: Zum Erstellen von statischen, animierten und interaktiven Visualisierungen in Python3.\n",
    "Scikit-Learn: Für maschinelles Lernen und Datenanalyse3.\n",
    "TensorFlow: Eine Open-Source-Bibliothek für maschinelles Lernen, entwickelt von Google3.\n",
    "Requests: Zum Senden von HTTP-Anfragen3.\n",
    "Flask: Ein leichtgewichtiges Web-Framework3.\n",
    "Django: Ein hochgradig skalierbares Web-Framework3.\n",
    "\"\"\"\n",
    "model = Llama3InstructModel(\"llama-3.1-8b-instruct\")\n",
    "input = SingleChunkSummarizeInput(chunk=chunk)\n",
    "task = SteerableSingleChunkSummarize(\n",
    "    model=model,\n",
    ")\n",
    "\n",
    "tracer = InMemoryTracer()\n",
    "output = task.run(input, tracer)\n",
    "print(output.summary)"
   ]
  },
  {
   "cell_type": "code",
   "execution_count": 18,
   "metadata": {},
   "outputs": [
    {
     "name": "stdout",
     "output_type": "stream",
     "text": [
      "summary='Lisa, eine 10-jährige Schülerin, erhält von ihrem Vater 10 Euro, um am Samstag Frühstücksbrötchen im Supermarkt zu kaufen. Sie kauft so viele Brötchen, dass von den 10 Euro noch 5 übrig bleiben, die sie mit ihrem Freund Maxi in die Stadt nehmen will, um Süßigkeiten zu kaufen. Auf dem Weg zur Bushaltestelle helfen sie einem alten Mann, der Schwierigkeiten hat, seine Tasche in den Bus zu tragen. Als der Busfahrer ihn auffordert, ein Ticket zu kaufen, hat der alte Mann kein Geld mehr. Lisa bietet ihm ihre 5 Euro an, die sie für Süßigkeiten ausgeben wollte, und gibt sie ihm. Der alte Mann ist gerührt und dankbar. Später, als der alte Mann in einem Discounter ist, bemerkt er eine Studentin, die nicht genug Geld hat, um ihren Einkauf zu bezahlen. Er legt seine 2,80 Euro auf die Kasse und gibt sie der Studentin, damit sie ihre Lebensmittel kaufen kann.\\nEine junge Frau trifft auf einen Bettler, der regelmäßig an der Bushaltestelle vor einem Discounter sitzt. Sie hat Mitleid mit ihm und gibt ihm 1,60 €, damit er sich etwas zu essen kaufen kann. Der Bettler hält sein Versprechen und kauft Brötchen im Discounter. Als er 20 Cent Rückgeld erhält, wirft er sie in die Spendensammelkasse für mittellose Kinder, anstatt sie selbst zu behalten.' generated_tokens=356\n"
     ]
    }
   ],
   "source": [
    "import os\n",
    "from intelligence_layer.core import NoOpTracer\n",
    "from intelligence_layer.examples import (\n",
    "    RecursiveSummarize,\n",
    "    RecursiveSummarizeInput,\n",
    "    SteerableLongContextSummarize,\n",
    ")\n",
    "\n",
    "file_path = os.path.join(\n",
    "    \"..\",\n",
    "    \"..\",\n",
    "    \"example_documents\",\n",
    "    \"zehn_euro_gehen_auf_reisen.txt\",\n",
    ")\n",
    "with open(file_path, \"r\", encoding=\"utf-8\") as f:\n",
    "    text = f.read()\n",
    "\n",
    "long_context_summarize = SteerableLongContextSummarize(model=model)\n",
    "\n",
    "recursive_summarize = RecursiveSummarize(long_context_summarize)\n",
    "\n",
    "recursive_summarize_input = RecursiveSummarizeInput(\n",
    "    text=text,\n",
    ")\n",
    "tracer = InMemoryTracer()\n",
    "output = recursive_summarize.run(recursive_summarize_input, tracer)\n",
    "\n",
    "print(output)"
   ]
  },
  {
   "cell_type": "code",
   "execution_count": null,
   "metadata": {},
   "outputs": [],
   "source": []
  }
 ],
 "metadata": {
  "kernelspec": {
   "display_name": ".venv",
   "language": "python",
   "name": "python3"
  },
  "language_info": {
   "codemirror_mode": {
    "name": "ipython",
    "version": 3
   },
   "file_extension": ".py",
   "mimetype": "text/x-python",
   "name": "python",
   "nbconvert_exporter": "python",
   "pygments_lexer": "ipython3",
   "version": "3.11.8"
  }
 },
 "nbformat": 4,
 "nbformat_minor": 2
}
