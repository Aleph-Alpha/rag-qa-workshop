{
 "cells": [
  {
   "cell_type": "code",
   "execution_count": null,
   "metadata": {},
   "outputs": [],
   "source": [
    "%load_ext autoreload\n",
    "%autoreload 2\n",
    "\n",
    "from dotenv import load_dotenv, find_dotenv\n",
    "load_dotenv(find_dotenv())"
   ]
  },
  {
   "cell_type": "code",
   "execution_count": null,
   "metadata": {},
   "outputs": [],
   "source": [
    "import os\n",
    "AA_TOKEN=os.getenv(\"AA_TOKEN\")\n",
    "NAMESPACE=os.getenv(\"AA_NAMESPACE\")"
   ]
  },
  {
   "cell_type": "markdown",
   "metadata": {},
   "source": [
    "# Question & Answer"
   ]
  },
  {
   "cell_type": "markdown",
   "metadata": {},
   "source": [
    "## SingleChunkQA"
   ]
  },
  {
   "cell_type": "markdown",
   "metadata": {},
   "source": [
    "The `SingleChunkQa` Task takes in a question and a chunk and outputs an answer, as well as, text highlightings that are generated via AtMan.\n",
    "\n",
    "To better understand Task building let's implement it ourselves."
   ]
  },
  {
   "cell_type": "code",
   "execution_count": null,
   "metadata": {},
   "outputs": [],
   "source": [
    "from typing import Sequence\n",
    "from intelligence_layer.core import (\n",
    "    Task,\n",
    "    TextHighlight,\n",
    "    CompleteInput,\n",
    "    TaskSpan,\n",
    "    LuminousControlModel,\n",
    "    NoOpTracer,\n",
    "    TextHighlightInput,\n",
    ")\n",
    "from pydantic import BaseModel\n",
    "\n",
    "\n",
    "class Input(BaseModel):\n",
    "    chunk: str\n",
    "    question: str\n",
    "\n",
    "\n",
    "class Output(BaseModel):\n",
    "    answer: str\n",
    "    highlights: Sequence[str]\n",
    "\n",
    "\n",
    "class SingleChunkQaTask(Task[Input, Output]):\n",
    "\n",
    "    def do_run(self, input: Input, task_span: TaskSpan) -> Output:\n",
    "        pass"
   ]
  },
  {
   "cell_type": "markdown",
   "metadata": {},
   "source": [
    "## MultiChunkRetrieverQA"
   ]
  },
  {
   "cell_type": "code",
   "execution_count": null,
   "metadata": {},
   "outputs": [],
   "source": [
    "collection_name = \"rag-collection\"\n",
    "index_name = \"rag-index\"\n",
    "query = \"Welche Datentypen gibt es in Nohtyp?\""
   ]
  },
  {
   "cell_type": "code",
   "execution_count": null,
   "metadata": {},
   "outputs": [],
   "source": [
    "from intelligence_layer.connectors import (\n",
    "    DocumentIndexClient,\n",
    "    DocumentIndexRetriever,\n",
    ")\n",
    "from intelligence_layer.core import InMemoryTracer, LuminousControlModel\n",
    "from intelligence_layer.examples import MultipleChunkRetrieverQa, RetrieverBasedQaInput\n",
    "\n",
    "\n",
    "# TODO\n",
    "#   - create DocumentIndexClient object\n",
    "#   - create DocumentIndexRetriever object\n",
    "#   - create MultipleChunkRetrieverQa object\n",
    "#   - create RetrieverBasedQaInput object\n",
    "#   - create InMemoryTracer object\n",
    "#   - run MultipleChunkRetrieverQa (RetrieverBasedQaInput, InMemoryTracer)\n"
   ]
  }
 ],
 "metadata": {
  "kernelspec": {
   "display_name": ".venv",
   "language": "python",
   "name": "python3"
  },
  "language_info": {
   "codemirror_mode": {
    "name": "ipython",
    "version": 3
   },
   "file_extension": ".py",
   "mimetype": "text/x-python",
   "name": "python",
   "nbconvert_exporter": "python",
   "pygments_lexer": "ipython3",
   "version": "3.12.4"
  }
 },
 "nbformat": 4,
 "nbformat_minor": 2
}
