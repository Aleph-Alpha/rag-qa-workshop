{
 "cells": [
  {
   "cell_type": "code",
   "metadata": {
    "ExecuteTime": {
     "end_time": "2024-11-27T13:15:49.323327Z",
     "start_time": "2024-11-27T13:15:48.866512Z"
    }
   },
   "source": [
    "%load_ext autoreload\n",
    "%autoreload 2\n",
    "\n",
    "from dotenv import load_dotenv, find_dotenv\n",
    "load_dotenv(find_dotenv())"
   ],
   "outputs": [
    {
     "name": "stdout",
     "output_type": "stream",
     "text": [
      "The autoreload extension is already loaded. To reload it, use:\n",
      "  %reload_ext autoreload\n"
     ]
    },
    {
     "data": {
      "text/plain": [
       "True"
      ]
     },
     "execution_count": 7,
     "metadata": {},
     "output_type": "execute_result"
    }
   ],
   "execution_count": 7
  },
  {
   "cell_type": "code",
   "metadata": {
    "ExecuteTime": {
     "end_time": "2024-11-27T13:15:49.356898Z",
     "start_time": "2024-11-27T13:15:49.342133Z"
    }
   },
   "source": [
    "import os\n",
    "AA_TOKEN=os.getenv(\"AA_TOKEN\")\n",
    "NAMESPACE=os.getenv(\"AA_NAMESPACE\")"
   ],
   "outputs": [],
   "execution_count": 8
  },
  {
   "cell_type": "markdown",
   "metadata": {},
   "source": [
    "# Question & Answer"
   ]
  },
  {
   "cell_type": "markdown",
   "metadata": {},
   "source": [
    "## SingleChunkQA"
   ]
  },
  {
   "cell_type": "code",
   "metadata": {
    "ExecuteTime": {
     "end_time": "2024-11-27T13:16:51.813235Z",
     "start_time": "2024-11-27T13:16:48.527465Z"
    }
   },
   "source": [
    "from typing import Sequence\n",
    "from intelligence_layer.core import (\n",
    "    Task,\n",
    "    TextHighlight,\n",
    "    CompleteInput,\n",
    "    TaskSpan,\n",
    "    NoOpTracer,\n",
    "    TextHighlightInput, Llama3InstructModel,\n",
    ")\n",
    "from pydantic import BaseModel\n",
    "\n",
    "\n",
    "class Input(BaseModel):\n",
    "    chunk: str\n",
    "    question: str\n",
    "\n",
    "\n",
    "class Output(BaseModel):\n",
    "    answer: str\n",
    "    highlights: Sequence[str]\n",
    "\n",
    "\n",
    "class SingleChunkQaTask(Task[Input, Output]):\n",
    "    def __init__(\n",
    "        self,\n",
    "        model: Llama3InstructModel | None = None,\n",
    "    ):\n",
    "        super().__init__()\n",
    "        self._model = model or Llama3InstructModel(\"pharia-1-llm-7b-control\")\n",
    "\n",
    "    def do_run(self, input: Input, task_span: TaskSpan) -> Output:\n",
    "        instruction = f'Beantworte die Frage anhand des Textes. Wenn sich die Frage nicht mit dem Text beantworten lässt, antworte \"Keine Antwort in den Quellen\".\\nQuellen: {input.chunk}\\nFrage: {input.question}'\n",
    "        prompt = self._model.to_instruct_prompt(instruction=instruction)\n",
    "        input = CompleteInput(prompt=prompt)\n",
    "        output = self._model.complete(input, task_span)\n",
    "\n",
    "        highlight_task = TextHighlight(model=self._model)\n",
    "        highlight_input = TextHighlightInput(\n",
    "            rich_prompt=prompt,\n",
    "            target=output.completion,\n",
    "        )\n",
    "        highlight_output = highlight_task.run(highlight_input, task_span)\n",
    "\n",
    "        print(prompt.items)\n",
    "        return Output(\n",
    "            answer=output.completion,\n",
    "            highlights=[\n",
    "                prompt.items[0].text[highlight.start : highlight.end]\n",
    "                for highlight in highlight_output.highlights\n",
    "                if highlight.score > 0\n",
    "            ],\n",
    "        )\n",
    "\n",
    "\n",
    "question = \"Wer mag Pizza?\"\n",
    "chunk = \"Tina mag nicht so gern Pizza. Mike aber mag Pizza sehr.\"\n",
    "\n",
    "task = SingleChunkQaTask()\n",
    "result = task.run(input=Input(chunk=chunk, question=question), tracer=NoOpTracer())\n",
    "result"
   ],
   "outputs": [
    {
     "name": "stdout",
     "output_type": "stream",
     "text": [
      "[Text(text='<|begin_of_text|><|start_header_id|>user<|end_header_id|>\\n\\nBeantworte die Frage anhand des Textes. Wenn sich die Frage nicht mit dem Text beantworten lässt, antworte \"Keine Antwort in den Quellen\".\\nQuellen: Tina mag nicht so gern Pizza. Mike aber mag Pizza sehr.\\nFrage: Wer mag Pizza?<|eot_id|><|start_header_id|>assistant<|end_header_id|>\\n\\n', controls=[])]\n"
     ]
    },
    {
     "data": {
      "text/plain": [
       "Output(answer=' Mike mag Pizza.', highlights=['<|begin_of_text|><|start_header_id|>user<|end_header_id|>', 'Textes.', 'Pizza.', 'Mike', 'Pizza?<|eot_id|><|start_header_id|>assistant<|end_header_id|>'])"
      ]
     },
     "execution_count": 13,
     "metadata": {},
     "output_type": "execute_result"
    }
   ],
   "execution_count": 13
  },
  {
   "cell_type": "code",
   "metadata": {
    "ExecuteTime": {
     "end_time": "2024-11-27T13:17:15.834461Z",
     "start_time": "2024-11-27T13:17:15.816407Z"
    }
   },
   "source": [
    "chunk\n",
    "result.highlights"
   ],
   "outputs": [
    {
     "data": {
      "text/plain": [
       "['<|begin_of_text|><|start_header_id|>user<|end_header_id|>',\n",
       " 'Textes.',\n",
       " 'Pizza.',\n",
       " 'Mike',\n",
       " 'Pizza?<|eot_id|><|start_header_id|>assistant<|end_header_id|>']"
      ]
     },
     "execution_count": 14,
     "metadata": {},
     "output_type": "execute_result"
    }
   ],
   "execution_count": 14
  },
  {
   "cell_type": "markdown",
   "metadata": {},
   "source": [
    "## MultiChunkRetrieverQA"
   ]
  },
  {
   "cell_type": "code",
   "metadata": {
    "ExecuteTime": {
     "end_time": "2024-11-27T13:19:25.360818Z",
     "start_time": "2024-11-27T13:19:25.348097Z"
    }
   },
   "source": [
    "collection_name = \"rag-collection\"\n",
    "index_name = \"rag-index1\"\n",
    "number_of_chunks = 5\n",
    "query = \"Was ist nohtyp?\""
   ],
   "outputs": [],
   "execution_count": 18
  },
  {
   "cell_type": "code",
   "metadata": {
    "ExecuteTime": {
     "end_time": "2024-11-27T13:19:43.544915Z",
     "start_time": "2024-11-27T13:19:25.732067Z"
    }
   },
   "source": [
    "from intelligence_layer.connectors import (\n",
    "    DocumentIndexClient,\n",
    "    DocumentIndexRetriever,\n",
    ")\n",
    "from intelligence_layer.core import InMemoryTracer\n",
    "from intelligence_layer.examples import MultipleChunkRetrieverQa, RetrieverBasedQaInput\n",
    "\n",
    "\n",
    "document_index = DocumentIndexClient(\n",
    "    token=AA_TOKEN,\n",
    ")\n",
    "\n",
    "document_index_retriever = DocumentIndexRetriever(\n",
    "    document_index=document_index,\n",
    "    index_name=index_name,\n",
    "    namespace=NAMESPACE,\n",
    "    collection=collection_name,\n",
    "    k=5,\n",
    "    threshold=0.5,\n",
    ")\n",
    "\n",
    "model = Llama3InstructModel(\"pharia-1-llm-7b-control\")\n",
    "retriever_qa = MultipleChunkRetrieverQa(\n",
    "    document_index_retriever, \n",
    "    insert_chunk_number=number_of_chunks,\n",
    ")\n",
    "\n",
    "input = RetrieverBasedQaInput(\n",
    "    question=query,\n",
    ")\n",
    "tracer = InMemoryTracer()\n",
    "\n",
    "output = retriever_qa.run(input, tracer)\n",
    "print(\"Answer: \", output.answer)\n",
    "print(\"-\"*50)\n",
    "print(\"Information:\")\n",
    "print(output.model_dump_json(indent=2))"
   ],
   "outputs": [
    {
     "name": "stdout",
     "output_type": "stream",
     "text": [
      "Answer:  nohtyp ist eine Programmiersprache, die entwickelt wurde, um Programmierer herauszufordern und zu unterhalten.\n",
      "--------------------------------------------------\n",
      "Information:\n",
      "{\n",
      "  \"answer\": \"nohtyp ist eine Programmiersprache, die entwickelt wurde, um Programmierer herauszufordern und zu unterhalten.\",\n",
      "  \"sources\": [\n",
      "    {\n",
      "      \"chunk\": {\n",
      "        \"document_id\": {\n",
      "          \"collection_path\": {\n",
      "            \"namespace\": \"aleph-alpha\",\n",
      "            \"collection\": \"rag-collection\"\n",
      "          },\n",
      "          \"document_name\": \"Erfunde-Programmiersprache.docx\"\n",
      "        },\n",
      "        \"chunk\": \"Einführung in Nohtyp\\nWillkommen bei Nohtyp, der Programmiersprache, die alles auf den Kopf stellt! Nohtyp ist eine skurrile und einzigartige Sprache, die entwickelt wurde, um Programmierer herauszufordern und zu unterhalten. Hier sind die Grundlagen, um loszulegen.\\n1. Syntax\\nDie Syntax von Nohtyp ist ungewöhnlich und erfordert ein Umdenken. Hier sind einige grundlegende Regeln:\\nRückwärts-Schreiben: Alle Befehle und Variablennamen müssen rückwärts geschrieben werden.\\nKein Leerzeichen: Leerzeichen sind nicht erlaubt. Verwenden Sie stattdessen Unterstriche _.\\nZahlen in Worten: Zahlen müssen als Wörter geschrieben werden (z.B. eins, zwei, drei).\\n2. Variablen\\nVariablen in Nohtyp werden wie folgt deklariert:\\nniam_var = \\\"Hallo Welt\\\"\\nHier ist niam_var die Variable main_var, rückwärts geschrieben.\\n3. Datentypen\\nNohtyp unterstützt die folgenden Datentypen:\\nZeichenkette: Zeichenketten werden in doppelte Anführungszeichen gesetzt.\\nGanzzahlen: Ganzzahlen werden als Wörter geschrieben.\\nListen: Listen werden in eckige Klammern gesetzt und durch Kommas getrennt.\\nBeispiel:\\n4. Funktionen\\nFunktionen in Nohtyp werden wie folgt definiert:\\nHier ist noitcnuf_niam die Funktion main_function, rückwärts geschrieben.\\n5. Kontrollstrukturen\\nNohtyp verwendet ungewöhnliche Kontrollstrukturen:\\nWenn-Bedingung: fi\\nSchleife: elihw\\n6. Ein einfaches Programm\\nHier ist ein einfaches Nohtyp-Programm, das “Hallo Welt” ausgibt:\\n7. Kommentare\\nKommentare werden mit § eingeleitet und sind einzeilig:\\nViel Spaß beim Programmieren mit Nohtyp! Es ist eine Herausforderung, aber auch eine unterhaltsame Art, Ihre Programmierfähigkeiten zu testen. 😊\\n\\n\\n\\n\\n\\n\\n\",\n",
      "        \"indices\": [\n",
      "          0,\n",
      "          1631\n",
      "        ]\n",
      "      },\n",
      "      \"highlights\": [\n",
      "        {\n",
      "          \"start\": 21,\n",
      "          \"end\": 98,\n",
      "          \"score\": 0.2058184017061816\n",
      "        },\n",
      "        {\n",
      "          \"start\": 99,\n",
      "          \"end\": 224,\n",
      "          \"score\": 1.0\n",
      "        }\n",
      "      ]\n",
      "    }\n",
      "  ],\n",
      "  \"search_results\": [\n",
      "    {\n",
      "      \"id\": {\n",
      "        \"collection_path\": {\n",
      "          \"namespace\": \"aleph-alpha\",\n",
      "          \"collection\": \"rag-collection\"\n",
      "        },\n",
      "        \"document_name\": \"Erfunde-Programmiersprache.docx\"\n",
      "      },\n",
      "      \"score\": 0.75571704,\n",
      "      \"document_chunk\": {\n",
      "        \"text\": \"Einführung in Nohtyp\\nWillkommen bei Nohtyp, der Programmiersprache, die alles auf den Kopf stellt! Nohtyp ist eine skurrile und einzigartige Sprache, die entwickelt wurde, um Programmierer herauszufordern und zu unterhalten. Hier sind die Grundlagen, um loszulegen.\\n1. Syntax\\nDie Syntax von Nohtyp ist ungewöhnlich und erfordert ein Umdenken. Hier sind einige grundlegende Regeln:\\nRückwärts-Schreiben: Alle Befehle und Variablennamen müssen rückwärts geschrieben werden.\\nKein Leerzeichen: Leerzeichen sind nicht erlaubt. Verwenden Sie stattdessen Unterstriche _.\",\n",
      "        \"start\": 0,\n",
      "        \"end\": 561,\n",
      "        \"metadata\": null\n",
      "      }\n",
      "    },\n",
      "    {\n",
      "      \"id\": {\n",
      "        \"collection_path\": {\n",
      "          \"namespace\": \"aleph-alpha\",\n",
      "          \"collection\": \"rag-collection\"\n",
      "        },\n",
      "        \"document_name\": \"Erfunde-Programmiersprache.docx\"\n",
      "      },\n",
      "      \"score\": 0.6946256,\n",
      "      \"document_chunk\": {\n",
      "        \"text\": \"4. Funktionen\\nFunktionen in Nohtyp werden wie folgt definiert:\\nHier ist noitcnuf_niam die Funktion main_function, rückwärts geschrieben.\\n5. Kontrollstrukturen\\nNohtyp verwendet ungewöhnliche Kontrollstrukturen:\\nWenn-Bedingung: fi\\nSchleife: elihw\\n6. Ein einfaches Programm\\nHier ist ein einfaches Nohtyp-Programm, das “Hallo Welt” ausgibt:\\n7. Kommentare\\nKommentare werden mit § eingeleitet und sind einzeilig:\",\n",
      "        \"start\": 1073,\n",
      "        \"end\": 1478,\n",
      "        \"metadata\": null\n",
      "      }\n",
      "    },\n",
      "    {\n",
      "      \"id\": {\n",
      "        \"collection_path\": {\n",
      "          \"namespace\": \"aleph-alpha\",\n",
      "          \"collection\": \"rag-collection\"\n",
      "        },\n",
      "        \"document_name\": \"Erfunde-Programmiersprache.docx\"\n",
      "      },\n",
      "      \"score\": 0.623794,\n",
      "      \"document_chunk\": {\n",
      "        \"text\": \"Viel Spaß beim Programmieren mit Nohtyp! Es ist eine Herausforderung, aber auch eine unterhaltsame Art, Ihre Programmierfähigkeiten zu testen. 😊\",\n",
      "        \"start\": 1480,\n",
      "        \"end\": 1623,\n",
      "        \"metadata\": null\n",
      "      }\n",
      "    },\n",
      "    {\n",
      "      \"id\": {\n",
      "        \"collection_path\": {\n",
      "          \"namespace\": \"aleph-alpha\",\n",
      "          \"collection\": \"rag-collection\"\n",
      "        },\n",
      "        \"document_name\": \"Erfunde-Programmiersprache.docx\"\n",
      "      },\n",
      "      \"score\": 0.6085088,\n",
      "      \"document_chunk\": {\n",
      "        \"text\": \"Zahlen in Worten: Zahlen müssen als Wörter geschrieben werden (z.B. eins, zwei, drei).\\n2. Variablen\\nVariablen in Nohtyp werden wie folgt deklariert:\\nniam_var = \\\"Hallo Welt\\\"\\nHier ist niam_var die Variable main_var, rückwärts geschrieben.\\n3. Datentypen\\nNohtyp unterstützt die folgenden Datentypen:\\nZeichenkette: Zeichenketten werden in doppelte Anführungszeichen gesetzt.\\nGanzzahlen: Ganzzahlen werden als Wörter geschrieben.\\nListen: Listen werden in eckige Klammern gesetzt und durch Kommas getrennt.\\nBeispiel:\",\n",
      "        \"start\": 563,\n",
      "        \"end\": 1071,\n",
      "        \"metadata\": null\n",
      "      }\n",
      "    }\n",
      "  ]\n",
      "}\n"
     ]
    }
   ],
   "execution_count": 19
  },
  {
   "cell_type": "code",
   "metadata": {
    "ExecuteTime": {
     "end_time": "2024-11-27T13:21:50.929655Z",
     "start_time": "2024-11-27T13:21:50.860915Z"
    }
   },
   "source": "tracer.submit_to_trace_viewer()",
   "outputs": [
    {
     "data": {
      "text/plain": [
       "\u001B[31m╭─\u001B[0m\u001B[31m──────────────────────────────\u001B[0m\u001B[31m \u001B[0m\u001B[1;31mTraceback \u001B[0m\u001B[1;2;31m(most recent call last)\u001B[0m\u001B[31m \u001B[0m\u001B[31m───────────────────────────────\u001B[0m\u001B[31m─╮\u001B[0m\n",
       "\u001B[31m│\u001B[0m in \u001B[92m<module>\u001B[0m:\u001B[94m1\u001B[0m                                                                                    \u001B[31m│\u001B[0m\n",
       "\u001B[31m│\u001B[0m                                                                                                  \u001B[31m│\u001B[0m\n",
       "\u001B[31m│\u001B[0m \u001B[31m❱ \u001B[0m1 tracer.submit_to_trace_viewer()                                                              \u001B[31m│\u001B[0m\n",
       "\u001B[31m│\u001B[0m   \u001B[2m2 \u001B[0m                                                                                             \u001B[31m│\u001B[0m\n",
       "\u001B[31m│\u001B[0m                                                                                                  \u001B[31m│\u001B[0m\n",
       "\u001B[31m│\u001B[0m \u001B[2;33m/Users/jens.luecke/Library/Caches/pypoetry/virtualenvs/rag-qa-workshop-xsC4sNM2-py3.12/lib/pytho\u001B[0m \u001B[31m│\u001B[0m\n",
       "\u001B[31m│\u001B[0m \u001B[2;33mn3.12/site-packages/intelligence_layer/core/tracer/\u001B[0m\u001B[1;33mtracer.py\u001B[0m:\u001B[94m211\u001B[0m in \u001B[92msubmit_to_trace_viewer\u001B[0m       \u001B[31m│\u001B[0m\n",
       "\u001B[31m│\u001B[0m                                                                                                  \u001B[31m│\u001B[0m\n",
       "\u001B[31m│\u001B[0m   \u001B[2m208 \u001B[0m\u001B[2m│   │   \u001B[0m...                                                                                \u001B[31m│\u001B[0m\n",
       "\u001B[31m│\u001B[0m   \u001B[2m209 \u001B[0m\u001B[2m│   \u001B[0m                                                                                       \u001B[31m│\u001B[0m\n",
       "\u001B[31m│\u001B[0m   \u001B[2m210 \u001B[0m\u001B[2m│   \u001B[0m\u001B[94mdef\u001B[0m \u001B[92msubmit_to_trace_viewer\u001B[0m(\u001B[96mself\u001B[0m) -> \u001B[96mbool\u001B[0m:                                              \u001B[31m│\u001B[0m\n",
       "\u001B[31m│\u001B[0m \u001B[31m❱ \u001B[0m211 \u001B[2m│   │   \u001B[0m\u001B[94mreturn\u001B[0m submit_to_trace_viewer(\u001B[96mself\u001B[0m.export_for_viewing())                           \u001B[31m│\u001B[0m\n",
       "\u001B[31m│\u001B[0m   \u001B[2m212 \u001B[0m                                                                                           \u001B[31m│\u001B[0m\n",
       "\u001B[31m│\u001B[0m   \u001B[2m213 \u001B[0m                                                                                           \u001B[31m│\u001B[0m\n",
       "\u001B[31m│\u001B[0m   \u001B[2m214 \u001B[0m\u001B[94mclass\u001B[0m \u001B[4;92mErrorValue\u001B[0m(BaseModel):                                                               \u001B[31m│\u001B[0m\n",
       "\u001B[31m│\u001B[0m                                                                                                  \u001B[31m│\u001B[0m\n",
       "\u001B[31m│\u001B[0m \u001B[2;33m/Users/jens.luecke/Library/Caches/pypoetry/virtualenvs/rag-qa-workshop-xsC4sNM2-py3.12/lib/pytho\u001B[0m \u001B[31m│\u001B[0m\n",
       "\u001B[31m│\u001B[0m \u001B[2;33mn3.12/site-packages/intelligence_layer/core/tracer/\u001B[0m\u001B[1;33min_memory_tracer.py\u001B[0m:\u001B[94m88\u001B[0m in \u001B[92mexport_for_viewing\u001B[0m  \u001B[31m│\u001B[0m\n",
       "\u001B[31m│\u001B[0m                                                                                                  \u001B[31m│\u001B[0m\n",
       "\u001B[31m│\u001B[0m   \u001B[2m 85 \u001B[0m\u001B[2m│   │   │   │   │   \u001B[0m\u001B[33m\"\u001B[0m\u001B[33mFound a log outside of a span. Logs can only be part of a span.\u001B[0m\u001B[33m\"\u001B[0m      \u001B[31m│\u001B[0m\n",
       "\u001B[31m│\u001B[0m   \u001B[2m 86 \u001B[0m\u001B[2m│   │   │   │   \u001B[0m)                                                                          \u001B[31m│\u001B[0m\n",
       "\u001B[31m│\u001B[0m   \u001B[2m 87 \u001B[0m\u001B[2m│   │   │   \u001B[0m\u001B[94melse\u001B[0m:                                                                          \u001B[31m│\u001B[0m\n",
       "\u001B[31m│\u001B[0m \u001B[31m❱ \u001B[0m 88 \u001B[2m│   │   │   │   \u001B[0mexported_root_spans.extend(entry.export_for_viewing())                     \u001B[31m│\u001B[0m\n",
       "\u001B[31m│\u001B[0m   \u001B[2m 89 \u001B[0m\u001B[2m│   │   \u001B[0m\u001B[94mreturn\u001B[0m exported_root_spans                                                         \u001B[31m│\u001B[0m\n",
       "\u001B[31m│\u001B[0m   \u001B[2m 90 \u001B[0m                                                                                           \u001B[31m│\u001B[0m\n",
       "\u001B[31m│\u001B[0m   \u001B[2m 91 \u001B[0m                                                                                           \u001B[31m│\u001B[0m\n",
       "\u001B[31m│\u001B[0m                                                                                                  \u001B[31m│\u001B[0m\n",
       "\u001B[31m│\u001B[0m \u001B[2;33m/Users/jens.luecke/Library/Caches/pypoetry/virtualenvs/rag-qa-workshop-xsC4sNM2-py3.12/lib/pytho\u001B[0m \u001B[31m│\u001B[0m\n",
       "\u001B[31m│\u001B[0m \u001B[2;33mn3.12/site-packages/intelligence_layer/core/tracer/\u001B[0m\u001B[1;33min_memory_tracer.py\u001B[0m:\u001B[94m171\u001B[0m in \u001B[92mexport_for_viewing\u001B[0m \u001B[31m│\u001B[0m\n",
       "\u001B[31m│\u001B[0m                                                                                                  \u001B[31m│\u001B[0m\n",
       "\u001B[31m│\u001B[0m   \u001B[2m168 \u001B[0m\u001B[2m│   │   │   \u001B[0m\u001B[94mif\u001B[0m \u001B[96misinstance\u001B[0m(entry, LogEntry):                                                \u001B[31m│\u001B[0m\n",
       "\u001B[31m│\u001B[0m   \u001B[2m169 \u001B[0m\u001B[2m│   │   │   │   \u001B[0mlogs.append(entry)                                                         \u001B[31m│\u001B[0m\n",
       "\u001B[31m│\u001B[0m   \u001B[2m170 \u001B[0m\u001B[2m│   │   │   \u001B[0m\u001B[94melse\u001B[0m:                                                                          \u001B[31m│\u001B[0m\n",
       "\u001B[31m│\u001B[0m \u001B[31m❱ \u001B[0m171 \u001B[2m│   │   │   │   \u001B[0mexported_spans.extend(entry.export_for_viewing())                          \u001B[31m│\u001B[0m\n",
       "\u001B[31m│\u001B[0m   \u001B[2m172 \u001B[0m\u001B[2m│   │   \u001B[0mexported_spans.append(                                                             \u001B[31m│\u001B[0m\n",
       "\u001B[31m│\u001B[0m   \u001B[2m173 \u001B[0m\u001B[2m│   │   │   \u001B[0mExportedSpan(                                                                  \u001B[31m│\u001B[0m\n",
       "\u001B[31m│\u001B[0m   \u001B[2m174 \u001B[0m\u001B[2m│   │   │   │   \u001B[0mcontext=\u001B[96mself\u001B[0m.context,                                                      \u001B[31m│\u001B[0m\n",
       "\u001B[31m│\u001B[0m                                                                                                  \u001B[31m│\u001B[0m\n",
       "\u001B[31m│\u001B[0m \u001B[2;33m/Users/jens.luecke/Library/Caches/pypoetry/virtualenvs/rag-qa-workshop-xsC4sNM2-py3.12/lib/pytho\u001B[0m \u001B[31m│\u001B[0m\n",
       "\u001B[31m│\u001B[0m \u001B[2;33mn3.12/site-packages/intelligence_layer/core/tracer/\u001B[0m\u001B[1;33min_memory_tracer.py\u001B[0m:\u001B[94m173\u001B[0m in \u001B[92mexport_for_viewing\u001B[0m \u001B[31m│\u001B[0m\n",
       "\u001B[31m│\u001B[0m                                                                                                  \u001B[31m│\u001B[0m\n",
       "\u001B[31m│\u001B[0m   \u001B[2m170 \u001B[0m\u001B[2m│   │   │   \u001B[0m\u001B[94melse\u001B[0m:                                                                          \u001B[31m│\u001B[0m\n",
       "\u001B[31m│\u001B[0m   \u001B[2m171 \u001B[0m\u001B[2m│   │   │   │   \u001B[0mexported_spans.extend(entry.export_for_viewing())                          \u001B[31m│\u001B[0m\n",
       "\u001B[31m│\u001B[0m   \u001B[2m172 \u001B[0m\u001B[2m│   │   \u001B[0mexported_spans.append(                                                             \u001B[31m│\u001B[0m\n",
       "\u001B[31m│\u001B[0m \u001B[31m❱ \u001B[0m173 \u001B[2m│   │   │   \u001B[0mExportedSpan(                                                                  \u001B[31m│\u001B[0m\n",
       "\u001B[31m│\u001B[0m   \u001B[2m174 \u001B[0m\u001B[2m│   │   │   │   \u001B[0mcontext=\u001B[96mself\u001B[0m.context,                                                      \u001B[31m│\u001B[0m\n",
       "\u001B[31m│\u001B[0m   \u001B[2m175 \u001B[0m\u001B[2m│   │   │   │   \u001B[0mname=\u001B[96mself\u001B[0m.name,                                                            \u001B[31m│\u001B[0m\n",
       "\u001B[31m│\u001B[0m   \u001B[2m176 \u001B[0m\u001B[2m│   │   │   │   \u001B[0mparent_id=\u001B[96mself\u001B[0m.parent_id,                                                  \u001B[31m│\u001B[0m\n",
       "\u001B[31m│\u001B[0m                                                                                                  \u001B[31m│\u001B[0m\n",
       "\u001B[31m│\u001B[0m \u001B[2;33m/Users/jens.luecke/Library/Caches/pypoetry/virtualenvs/rag-qa-workshop-xsC4sNM2-py3.12/lib/pytho\u001B[0m \u001B[31m│\u001B[0m\n",
       "\u001B[31m│\u001B[0m \u001B[2;33mn3.12/site-packages/pydantic/\u001B[0m\u001B[1;33mmain.py\u001B[0m:\u001B[94m193\u001B[0m in \u001B[92m__init__\u001B[0m                                             \u001B[31m│\u001B[0m\n",
       "\u001B[31m│\u001B[0m                                                                                                  \u001B[31m│\u001B[0m\n",
       "\u001B[31m│\u001B[0m   \u001B[2m 190 \u001B[0m\u001B[2;33m│   │   \u001B[0m\u001B[33m\"\"\"\u001B[0m                                                                               \u001B[31m│\u001B[0m\n",
       "\u001B[31m│\u001B[0m   \u001B[2m 191 \u001B[0m\u001B[2m│   │   \u001B[0m\u001B[2m# `__tracebackhide__` tells pytest and some other tools to omit this function fr\u001B[0m  \u001B[31m│\u001B[0m\n",
       "\u001B[31m│\u001B[0m   \u001B[2m 192 \u001B[0m\u001B[2m│   │   \u001B[0m__tracebackhide__ = \u001B[94mTrue\u001B[0m                                                          \u001B[31m│\u001B[0m\n",
       "\u001B[31m│\u001B[0m \u001B[31m❱ \u001B[0m 193 \u001B[2m│   │   \u001B[0m\u001B[96mself\u001B[0m.__pydantic_validator__.validate_python(data, self_instance=\u001B[96mself\u001B[0m)             \u001B[31m│\u001B[0m\n",
       "\u001B[31m│\u001B[0m   \u001B[2m 194 \u001B[0m\u001B[2m│   \u001B[0m                                                                                      \u001B[31m│\u001B[0m\n",
       "\u001B[31m│\u001B[0m   \u001B[2m 195 \u001B[0m\u001B[2m│   \u001B[0m\u001B[2m# The following line sets a flag that we use to determine when `__init__` gets overr\u001B[0m  \u001B[31m│\u001B[0m\n",
       "\u001B[31m│\u001B[0m   \u001B[2m 196 \u001B[0m\u001B[2m│   \u001B[0m\u001B[92m__init__\u001B[0m.__pydantic_base_init__ = \u001B[94mTrue\u001B[0m  \u001B[2m# pyright: ignore[reportFunctionMemberAccess\u001B[0m  \u001B[31m│\u001B[0m\n",
       "\u001B[31m╰──────────────────────────────────────────────────────────────────────────────────────────────────╯\u001B[0m\n",
       "\u001B[1;91mValidationError: \u001B[0m\u001B[1;36m1\u001B[0m validation error for ExportedSpan\n",
       "attributes.TASK_SPAN\n",
       "  Input should be a valid dictionary or instance of TaskSpanAttributes \u001B[1m[\u001B[0m\u001B[33mtype\u001B[0m=\u001B[35mmodel_type\u001B[0m, \n",
       "\u001B[33minput_value\u001B[0m=\u001B[1;35mTaskSpanAttributes\u001B[0m\u001B[1m(\u001B[0m\u001B[33mtype\u001B[0m=<\u001B[33m...\u001B[0m\u001B[1;36m1071\u001B[0m, \u001B[33mmetadata\u001B[0m=\u001B[3;35mNone\u001B[0m\u001B[1m)\u001B[0m\u001B[1m)\u001B[0m\u001B[1m]\u001B[0m\u001B[1m)\u001B[0m\u001B[1m)\u001B[0m, \u001B[33minput_type\u001B[0m=\u001B[35mTaskSpanAttributes\u001B[0m\u001B[1m]\u001B[0m\n",
       "    For further information visit \u001B[4;94mhttps://errors.pydantic.dev/2.8/v/model_type\u001B[0m\n"
      ],
      "text/html": [
       "<pre style=\"white-space:pre;overflow-x:auto;line-height:normal;font-family:Menlo,'DejaVu Sans Mono',consolas,'Courier New',monospace\"><span style=\"color: #800000; text-decoration-color: #800000\">╭─────────────────────────────── </span><span style=\"color: #800000; text-decoration-color: #800000; font-weight: bold\">Traceback </span><span style=\"color: #bf7f7f; text-decoration-color: #bf7f7f; font-weight: bold\">(most recent call last)</span><span style=\"color: #800000; text-decoration-color: #800000\"> ────────────────────────────────╮</span>\n",
       "<span style=\"color: #800000; text-decoration-color: #800000\">│</span> in <span style=\"color: #00ff00; text-decoration-color: #00ff00\">&lt;module&gt;</span>:<span style=\"color: #0000ff; text-decoration-color: #0000ff\">1</span>                                                                                    <span style=\"color: #800000; text-decoration-color: #800000\">│</span>\n",
       "<span style=\"color: #800000; text-decoration-color: #800000\">│</span>                                                                                                  <span style=\"color: #800000; text-decoration-color: #800000\">│</span>\n",
       "<span style=\"color: #800000; text-decoration-color: #800000\">│</span> <span style=\"color: #800000; text-decoration-color: #800000\">❱ </span>1 tracer.submit_to_trace_viewer()                                                              <span style=\"color: #800000; text-decoration-color: #800000\">│</span>\n",
       "<span style=\"color: #800000; text-decoration-color: #800000\">│</span>   <span style=\"color: #7f7f7f; text-decoration-color: #7f7f7f\">2 </span>                                                                                             <span style=\"color: #800000; text-decoration-color: #800000\">│</span>\n",
       "<span style=\"color: #800000; text-decoration-color: #800000\">│</span>                                                                                                  <span style=\"color: #800000; text-decoration-color: #800000\">│</span>\n",
       "<span style=\"color: #800000; text-decoration-color: #800000\">│</span> <span style=\"color: #bfbf7f; text-decoration-color: #bfbf7f\">/Users/jens.luecke/Library/Caches/pypoetry/virtualenvs/rag-qa-workshop-xsC4sNM2-py3.12/lib/pytho</span> <span style=\"color: #800000; text-decoration-color: #800000\">│</span>\n",
       "<span style=\"color: #800000; text-decoration-color: #800000\">│</span> <span style=\"color: #bfbf7f; text-decoration-color: #bfbf7f\">n3.12/site-packages/intelligence_layer/core/tracer/</span><span style=\"color: #808000; text-decoration-color: #808000; font-weight: bold\">tracer.py</span>:<span style=\"color: #0000ff; text-decoration-color: #0000ff\">211</span> in <span style=\"color: #00ff00; text-decoration-color: #00ff00\">submit_to_trace_viewer</span>       <span style=\"color: #800000; text-decoration-color: #800000\">│</span>\n",
       "<span style=\"color: #800000; text-decoration-color: #800000\">│</span>                                                                                                  <span style=\"color: #800000; text-decoration-color: #800000\">│</span>\n",
       "<span style=\"color: #800000; text-decoration-color: #800000\">│</span>   <span style=\"color: #7f7f7f; text-decoration-color: #7f7f7f\">208 </span><span style=\"color: #7f7f7f; text-decoration-color: #7f7f7f\">│   │   </span>...                                                                                <span style=\"color: #800000; text-decoration-color: #800000\">│</span>\n",
       "<span style=\"color: #800000; text-decoration-color: #800000\">│</span>   <span style=\"color: #7f7f7f; text-decoration-color: #7f7f7f\">209 </span><span style=\"color: #7f7f7f; text-decoration-color: #7f7f7f\">│   </span>                                                                                       <span style=\"color: #800000; text-decoration-color: #800000\">│</span>\n",
       "<span style=\"color: #800000; text-decoration-color: #800000\">│</span>   <span style=\"color: #7f7f7f; text-decoration-color: #7f7f7f\">210 </span><span style=\"color: #7f7f7f; text-decoration-color: #7f7f7f\">│   </span><span style=\"color: #0000ff; text-decoration-color: #0000ff\">def</span> <span style=\"color: #00ff00; text-decoration-color: #00ff00\">submit_to_trace_viewer</span>(<span style=\"color: #00ffff; text-decoration-color: #00ffff\">self</span>) -&gt; <span style=\"color: #00ffff; text-decoration-color: #00ffff\">bool</span>:                                              <span style=\"color: #800000; text-decoration-color: #800000\">│</span>\n",
       "<span style=\"color: #800000; text-decoration-color: #800000\">│</span> <span style=\"color: #800000; text-decoration-color: #800000\">❱ </span>211 <span style=\"color: #7f7f7f; text-decoration-color: #7f7f7f\">│   │   </span><span style=\"color: #0000ff; text-decoration-color: #0000ff\">return</span> submit_to_trace_viewer(<span style=\"color: #00ffff; text-decoration-color: #00ffff\">self</span>.export_for_viewing())                           <span style=\"color: #800000; text-decoration-color: #800000\">│</span>\n",
       "<span style=\"color: #800000; text-decoration-color: #800000\">│</span>   <span style=\"color: #7f7f7f; text-decoration-color: #7f7f7f\">212 </span>                                                                                           <span style=\"color: #800000; text-decoration-color: #800000\">│</span>\n",
       "<span style=\"color: #800000; text-decoration-color: #800000\">│</span>   <span style=\"color: #7f7f7f; text-decoration-color: #7f7f7f\">213 </span>                                                                                           <span style=\"color: #800000; text-decoration-color: #800000\">│</span>\n",
       "<span style=\"color: #800000; text-decoration-color: #800000\">│</span>   <span style=\"color: #7f7f7f; text-decoration-color: #7f7f7f\">214 </span><span style=\"color: #0000ff; text-decoration-color: #0000ff\">class</span> <span style=\"color: #00ff00; text-decoration-color: #00ff00; text-decoration: underline\">ErrorValue</span>(BaseModel):                                                               <span style=\"color: #800000; text-decoration-color: #800000\">│</span>\n",
       "<span style=\"color: #800000; text-decoration-color: #800000\">│</span>                                                                                                  <span style=\"color: #800000; text-decoration-color: #800000\">│</span>\n",
       "<span style=\"color: #800000; text-decoration-color: #800000\">│</span> <span style=\"color: #bfbf7f; text-decoration-color: #bfbf7f\">/Users/jens.luecke/Library/Caches/pypoetry/virtualenvs/rag-qa-workshop-xsC4sNM2-py3.12/lib/pytho</span> <span style=\"color: #800000; text-decoration-color: #800000\">│</span>\n",
       "<span style=\"color: #800000; text-decoration-color: #800000\">│</span> <span style=\"color: #bfbf7f; text-decoration-color: #bfbf7f\">n3.12/site-packages/intelligence_layer/core/tracer/</span><span style=\"color: #808000; text-decoration-color: #808000; font-weight: bold\">in_memory_tracer.py</span>:<span style=\"color: #0000ff; text-decoration-color: #0000ff\">88</span> in <span style=\"color: #00ff00; text-decoration-color: #00ff00\">export_for_viewing</span>  <span style=\"color: #800000; text-decoration-color: #800000\">│</span>\n",
       "<span style=\"color: #800000; text-decoration-color: #800000\">│</span>                                                                                                  <span style=\"color: #800000; text-decoration-color: #800000\">│</span>\n",
       "<span style=\"color: #800000; text-decoration-color: #800000\">│</span>   <span style=\"color: #7f7f7f; text-decoration-color: #7f7f7f\"> 85 </span><span style=\"color: #7f7f7f; text-decoration-color: #7f7f7f\">│   │   │   │   │   </span><span style=\"color: #808000; text-decoration-color: #808000\">\"Found a log outside of a span. Logs can only be part of a span.\"</span>      <span style=\"color: #800000; text-decoration-color: #800000\">│</span>\n",
       "<span style=\"color: #800000; text-decoration-color: #800000\">│</span>   <span style=\"color: #7f7f7f; text-decoration-color: #7f7f7f\"> 86 </span><span style=\"color: #7f7f7f; text-decoration-color: #7f7f7f\">│   │   │   │   </span>)                                                                          <span style=\"color: #800000; text-decoration-color: #800000\">│</span>\n",
       "<span style=\"color: #800000; text-decoration-color: #800000\">│</span>   <span style=\"color: #7f7f7f; text-decoration-color: #7f7f7f\"> 87 </span><span style=\"color: #7f7f7f; text-decoration-color: #7f7f7f\">│   │   │   </span><span style=\"color: #0000ff; text-decoration-color: #0000ff\">else</span>:                                                                          <span style=\"color: #800000; text-decoration-color: #800000\">│</span>\n",
       "<span style=\"color: #800000; text-decoration-color: #800000\">│</span> <span style=\"color: #800000; text-decoration-color: #800000\">❱ </span> 88 <span style=\"color: #7f7f7f; text-decoration-color: #7f7f7f\">│   │   │   │   </span>exported_root_spans.extend(entry.export_for_viewing())                     <span style=\"color: #800000; text-decoration-color: #800000\">│</span>\n",
       "<span style=\"color: #800000; text-decoration-color: #800000\">│</span>   <span style=\"color: #7f7f7f; text-decoration-color: #7f7f7f\"> 89 </span><span style=\"color: #7f7f7f; text-decoration-color: #7f7f7f\">│   │   </span><span style=\"color: #0000ff; text-decoration-color: #0000ff\">return</span> exported_root_spans                                                         <span style=\"color: #800000; text-decoration-color: #800000\">│</span>\n",
       "<span style=\"color: #800000; text-decoration-color: #800000\">│</span>   <span style=\"color: #7f7f7f; text-decoration-color: #7f7f7f\"> 90 </span>                                                                                           <span style=\"color: #800000; text-decoration-color: #800000\">│</span>\n",
       "<span style=\"color: #800000; text-decoration-color: #800000\">│</span>   <span style=\"color: #7f7f7f; text-decoration-color: #7f7f7f\"> 91 </span>                                                                                           <span style=\"color: #800000; text-decoration-color: #800000\">│</span>\n",
       "<span style=\"color: #800000; text-decoration-color: #800000\">│</span>                                                                                                  <span style=\"color: #800000; text-decoration-color: #800000\">│</span>\n",
       "<span style=\"color: #800000; text-decoration-color: #800000\">│</span> <span style=\"color: #bfbf7f; text-decoration-color: #bfbf7f\">/Users/jens.luecke/Library/Caches/pypoetry/virtualenvs/rag-qa-workshop-xsC4sNM2-py3.12/lib/pytho</span> <span style=\"color: #800000; text-decoration-color: #800000\">│</span>\n",
       "<span style=\"color: #800000; text-decoration-color: #800000\">│</span> <span style=\"color: #bfbf7f; text-decoration-color: #bfbf7f\">n3.12/site-packages/intelligence_layer/core/tracer/</span><span style=\"color: #808000; text-decoration-color: #808000; font-weight: bold\">in_memory_tracer.py</span>:<span style=\"color: #0000ff; text-decoration-color: #0000ff\">171</span> in <span style=\"color: #00ff00; text-decoration-color: #00ff00\">export_for_viewing</span> <span style=\"color: #800000; text-decoration-color: #800000\">│</span>\n",
       "<span style=\"color: #800000; text-decoration-color: #800000\">│</span>                                                                                                  <span style=\"color: #800000; text-decoration-color: #800000\">│</span>\n",
       "<span style=\"color: #800000; text-decoration-color: #800000\">│</span>   <span style=\"color: #7f7f7f; text-decoration-color: #7f7f7f\">168 </span><span style=\"color: #7f7f7f; text-decoration-color: #7f7f7f\">│   │   │   </span><span style=\"color: #0000ff; text-decoration-color: #0000ff\">if</span> <span style=\"color: #00ffff; text-decoration-color: #00ffff\">isinstance</span>(entry, LogEntry):                                                <span style=\"color: #800000; text-decoration-color: #800000\">│</span>\n",
       "<span style=\"color: #800000; text-decoration-color: #800000\">│</span>   <span style=\"color: #7f7f7f; text-decoration-color: #7f7f7f\">169 </span><span style=\"color: #7f7f7f; text-decoration-color: #7f7f7f\">│   │   │   │   </span>logs.append(entry)                                                         <span style=\"color: #800000; text-decoration-color: #800000\">│</span>\n",
       "<span style=\"color: #800000; text-decoration-color: #800000\">│</span>   <span style=\"color: #7f7f7f; text-decoration-color: #7f7f7f\">170 </span><span style=\"color: #7f7f7f; text-decoration-color: #7f7f7f\">│   │   │   </span><span style=\"color: #0000ff; text-decoration-color: #0000ff\">else</span>:                                                                          <span style=\"color: #800000; text-decoration-color: #800000\">│</span>\n",
       "<span style=\"color: #800000; text-decoration-color: #800000\">│</span> <span style=\"color: #800000; text-decoration-color: #800000\">❱ </span>171 <span style=\"color: #7f7f7f; text-decoration-color: #7f7f7f\">│   │   │   │   </span>exported_spans.extend(entry.export_for_viewing())                          <span style=\"color: #800000; text-decoration-color: #800000\">│</span>\n",
       "<span style=\"color: #800000; text-decoration-color: #800000\">│</span>   <span style=\"color: #7f7f7f; text-decoration-color: #7f7f7f\">172 </span><span style=\"color: #7f7f7f; text-decoration-color: #7f7f7f\">│   │   </span>exported_spans.append(                                                             <span style=\"color: #800000; text-decoration-color: #800000\">│</span>\n",
       "<span style=\"color: #800000; text-decoration-color: #800000\">│</span>   <span style=\"color: #7f7f7f; text-decoration-color: #7f7f7f\">173 </span><span style=\"color: #7f7f7f; text-decoration-color: #7f7f7f\">│   │   │   </span>ExportedSpan(                                                                  <span style=\"color: #800000; text-decoration-color: #800000\">│</span>\n",
       "<span style=\"color: #800000; text-decoration-color: #800000\">│</span>   <span style=\"color: #7f7f7f; text-decoration-color: #7f7f7f\">174 </span><span style=\"color: #7f7f7f; text-decoration-color: #7f7f7f\">│   │   │   │   </span>context=<span style=\"color: #00ffff; text-decoration-color: #00ffff\">self</span>.context,                                                      <span style=\"color: #800000; text-decoration-color: #800000\">│</span>\n",
       "<span style=\"color: #800000; text-decoration-color: #800000\">│</span>                                                                                                  <span style=\"color: #800000; text-decoration-color: #800000\">│</span>\n",
       "<span style=\"color: #800000; text-decoration-color: #800000\">│</span> <span style=\"color: #bfbf7f; text-decoration-color: #bfbf7f\">/Users/jens.luecke/Library/Caches/pypoetry/virtualenvs/rag-qa-workshop-xsC4sNM2-py3.12/lib/pytho</span> <span style=\"color: #800000; text-decoration-color: #800000\">│</span>\n",
       "<span style=\"color: #800000; text-decoration-color: #800000\">│</span> <span style=\"color: #bfbf7f; text-decoration-color: #bfbf7f\">n3.12/site-packages/intelligence_layer/core/tracer/</span><span style=\"color: #808000; text-decoration-color: #808000; font-weight: bold\">in_memory_tracer.py</span>:<span style=\"color: #0000ff; text-decoration-color: #0000ff\">173</span> in <span style=\"color: #00ff00; text-decoration-color: #00ff00\">export_for_viewing</span> <span style=\"color: #800000; text-decoration-color: #800000\">│</span>\n",
       "<span style=\"color: #800000; text-decoration-color: #800000\">│</span>                                                                                                  <span style=\"color: #800000; text-decoration-color: #800000\">│</span>\n",
       "<span style=\"color: #800000; text-decoration-color: #800000\">│</span>   <span style=\"color: #7f7f7f; text-decoration-color: #7f7f7f\">170 </span><span style=\"color: #7f7f7f; text-decoration-color: #7f7f7f\">│   │   │   </span><span style=\"color: #0000ff; text-decoration-color: #0000ff\">else</span>:                                                                          <span style=\"color: #800000; text-decoration-color: #800000\">│</span>\n",
       "<span style=\"color: #800000; text-decoration-color: #800000\">│</span>   <span style=\"color: #7f7f7f; text-decoration-color: #7f7f7f\">171 </span><span style=\"color: #7f7f7f; text-decoration-color: #7f7f7f\">│   │   │   │   </span>exported_spans.extend(entry.export_for_viewing())                          <span style=\"color: #800000; text-decoration-color: #800000\">│</span>\n",
       "<span style=\"color: #800000; text-decoration-color: #800000\">│</span>   <span style=\"color: #7f7f7f; text-decoration-color: #7f7f7f\">172 </span><span style=\"color: #7f7f7f; text-decoration-color: #7f7f7f\">│   │   </span>exported_spans.append(                                                             <span style=\"color: #800000; text-decoration-color: #800000\">│</span>\n",
       "<span style=\"color: #800000; text-decoration-color: #800000\">│</span> <span style=\"color: #800000; text-decoration-color: #800000\">❱ </span>173 <span style=\"color: #7f7f7f; text-decoration-color: #7f7f7f\">│   │   │   </span>ExportedSpan(                                                                  <span style=\"color: #800000; text-decoration-color: #800000\">│</span>\n",
       "<span style=\"color: #800000; text-decoration-color: #800000\">│</span>   <span style=\"color: #7f7f7f; text-decoration-color: #7f7f7f\">174 </span><span style=\"color: #7f7f7f; text-decoration-color: #7f7f7f\">│   │   │   │   </span>context=<span style=\"color: #00ffff; text-decoration-color: #00ffff\">self</span>.context,                                                      <span style=\"color: #800000; text-decoration-color: #800000\">│</span>\n",
       "<span style=\"color: #800000; text-decoration-color: #800000\">│</span>   <span style=\"color: #7f7f7f; text-decoration-color: #7f7f7f\">175 </span><span style=\"color: #7f7f7f; text-decoration-color: #7f7f7f\">│   │   │   │   </span>name=<span style=\"color: #00ffff; text-decoration-color: #00ffff\">self</span>.name,                                                            <span style=\"color: #800000; text-decoration-color: #800000\">│</span>\n",
       "<span style=\"color: #800000; text-decoration-color: #800000\">│</span>   <span style=\"color: #7f7f7f; text-decoration-color: #7f7f7f\">176 </span><span style=\"color: #7f7f7f; text-decoration-color: #7f7f7f\">│   │   │   │   </span>parent_id=<span style=\"color: #00ffff; text-decoration-color: #00ffff\">self</span>.parent_id,                                                  <span style=\"color: #800000; text-decoration-color: #800000\">│</span>\n",
       "<span style=\"color: #800000; text-decoration-color: #800000\">│</span>                                                                                                  <span style=\"color: #800000; text-decoration-color: #800000\">│</span>\n",
       "<span style=\"color: #800000; text-decoration-color: #800000\">│</span> <span style=\"color: #bfbf7f; text-decoration-color: #bfbf7f\">/Users/jens.luecke/Library/Caches/pypoetry/virtualenvs/rag-qa-workshop-xsC4sNM2-py3.12/lib/pytho</span> <span style=\"color: #800000; text-decoration-color: #800000\">│</span>\n",
       "<span style=\"color: #800000; text-decoration-color: #800000\">│</span> <span style=\"color: #bfbf7f; text-decoration-color: #bfbf7f\">n3.12/site-packages/pydantic/</span><span style=\"color: #808000; text-decoration-color: #808000; font-weight: bold\">main.py</span>:<span style=\"color: #0000ff; text-decoration-color: #0000ff\">193</span> in <span style=\"color: #00ff00; text-decoration-color: #00ff00\">__init__</span>                                             <span style=\"color: #800000; text-decoration-color: #800000\">│</span>\n",
       "<span style=\"color: #800000; text-decoration-color: #800000\">│</span>                                                                                                  <span style=\"color: #800000; text-decoration-color: #800000\">│</span>\n",
       "<span style=\"color: #800000; text-decoration-color: #800000\">│</span>   <span style=\"color: #7f7f7f; text-decoration-color: #7f7f7f\"> 190 </span><span style=\"color: #bfbf7f; text-decoration-color: #bfbf7f\">│   │   </span><span style=\"color: #808000; text-decoration-color: #808000\">\"\"\"</span>                                                                               <span style=\"color: #800000; text-decoration-color: #800000\">│</span>\n",
       "<span style=\"color: #800000; text-decoration-color: #800000\">│</span>   <span style=\"color: #7f7f7f; text-decoration-color: #7f7f7f\"> 191 </span><span style=\"color: #7f7f7f; text-decoration-color: #7f7f7f\">│   │   </span><span style=\"color: #7f7f7f; text-decoration-color: #7f7f7f\"># `__tracebackhide__` tells pytest and some other tools to omit this function fr</span>  <span style=\"color: #800000; text-decoration-color: #800000\">│</span>\n",
       "<span style=\"color: #800000; text-decoration-color: #800000\">│</span>   <span style=\"color: #7f7f7f; text-decoration-color: #7f7f7f\"> 192 </span><span style=\"color: #7f7f7f; text-decoration-color: #7f7f7f\">│   │   </span>__tracebackhide__ = <span style=\"color: #0000ff; text-decoration-color: #0000ff\">True</span>                                                          <span style=\"color: #800000; text-decoration-color: #800000\">│</span>\n",
       "<span style=\"color: #800000; text-decoration-color: #800000\">│</span> <span style=\"color: #800000; text-decoration-color: #800000\">❱ </span> 193 <span style=\"color: #7f7f7f; text-decoration-color: #7f7f7f\">│   │   </span><span style=\"color: #00ffff; text-decoration-color: #00ffff\">self</span>.__pydantic_validator__.validate_python(data, self_instance=<span style=\"color: #00ffff; text-decoration-color: #00ffff\">self</span>)             <span style=\"color: #800000; text-decoration-color: #800000\">│</span>\n",
       "<span style=\"color: #800000; text-decoration-color: #800000\">│</span>   <span style=\"color: #7f7f7f; text-decoration-color: #7f7f7f\"> 194 </span><span style=\"color: #7f7f7f; text-decoration-color: #7f7f7f\">│   </span>                                                                                      <span style=\"color: #800000; text-decoration-color: #800000\">│</span>\n",
       "<span style=\"color: #800000; text-decoration-color: #800000\">│</span>   <span style=\"color: #7f7f7f; text-decoration-color: #7f7f7f\"> 195 </span><span style=\"color: #7f7f7f; text-decoration-color: #7f7f7f\">│   </span><span style=\"color: #7f7f7f; text-decoration-color: #7f7f7f\"># The following line sets a flag that we use to determine when `__init__` gets overr</span>  <span style=\"color: #800000; text-decoration-color: #800000\">│</span>\n",
       "<span style=\"color: #800000; text-decoration-color: #800000\">│</span>   <span style=\"color: #7f7f7f; text-decoration-color: #7f7f7f\"> 196 </span><span style=\"color: #7f7f7f; text-decoration-color: #7f7f7f\">│   </span><span style=\"color: #00ff00; text-decoration-color: #00ff00\">__init__</span>.__pydantic_base_init__ = <span style=\"color: #0000ff; text-decoration-color: #0000ff\">True</span>  <span style=\"color: #7f7f7f; text-decoration-color: #7f7f7f\"># pyright: ignore[reportFunctionMemberAccess</span>  <span style=\"color: #800000; text-decoration-color: #800000\">│</span>\n",
       "<span style=\"color: #800000; text-decoration-color: #800000\">╰──────────────────────────────────────────────────────────────────────────────────────────────────╯</span>\n",
       "<span style=\"color: #ff0000; text-decoration-color: #ff0000; font-weight: bold\">ValidationError: </span><span style=\"color: #008080; text-decoration-color: #008080; font-weight: bold\">1</span> validation error for ExportedSpan\n",
       "attributes.TASK_SPAN\n",
       "  Input should be a valid dictionary or instance of TaskSpanAttributes <span style=\"font-weight: bold\">[</span><span style=\"color: #808000; text-decoration-color: #808000\">type</span>=<span style=\"color: #800080; text-decoration-color: #800080\">model_type</span>, \n",
       "<span style=\"color: #808000; text-decoration-color: #808000\">input_value</span>=<span style=\"color: #800080; text-decoration-color: #800080; font-weight: bold\">TaskSpanAttributes</span><span style=\"font-weight: bold\">(</span><span style=\"color: #808000; text-decoration-color: #808000\">type</span>=&lt;<span style=\"color: #808000; text-decoration-color: #808000\">...</span><span style=\"color: #008080; text-decoration-color: #008080; font-weight: bold\">1071</span>, <span style=\"color: #808000; text-decoration-color: #808000\">metadata</span>=<span style=\"color: #800080; text-decoration-color: #800080; font-style: italic\">None</span><span style=\"font-weight: bold\">))]))</span>, <span style=\"color: #808000; text-decoration-color: #808000\">input_type</span>=<span style=\"color: #800080; text-decoration-color: #800080\">TaskSpanAttributes</span><span style=\"font-weight: bold\">]</span>\n",
       "    For further information visit <span style=\"color: #0000ff; text-decoration-color: #0000ff; text-decoration: underline\">https://errors.pydantic.dev/2.8/v/model_type</span>\n",
       "</pre>\n"
      ]
     },
     "metadata": {},
     "output_type": "display_data"
    }
   ],
   "execution_count": 22
  },
  {
   "metadata": {},
   "cell_type": "code",
   "outputs": [],
   "execution_count": null,
   "source": ""
  }
 ],
 "metadata": {
  "kernelspec": {
   "display_name": ".venv",
   "language": "python",
   "name": "python3"
  },
  "language_info": {
   "codemirror_mode": {
    "name": "ipython",
    "version": 3
   },
   "file_extension": ".py",
   "mimetype": "text/x-python",
   "name": "python",
   "nbconvert_exporter": "python",
   "pygments_lexer": "ipython3",
   "version": "3.12.4"
  }
 },
 "nbformat": 4,
 "nbformat_minor": 2
}
