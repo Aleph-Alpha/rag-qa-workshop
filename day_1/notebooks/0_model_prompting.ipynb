{
 "cells": [
  {
   "cell_type": "code",
   "metadata": {
    "ExecuteTime": {
     "end_time": "2024-11-27T13:10:56.757482Z",
     "start_time": "2024-11-27T13:10:56.748779Z"
    }
   },
   "source": [
    "from dotenv import load_dotenv, find_dotenv\n",
    "load_dotenv(find_dotenv())"
   ],
   "outputs": [
    {
     "data": {
      "text/plain": [
       "True"
      ]
     },
     "execution_count": 1,
     "metadata": {},
     "output_type": "execute_result"
    }
   ],
   "execution_count": 1
  },
  {
   "cell_type": "markdown",
   "metadata": {},
   "source": [
    "# Model Prompting"
   ]
  },
  {
   "cell_type": "code",
   "metadata": {
    "ExecuteTime": {
     "end_time": "2024-11-27T13:10:58.919481Z",
     "start_time": "2024-11-27T13:10:56.771941Z"
    }
   },
   "source": [
    "from intelligence_layer.core import (\n",
    "    CompleteInput,\n",
    "    InMemoryTracer, Llama3InstructModel,\n",
    ")\n",
    "from dotenv import load_dotenv\n",
    "\n",
    "load_dotenv()\n",
    "\n",
    "tracer = InMemoryTracer()\n",
    "\n",
    "model = Llama3InstructModel(\"pharia-1-llm-7b-control\")\n",
    "\n",
    "prompt = model.to_instruct_prompt(\n",
    "    instruction=\"Du bist ein Assistent, der Fragen beantwortet.\",\n",
    "    input=\"Wann wurde Köln gegründet?\",\n",
    ")\n",
    "complete_input = CompleteInput(prompt=prompt)\n",
    "response = model.complete(complete_input, tracer=tracer)\n",
    "response"
   ],
   "outputs": [
    {
     "name": "stderr",
     "output_type": "stream",
     "text": [
      "/Users/jens.luecke/Library/Caches/pypoetry/virtualenvs/rag-qa-workshop-xsC4sNM2-py3.12/lib/python3.12/site-packages/intelligence_layer/core/model.py:229: UserWarning: The provided model is not a recommended model for this model class.Make sure that the model you have selected is suited to be use for the prompt template used in this model class.\n",
      "  warnings.warn(\n"
     ]
    },
    {
     "name": "stdout",
     "output_type": "stream",
     "text": [
      "No CLIENT_URL specified in environment, using default: https://api.aleph-alpha.com.\n"
     ]
    },
    {
     "data": {
      "text/plain": [
       "CompleteOutput(model_version='.unknown.', completions=[CompletionResult(log_probs=None, completion=' Köln wurde im Jahr 38 v. Chr. von den Römern gegründet und trägt seitdem den offiziellen Namen Colonia Claudia Ara Agrippinensium, abgekürzt CCAA.', completion_tokens=None, finish_reason='end_of_text', raw_completion=None)], num_tokens_prompt_total=35, num_tokens_generated=41, optimized_prompt=None)"
      ]
     },
     "execution_count": 2,
     "metadata": {},
     "output_type": "execute_result"
    }
   ],
   "execution_count": 2
  },
  {
   "cell_type": "code",
   "metadata": {
    "ExecuteTime": {
     "end_time": "2024-11-27T13:11:19.107984Z",
     "start_time": "2024-11-27T13:11:18.679458Z"
    }
   },
   "source": "tracer.submit_to_trace_viewer()",
   "outputs": [
    {
     "data": {
      "text/plain": [
       "Open the \u001B]8;id=557316;http://localhost:3001\u001B\\Trace Viewer\u001B]8;;\u001B\\ to view the trace.\n"
      ],
      "text/html": [
       "<pre style=\"white-space:pre;overflow-x:auto;line-height:normal;font-family:Menlo,'DejaVu Sans Mono',consolas,'Courier New',monospace\">Open the <a href=\"http://localhost:3001\" target=\"_blank\">Trace Viewer</a> to view the trace.\n",
       "</pre>\n"
      ]
     },
     "metadata": {},
     "output_type": "display_data"
    },
    {
     "data": {
      "text/plain": [
       "True"
      ]
     },
     "execution_count": 12,
     "metadata": {},
     "output_type": "execute_result"
    }
   ],
   "execution_count": 12
  },
  {
   "cell_type": "markdown",
   "metadata": {},
   "source": [
    "# AtMan for Source Highlighting"
   ]
  },
  {
   "cell_type": "code",
   "metadata": {
    "ExecuteTime": {
     "end_time": "2024-11-27T13:11:43.089875Z",
     "start_time": "2024-11-27T13:11:42.958539Z"
    }
   },
   "source": [
    "instruction = (\n",
    "    \"Sie sind ein Assistent, der Filmkritiken klassifiziert. Sie müssen entscheiden, ob die Person den Film mochte oder nicht.\"\n",
    "    + ' Die Ausgabe sollte nur aus den Labels \"mögen\" oder \"nicht mögen\" bestehen.'\n",
    ")\n",
    "user_input = (\n",
    "    \"Nachricht: Ich habe gestern einen Film geschaut. Es ging um einen Agenten, der eine Mission erfüllen musste. Es war wirklich spannend.\"\n",
    "    + \" Zunächst musste der Agent eine Basis infiltrieren. Dort gab es einen Bösewicht. Blablabla. Lorem Ipsum dolor.\"\n",
    ")\n",
    "prompt = model.to_instruct_prompt(instruction=instruction, input=user_input)\n",
    "tracer = InMemoryTracer()\n",
    "\n",
    "complete_input = CompleteInput(prompt=prompt)\n",
    "complete_output = model.complete(complete_input, tracer)\n",
    "complete_output.completions[0].completion"
   ],
   "outputs": [
    {
     "data": {
      "text/plain": [
       "' like'"
      ]
     },
     "execution_count": 13,
     "metadata": {},
     "output_type": "execute_result"
    }
   ],
   "execution_count": 13
  },
  {
   "cell_type": "code",
   "metadata": {
    "ExecuteTime": {
     "end_time": "2024-11-27T13:11:44.902724Z",
     "start_time": "2024-11-27T13:11:44.862231Z"
    }
   },
   "source": [
    "tracer"
   ],
   "outputs": [
    {
     "data": {
      "text/plain": [
       "Open the \u001B]8;id=431457;http://localhost:3001\u001B\\Trace Viewer\u001B]8;;\u001B\\ to view the trace.\n"
      ],
      "text/html": [
       "<pre style=\"white-space:pre;overflow-x:auto;line-height:normal;font-family:Menlo,'DejaVu Sans Mono',consolas,'Courier New',monospace\">Open the <a href=\"http://localhost:3001\" target=\"_blank\">Trace Viewer</a> to view the trace.\n",
       "</pre>\n"
      ]
     },
     "metadata": {},
     "output_type": "display_data"
    }
   ],
   "execution_count": 14
  },
  {
   "cell_type": "code",
   "metadata": {
    "ExecuteTime": {
     "end_time": "2024-11-27T13:12:00.018222Z",
     "start_time": "2024-11-27T13:12:00.014797Z"
    }
   },
   "source": [
    "print(prompt.items[0].text)"
   ],
   "outputs": [
    {
     "name": "stdout",
     "output_type": "stream",
     "text": [
      "<|begin_of_text|><|start_header_id|>user<|end_header_id|>\n",
      "\n",
      "Sie sind ein Assistent, der Filmkritiken klassifiziert. Sie müssen entscheiden, ob die Person den Film mochte oder nicht. Die Ausgabe sollte nur aus den Labels \"mögen\" oder \"nicht mögen\" bestehen.\n",
      "\n",
      "Nachricht: Ich habe gestern einen Film geschaut. Es ging um einen Agenten, der eine Mission erfüllen musste. Es war wirklich spannend. Zunächst musste der Agent eine Basis infiltrieren. Dort gab es einen Bösewicht. Blablabla. Lorem Ipsum dolor.<|eot_id|><|start_header_id|>assistant<|end_header_id|>\n",
      "\n",
      "\n"
     ]
    }
   ],
   "execution_count": 15
  },
  {
   "cell_type": "code",
   "metadata": {
    "ExecuteTime": {
     "end_time": "2024-11-27T13:12:43.039741Z",
     "start_time": "2024-11-27T13:12:43.037321Z"
    }
   },
   "source": "target = complete_output.completions[0].completion",
   "outputs": [
    {
     "name": "stdout",
     "output_type": "stream",
     "text": [
      " like\n"
     ]
    }
   ],
   "execution_count": 17
  },
  {
   "cell_type": "code",
   "metadata": {
    "ExecuteTime": {
     "end_time": "2024-11-27T13:10:59.241413Z",
     "start_time": "2024-11-27T13:10:59.239965Z"
    }
   },
   "source": [
    "from intelligence_layer.core import (\n",
    "    TextHighlight,\n",
    "    TextHighlightInput,\n",
    ")\n",
    "from aleph_alpha_client import PromptGranularity"
   ],
   "outputs": [],
   "execution_count": 8
  },
  {
   "cell_type": "code",
   "metadata": {
    "ExecuteTime": {
     "end_time": "2024-11-27T13:14:24.876312Z",
     "start_time": "2024-11-27T13:14:24.241112Z"
    }
   },
   "source": [
    "input = TextHighlightInput(\n",
    "    rich_prompt=prompt,\n",
    "    target=target,\n",
    "    focus_ranges=[\"input\"],\n",
    ")\n",
    "\n",
    "highlight_task = TextHighlight(\n",
    "    model=Llama3InstructModel(\"pharia-1-llm-7b-control\"),\n",
    "    threshold=0,\n",
    "    granularity=PromptGranularity.Sentence,\n",
    ")\n",
    "\n",
    "tracer = InMemoryTracer()\n",
    "\n",
    "output = highlight_task.run(input, tracer)\n",
    "output"
   ],
   "outputs": [
    {
     "name": "stderr",
     "output_type": "stream",
     "text": [
      "/Users/jens.luecke/Library/Caches/pypoetry/virtualenvs/rag-qa-workshop-xsC4sNM2-py3.12/lib/python3.12/site-packages/intelligence_layer/core/model.py:229: UserWarning: The provided model is not a recommended model for this model class.Make sure that the model you have selected is suited to be use for the prompt template used in this model class.\n",
      "  warnings.warn(\n"
     ]
    },
    {
     "data": {
      "text/plain": [
       "TextHighlightOutput(highlights=[ScoredTextHighlight(start=257, end=305, score=0.05539358559239773), ScoredTextHighlight(start=306, end=365, score=0.01311953342977841), ScoredTextHighlight(start=366, end=391, score=0.059475218214995455), ScoredTextHighlight(start=392, end=442, score=0), ScoredTextHighlight(start=443, end=471, score=0.01020408155649432), ScoredTextHighlight(start=472, end=482, score=0.011953352680464773), ScoredTextHighlight(start=483, end=501, score=0), ScoredTextHighlight(start=501, end=556, score=1.0)])"
      ]
     },
     "execution_count": 18,
     "metadata": {},
     "output_type": "execute_result"
    }
   ],
   "execution_count": 18
  },
  {
   "cell_type": "code",
   "metadata": {
    "ExecuteTime": {
     "end_time": "2024-11-27T13:14:34.148342Z",
     "start_time": "2024-11-27T13:14:34.058056Z"
    }
   },
   "source": [
    "tracer"
   ],
   "outputs": [
    {
     "data": {
      "text/plain": [
       "Open the \u001B]8;id=678040;http://localhost:3001\u001B\\Trace Viewer\u001B]8;;\u001B\\ to view the trace.\n"
      ],
      "text/html": [
       "<pre style=\"white-space:pre;overflow-x:auto;line-height:normal;font-family:Menlo,'DejaVu Sans Mono',consolas,'Courier New',monospace\">Open the <a href=\"http://localhost:3001\" target=\"_blank\">Trace Viewer</a> to view the trace.\n",
       "</pre>\n"
      ]
     },
     "metadata": {},
     "output_type": "display_data"
    }
   ],
   "execution_count": 19
  },
  {
   "cell_type": "code",
   "metadata": {
    "ExecuteTime": {
     "end_time": "2024-11-27T13:10:59.876473Z",
     "start_time": "2024-11-27T13:10:59.873164Z"
    }
   },
   "source": [
    "prompt_text = prompt.items[0].text\n",
    "for highlight in sorted(\n",
    "    output.highlights, key=lambda highlight: highlight.score, reverse=True\n",
    "):\n",
    "    print(\"-\" * 100)\n",
    "    print(highlight.score)\n",
    "    print(prompt_text[highlight.start : highlight.end])"
   ],
   "outputs": [
    {
     "name": "stdout",
     "output_type": "stream",
     "text": [
      "----------------------------------------------------------------------------------------------------\n",
      "1.0\n",
      "<|eot_id|><|start_header_id|>assistant<|end_header_id|>\n",
      "----------------------------------------------------------------------------------------------------\n",
      "0.4\n",
      "Es war wirklich spannend.\n",
      "----------------------------------------------------------------------------------------------------\n",
      "0.1\n",
      "Es ging um einen Agenten, der eine Mission erfüllen musste.\n",
      "----------------------------------------------------------------------------------------------------\n",
      "0\n",
      "Nachricht: Ich habe gestern einen Film geschaut.\n",
      "----------------------------------------------------------------------------------------------------\n",
      "0.0\n",
      "Zunächst musste der Agent eine Basis infiltrieren.\n",
      "----------------------------------------------------------------------------------------------------\n",
      "0.0\n",
      "Dort gab es einen Bösewicht.\n",
      "----------------------------------------------------------------------------------------------------\n",
      "0\n",
      "Blablabla.\n",
      "----------------------------------------------------------------------------------------------------\n",
      "0\n",
      "Lorem Ipsum dolor.\n"
     ]
    }
   ],
   "execution_count": 11
  }
 ],
 "metadata": {
  "kernelspec": {
   "display_name": ".venv",
   "language": "python",
   "name": "python3"
  },
  "language_info": {
   "codemirror_mode": {
    "name": "ipython",
    "version": 3
   },
   "file_extension": ".py",
   "mimetype": "text/x-python",
   "name": "python",
   "nbconvert_exporter": "python",
   "pygments_lexer": "ipython3",
   "version": "3.12.4"
  }
 },
 "nbformat": 4,
 "nbformat_minor": 2
}
