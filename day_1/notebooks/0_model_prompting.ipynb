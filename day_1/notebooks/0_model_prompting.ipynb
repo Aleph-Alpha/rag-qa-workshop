{
 "cells": [
  {
   "cell_type": "code",
   "execution_count": 1,
   "metadata": {},
   "outputs": [
    {
     "data": {
      "text/plain": [
       "True"
      ]
     },
     "execution_count": 1,
     "metadata": {},
     "output_type": "execute_result"
    }
   ],
   "source": [
    "from dotenv import load_dotenv, find_dotenv\n",
    "load_dotenv(find_dotenv())"
   ]
  },
  {
   "cell_type": "markdown",
   "metadata": {},
   "source": [
    "# Model Prompting"
   ]
  },
  {
   "cell_type": "code",
   "execution_count": 2,
   "metadata": {},
   "outputs": [
    {
     "name": "stdout",
     "output_type": "stream",
     "text": [
      "No CLIENT_URL specified in environment, using default: https://api.aleph-alpha.com.\n"
     ]
    },
    {
     "data": {
      "text/plain": [
       "CompleteOutput(model_version='20240215', completions=[CompletionResult(log_probs=None, completion=' Köln wurde im Jahr 50 vor Christus von den Römern gegründet.', completion_tokens=None, finish_reason='end_of_text', raw_completion=None)], num_tokens_prompt_total=22, num_tokens_generated=14, optimized_prompt=None)"
      ]
     },
     "execution_count": 2,
     "metadata": {},
     "output_type": "execute_result"
    }
   ],
   "source": [
    "from intelligence_layer.core import (\n",
    "    LuminousControlModel,\n",
    "    CompleteInput,\n",
    "    InMemoryTracer,\n",
    ")\n",
    "\n",
    "tracer = InMemoryTracer()\n",
    "\n",
    "model = LuminousControlModel()\n",
    "\n",
    "prompt = model.to_instruct_prompt(\n",
    "    instruction=\"Du bist ein Assistent, der Fragen beantwortet.\",\n",
    "    input=\"Wann wurde Köln gegründet?\",\n",
    ")\n",
    "complete_input = CompleteInput(prompt=prompt)\n",
    "response = model.complete(complete_input, tracer=tracer)\n",
    "response"
   ]
  },
  {
   "cell_type": "code",
   "execution_count": 3,
   "metadata": {},
   "outputs": [
    {
     "data": {
      "text/html": [
       "<pre style=\"white-space:pre;overflow-x:auto;line-height:normal;font-family:Menlo,'DejaVu Sans Mono',consolas,'Courier New',monospace\">Open the <a href=\"http://localhost:3000\" target=\"_blank\">Trace Viewer</a> to view the trace.\n",
       "</pre>\n"
      ],
      "text/plain": [
       "Open the \u001b]8;id=950199;http://localhost:3000\u001b\\Trace Viewer\u001b]8;;\u001b\\ to view the trace.\n"
      ]
     },
     "metadata": {},
     "output_type": "display_data"
    }
   ],
   "source": [
    "tracer"
   ]
  },
  {
   "cell_type": "markdown",
   "metadata": {},
   "source": [
    "# AtMan for Source Highlighting"
   ]
  },
  {
   "cell_type": "code",
   "execution_count": 4,
   "metadata": {},
   "outputs": [
    {
     "data": {
      "text/plain": [
       "' mögen'"
      ]
     },
     "execution_count": 4,
     "metadata": {},
     "output_type": "execute_result"
    }
   ],
   "source": [
    "instruction = (\n",
    "    \"Sie sind ein Assistent, der Filmkritiken klassifiziert. Sie müssen entscheiden, ob die Person den Film mochte oder nicht.\"\n",
    "    + ' Die Ausgabe sollte nur aus den Labels \"mögen\" oder \"nicht mögen\" bestehen.'\n",
    ")\n",
    "user_input = (\n",
    "    \"Nachricht: Ich habe gestern einen Film geschaut. Es ging um einen Agenten, der eine Mission erfüllen musste. Es war wirklich spannend.\"\n",
    "    + \" Zunächst musste der Agent eine Basis infiltrieren. Dort gab es einen Bösewicht. Blablabla. Lorem Ipsum dolor.\"\n",
    ")\n",
    "prompt = model.to_instruct_prompt(instruction=instruction, input=user_input)\n",
    "tracer = InMemoryTracer()\n",
    "\n",
    "complete_input = CompleteInput(prompt=prompt)\n",
    "complete_output = model.complete(complete_input, tracer)\n",
    "complete_output.completions[0].completion"
   ]
  },
  {
   "cell_type": "code",
   "execution_count": 5,
   "metadata": {},
   "outputs": [
    {
     "data": {
      "text/html": [
       "<pre style=\"white-space:pre;overflow-x:auto;line-height:normal;font-family:Menlo,'DejaVu Sans Mono',consolas,'Courier New',monospace\">Open the <a href=\"http://localhost:3000\" target=\"_blank\">Trace Viewer</a> to view the trace.\n",
       "</pre>\n"
      ],
      "text/plain": [
       "Open the \u001b]8;id=369450;http://localhost:3000\u001b\\Trace Viewer\u001b]8;;\u001b\\ to view the trace.\n"
      ]
     },
     "metadata": {},
     "output_type": "display_data"
    }
   ],
   "source": [
    "tracer"
   ]
  },
  {
   "cell_type": "code",
   "execution_count": 6,
   "metadata": {},
   "outputs": [
    {
     "name": "stdout",
     "output_type": "stream",
     "text": [
      "Sie sind ein Assistent, der Filmkritiken klassifiziert. Sie müssen entscheiden, ob die Person den Film mochte oder nicht. Die Ausgabe sollte nur aus den Labels \"mögen\" oder \"nicht mögen\" bestehen.\n",
      "\n",
      "Nachricht: Ich habe gestern einen Film geschaut. Es ging um einen Agenten, der eine Mission erfüllen musste. Es war wirklich spannend. Zunächst musste der Agent eine Basis infiltrieren. Dort gab es einen Bösewicht. Blablabla. Lorem Ipsum dolor.\n",
      "\n",
      "### Response:\n"
     ]
    }
   ],
   "source": [
    "print(prompt.items[0].text)"
   ]
  },
  {
   "cell_type": "code",
   "execution_count": 7,
   "metadata": {},
   "outputs": [],
   "source": [
    "target = complete_output.completions[0].completion"
   ]
  },
  {
   "cell_type": "code",
   "execution_count": 8,
   "metadata": {},
   "outputs": [],
   "source": [
    "from intelligence_layer.core import (\n",
    "    TextHighlight,\n",
    "    TextHighlightInput,\n",
    ")\n",
    "from aleph_alpha_client import PromptGranularity"
   ]
  },
  {
   "cell_type": "code",
   "execution_count": 9,
   "metadata": {},
   "outputs": [
    {
     "data": {
      "text/plain": [
       "TextHighlightOutput(highlights=[ScoredTextHighlight(start=198, end=246, score=0), ScoredTextHighlight(start=247, end=306, score=0), ScoredTextHighlight(start=307, end=332, score=0.055664062), ScoredTextHighlight(start=333, end=383, score=0), ScoredTextHighlight(start=384, end=412, score=0.016601562), ScoredTextHighlight(start=413, end=423, score=0.0009765625), ScoredTextHighlight(start=424, end=442, score=0.0029296875)])"
      ]
     },
     "execution_count": 9,
     "metadata": {},
     "output_type": "execute_result"
    }
   ],
   "source": [
    "input = TextHighlightInput(\n",
    "    rich_prompt=prompt,\n",
    "    target=target,\n",
    "    focus_ranges=[\"input\"],\n",
    ")\n",
    "\n",
    "highlight_task = TextHighlight(\n",
    "    model=LuminousControlModel(),\n",
    "    threshold=0,\n",
    "    granularity=PromptGranularity.Sentence,\n",
    ")\n",
    "\n",
    "tracer = InMemoryTracer()\n",
    "\n",
    "output = highlight_task.run(input, tracer)\n",
    "output"
   ]
  },
  {
   "cell_type": "code",
   "execution_count": 10,
   "metadata": {},
   "outputs": [
    {
     "data": {
      "text/html": [
       "<pre style=\"white-space:pre;overflow-x:auto;line-height:normal;font-family:Menlo,'DejaVu Sans Mono',consolas,'Courier New',monospace\">Open the <a href=\"http://localhost:3000\" target=\"_blank\">Trace Viewer</a> to view the trace.\n",
       "</pre>\n"
      ],
      "text/plain": [
       "Open the \u001b]8;id=528705;http://localhost:3000\u001b\\Trace Viewer\u001b]8;;\u001b\\ to view the trace.\n"
      ]
     },
     "metadata": {},
     "output_type": "display_data"
    }
   ],
   "source": [
    "tracer"
   ]
  },
  {
   "cell_type": "code",
   "execution_count": 11,
   "metadata": {},
   "outputs": [
    {
     "name": "stdout",
     "output_type": "stream",
     "text": [
      "----------------------------------------------------------------------------------------------------\n",
      "0.055664062\n",
      "Es war wirklich spannend.\n",
      "----------------------------------------------------------------------------------------------------\n",
      "0.016601562\n",
      "Dort gab es einen Bösewicht.\n",
      "----------------------------------------------------------------------------------------------------\n",
      "0.0029296875\n",
      "Lorem Ipsum dolor.\n",
      "----------------------------------------------------------------------------------------------------\n",
      "0.0009765625\n",
      "Blablabla.\n",
      "----------------------------------------------------------------------------------------------------\n",
      "0\n",
      "Nachricht: Ich habe gestern einen Film geschaut.\n",
      "----------------------------------------------------------------------------------------------------\n",
      "0\n",
      "Es ging um einen Agenten, der eine Mission erfüllen musste.\n",
      "----------------------------------------------------------------------------------------------------\n",
      "0\n",
      "Zunächst musste der Agent eine Basis infiltrieren.\n"
     ]
    }
   ],
   "source": [
    "prompt_text = prompt.items[0].text\n",
    "for highlight in sorted(\n",
    "    output.highlights, key=lambda highlight: highlight.score, reverse=True\n",
    "):\n",
    "    print(\"-\" * 100)\n",
    "    print(highlight.score)\n",
    "    print(prompt_text[highlight.start : highlight.end])"
   ]
  }
 ],
 "metadata": {
  "kernelspec": {
   "display_name": ".venv",
   "language": "python",
   "name": "python3"
  },
  "language_info": {
   "codemirror_mode": {
    "name": "ipython",
    "version": 3
   },
   "file_extension": ".py",
   "mimetype": "text/x-python",
   "name": "python",
   "nbconvert_exporter": "python",
   "pygments_lexer": "ipython3",
   "version": "3.12.4"
  }
 },
 "nbformat": 4,
 "nbformat_minor": 2
}
