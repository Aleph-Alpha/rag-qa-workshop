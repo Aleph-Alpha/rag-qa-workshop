{
 "cells": [
  {
   "cell_type": "markdown",
   "metadata": {},
   "source": [
    "# Test Connection\n",
    "Make sure to copy the `.env-template` to `.env` and fill in your Aleph Alpha API token."
   ]
  },
  {
   "cell_type": "code",
   "metadata": {
    "ExecuteTime": {
     "end_time": "2024-11-27T11:14:21.734806Z",
     "start_time": "2024-11-27T11:14:21.726302Z"
    }
   },
   "source": [
    "from dotenv import load_dotenv, find_dotenv\n",
    "\n",
    "load_dotenv(find_dotenv())"
   ],
   "outputs": [
    {
     "data": {
      "text/plain": [
       "True"
      ]
     },
     "execution_count": 2,
     "metadata": {},
     "output_type": "execute_result"
    }
   ],
   "execution_count": 2
  },
  {
   "cell_type": "code",
   "metadata": {
    "ExecuteTime": {
     "end_time": "2024-11-27T11:14:26.599201Z",
     "start_time": "2024-11-27T11:14:22.819711Z"
    }
   },
   "source": [
    "from intelligence_layer.core import (\n",
    "    CompleteInput,\n",
    "    InMemoryTracer, Llama3InstructModel,\n",
    ")\n",
    "\n",
    "tracer = InMemoryTracer()\n",
    "\n",
    "model = Llama3InstructModel(name=\"pharia-1-llm-7b-control\")\n",
    "\n",
    "prompt = model.to_instruct_prompt(\n",
    "    instruction=\"Du bist ein Assistent, der Fragen beantwortet.\",\n",
    "    input=\"Wann wurde Köln gegründet?\",\n",
    ")\n",
    "complete_input = CompleteInput(prompt=prompt)\n",
    "response = model.complete(complete_input, tracer=tracer)\n",
    "response"
   ],
   "outputs": [
    {
     "name": "stderr",
     "output_type": "stream",
     "text": [
      "/Users/jens.luecke/Library/Caches/pypoetry/virtualenvs/rag-qa-workshop-xsC4sNM2-py3.12/lib/python3.12/site-packages/aleph_alpha_client/completion.py:9: SyntaxWarning: invalid escape sequence '\\,'\n",
      "  \"\"\"\n",
      "/Users/jens.luecke/Library/Caches/pypoetry/virtualenvs/rag-qa-workshop-xsC4sNM2-py3.12/lib/python3.12/site-packages/intelligence_layer/core/model.py:229: UserWarning: The provided model is not a recommended model for this model class.Make sure that the model you have selected is suited to be use for the prompt template used in this model class.\n",
      "  warnings.warn(\n"
     ]
    },
    {
     "name": "stdout",
     "output_type": "stream",
     "text": [
      "No CLIENT_URL specified in environment, using default: https://api.aleph-alpha.com.\n"
     ]
    },
    {
     "data": {
      "text/plain": [
       "CompleteOutput(model_version='.unknown.', completions=[CompletionResult(log_probs=None, completion=' Köln wurde im Jahr 38 v. Chr. von den Römern gegründet und trägt seitdem den offiziellen Namen Colonia Claudia Ara Agrippinensium, abgekürzt CCAA.', completion_tokens=None, finish_reason='end_of_text', raw_completion=None)], num_tokens_prompt_total=35, num_tokens_generated=41, optimized_prompt=None)"
      ]
     },
     "execution_count": 3,
     "metadata": {},
     "output_type": "execute_result"
    }
   ],
   "execution_count": 3
  },
  {
   "cell_type": "markdown",
   "metadata": {},
   "source": [
    "# Atman for Source Highlighting\n",
    "1. Run the instruction-input tuple below with the previously instantiated model.\n",
    "2. Create a `TextHighlight` task with the same model and run it on the same prompt and the generated output.\n",
    "3. Output the found highlights ordered by the score.\n",
    "4. Change the wording in `user_input` from \"spannend\" to \"langweilig\", rerun and see what happens."
   ]
  },
  {
   "cell_type": "code",
   "metadata": {
    "ExecuteTime": {
     "end_time": "2024-11-27T11:17:01.837205Z",
     "start_time": "2024-11-27T11:17:01.832043Z"
    }
   },
   "source": [
    "from intelligence_layer.core import (\n",
    "    TextHighlight,\n",
    "    TextHighlightInput,\n",
    ")\n",
    "from aleph_alpha_client import PromptGranularity"
   ],
   "outputs": [],
   "execution_count": 5
  },
  {
   "cell_type": "code",
   "metadata": {
    "ExecuteTime": {
     "end_time": "2024-11-27T11:17:06.261848Z",
     "start_time": "2024-11-27T11:17:06.258309Z"
    }
   },
   "source": [
    "instruction = (\n",
    "    \"Sie sind ein Assistent, der Filmkritiken klassifiziert. Sie müssen entscheiden, ob die Person den Film mochte oder nicht.\"\n",
    "    + ' Die Ausgabe sollte nur aus den Labels \"mögen\" oder \"nicht mögen\" bestehen.'\n",
    ")\n",
    "user_input = (\n",
    "    \"Nachricht: Ich habe gestern einen Film geschaut. Es ging um einen Agenten, der eine Mission erfüllen musste. Es war wirklich spannend.\"\n",
    "    + \" Zunächst musste der Agent eine Basis infiltrieren. Dort gab es einen Bösewicht. Blablabla. Lorem Ipsum dolor.\"\n",
    ")"
   ],
   "outputs": [],
   "execution_count": 6
  },
  {
   "metadata": {},
   "cell_type": "code",
   "outputs": [],
   "execution_count": null,
   "source": ""
  }
 ],
 "metadata": {
  "kernelspec": {
   "display_name": ".venv",
   "language": "python",
   "name": "python3"
  },
  "language_info": {
   "codemirror_mode": {
    "name": "ipython",
    "version": 3
   },
   "file_extension": ".py",
   "mimetype": "text/x-python",
   "name": "python",
   "nbconvert_exporter": "python",
   "pygments_lexer": "ipython3",
   "version": "3.12.4"
  }
 },
 "nbformat": 4,
 "nbformat_minor": 2
}
