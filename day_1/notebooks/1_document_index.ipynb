{
 "cells": [
  {
   "cell_type": "code",
   "metadata": {
    "ExecuteTime": {
     "end_time": "2024-11-27T11:49:17.332726Z",
     "start_time": "2024-11-27T11:49:17.316400Z"
    }
   },
   "source": [
    "%load_ext autoreload\n",
    "%autoreload 2"
   ],
   "outputs": [
    {
     "name": "stdout",
     "output_type": "stream",
     "text": [
      "The autoreload extension is already loaded. To reload it, use:\n",
      "  %reload_ext autoreload\n"
     ]
    }
   ],
   "execution_count": 12
  },
  {
   "cell_type": "code",
   "metadata": {
    "ExecuteTime": {
     "end_time": "2024-11-27T11:49:17.352526Z",
     "start_time": "2024-11-27T11:49:17.338196Z"
    }
   },
   "source": [
    "from dotenv import load_dotenv, find_dotenv\n",
    "import os\n",
    "load_dotenv(find_dotenv())"
   ],
   "outputs": [
    {
     "data": {
      "text/plain": [
       "True"
      ]
     },
     "execution_count": 13,
     "metadata": {},
     "output_type": "execute_result"
    }
   ],
   "execution_count": 13
  },
  {
   "cell_type": "code",
   "metadata": {
    "ExecuteTime": {
     "end_time": "2024-11-27T11:49:17.369600Z",
     "start_time": "2024-11-27T11:49:17.358678Z"
    }
   },
   "source": [
    "AA_TOKEN=os.getenv(\"AA_TOKEN\")\n",
    "NAMESPACE=os.getenv(\"AA_NAMESPACE\")"
   ],
   "outputs": [],
   "execution_count": 14
  },
  {
   "cell_type": "markdown",
   "metadata": {},
   "source": [
    "# Document Index"
   ]
  },
  {
   "cell_type": "markdown",
   "metadata": {},
   "source": [
    "## Collection"
   ]
  },
  {
   "cell_type": "markdown",
   "metadata": {},
   "source": [
    "### Creating A Collection"
   ]
  },
  {
   "cell_type": "code",
   "metadata": {
    "ExecuteTime": {
     "end_time": "2024-11-27T11:49:17.637862Z",
     "start_time": "2024-11-27T11:49:17.377841Z"
    }
   },
   "source": [
    "from intelligence_layer.connectors import (\n",
    "    CollectionPath,\n",
    "    DocumentIndexClient,\n",
    ")\n",
    "def create_collection(collection_name: str):\n",
    "    document_index = DocumentIndexClient(\n",
    "            token=AA_TOKEN,\n",
    "        )\n",
    "\n",
    "    collection_path = CollectionPath(\n",
    "        namespace=NAMESPACE, \n",
    "        collection=collection_name,\n",
    "    )\n",
    "    document_index.create_collection(collection_path)\n",
    "\n",
    "COLLECTION_NAME=\"demo\"\n",
    "COLLECTION_NAME_DELETE=\"demo-collection-delete\"\n",
    "\n",
    "create_collection(COLLECTION_NAME)\n",
    "create_collection(COLLECTION_NAME_DELETE)"
   ],
   "outputs": [],
   "execution_count": 15
  },
  {
   "cell_type": "markdown",
   "metadata": {},
   "source": [
    "### Get all the Collections"
   ]
  },
  {
   "cell_type": "code",
   "metadata": {
    "ExecuteTime": {
     "end_time": "2024-11-27T11:49:17.795606Z",
     "start_time": "2024-11-27T11:49:17.646969Z"
    }
   },
   "source": [
    "def get_collections():\n",
    "    document_index = DocumentIndexClient(\n",
    "            token=AA_TOKEN,\n",
    "        )\n",
    "\n",
    "    collections = document_index.list_collections(\n",
    "        namespace=NAMESPACE,\n",
    "    )\n",
    "    return collections\n",
    "collections = get_collections()\n",
    "collections"
   ],
   "outputs": [
    {
     "data": {
      "text/plain": [
       "[CollectionPath(namespace='aleph-alpha', collection='demo-case-study-bosch-team-sru'),\n",
       " CollectionPath(namespace='aleph-alpha', collection='Jan-IL-vs-LC'),\n",
       " CollectionPath(namespace='aleph-alpha', collection='image-demo'),\n",
       " CollectionPath(namespace='aleph-alpha', collection='search-evaluation'),\n",
       " CollectionPath(namespace='aleph-alpha', collection='0010600002Eb5faAAB-demo'),\n",
       " CollectionPath(namespace='aleph-alpha', collection='wikipedia-de'),\n",
       " CollectionPath(namespace='aleph-alpha', collection='infineon-applikationsbeispiel'),\n",
       " CollectionPath(namespace='aleph-alpha', collection='f13-ci-collection'),\n",
       " CollectionPath(namespace='aleph-alpha', collection='bpa-demo-conet'),\n",
       " CollectionPath(namespace='aleph-alpha', collection='test-collection'),\n",
       " CollectionPath(namespace='aleph-alpha', collection='faqs'),\n",
       " CollectionPath(namespace='aleph-alpha', collection='BMZ-demo'),\n",
       " CollectionPath(namespace='aleph-alpha', collection='topic-test'),\n",
       " CollectionPath(namespace='aleph-alpha', collection='documents'),\n",
       " CollectionPath(namespace='aleph-alpha', collection='topic-test-1'),\n",
       " CollectionPath(namespace='aleph-alpha', collection='intelligence-layer-sdk-ci'),\n",
       " CollectionPath(namespace='aleph-alpha', collection='wikipedia-de-2'),\n",
       " CollectionPath(namespace='aleph-alpha', collection='Test'),\n",
       " CollectionPath(namespace='aleph-alpha', collection='kivo-docs'),\n",
       " CollectionPath(namespace='aleph-alpha', collection='demo'),\n",
       " CollectionPath(namespace='aleph-alpha', collection='capgemini-demo'),\n",
       " CollectionPath(namespace='aleph-alpha', collection='test'),\n",
       " CollectionPath(namespace='aleph-alpha', collection='demo-notebook'),\n",
       " CollectionPath(namespace='aleph-alpha', collection='ci-collection'),\n",
       " CollectionPath(namespace='aleph-alpha', collection='00606000018E361AAC-demo'),\n",
       " CollectionPath(namespace='aleph-alpha', collection='evaluation'),\n",
       " CollectionPath(namespace='aleph-alpha', collection='demo-collection-delete-2'),\n",
       " CollectionPath(namespace='aleph-alpha', collection='lumi-hd-documents'),\n",
       " CollectionPath(namespace='aleph-alpha', collection='lumi-hd-contacts'),\n",
       " CollectionPath(namespace='aleph-alpha', collection='demo-notebook1'),\n",
       " CollectionPath(namespace='aleph-alpha', collection='cybersec-rag-emails'),\n",
       " CollectionPath(namespace='aleph-alpha', collection='doc-qa-test'),\n",
       " CollectionPath(namespace='aleph-alpha', collection='bpa-demo'),\n",
       " CollectionPath(namespace='aleph-alpha', collection='infineon-manuals'),\n",
       " CollectionPath(namespace='aleph-alpha', collection='bpa-showcase'),\n",
       " CollectionPath(namespace='aleph-alpha', collection='cybersec-rag-emails-demo'),\n",
       " CollectionPath(namespace='aleph-alpha', collection='study-case-qa'),\n",
       " CollectionPath(namespace='aleph-alpha', collection='multiple-index-demo'),\n",
       " CollectionPath(namespace='aleph-alpha', collection='doc-qa'),\n",
       " CollectionPath(namespace='aleph-alpha', collection='bulletin-showcase-euparl'),\n",
       " CollectionPath(namespace='aleph-alpha', collection='il-competitor-analysis'),\n",
       " CollectionPath(namespace='aleph-alpha', collection='alfred-ops-codes'),\n",
       " CollectionPath(namespace='aleph-alpha', collection='alfred-icd10-codes'),\n",
       " CollectionPath(namespace='aleph-alpha', collection='bdr-demo'),\n",
       " CollectionPath(namespace='aleph-alpha', collection='alfred-faq'),\n",
       " CollectionPath(namespace='aleph-alpha', collection='alfred-documents'),\n",
       " CollectionPath(namespace='aleph-alpha', collection='doc-qa-raptor'),\n",
       " CollectionPath(namespace='aleph-alpha', collection='handbuch-demo'),\n",
       " CollectionPath(namespace='aleph-alpha', collection='rewe-workshop-prep-20'),\n",
       " CollectionPath(namespace='aleph-alpha', collection='intelligence-layer-sdk-demo-collection'),\n",
       " CollectionPath(namespace='aleph-alpha', collection='intelligence-layer-sdk-demo-index'),\n",
       " CollectionPath(namespace='aleph-alpha', collection='bmbf-demo'),\n",
       " CollectionPath(namespace='aleph-alpha', collection='infineon-code-abstracts'),\n",
       " CollectionPath(namespace='aleph-alpha', collection='infineon-datasheets-html-format-tables'),\n",
       " CollectionPath(namespace='aleph-alpha', collection='infineon-tables'),\n",
       " CollectionPath(namespace='aleph-alpha', collection='intelligence-layer-sdk-ci-2024-09-26'),\n",
       " CollectionPath(namespace='aleph-alpha', collection='infineon-tables-2'),\n",
       " CollectionPath(namespace='aleph-alpha', collection='00000'),\n",
       " CollectionPath(namespace='aleph-alpha', collection='rewe-workshop-prep'),\n",
       " CollectionPath(namespace='aleph-alpha', collection='pharia-kernel-demo-collection'),\n",
       " CollectionPath(namespace='aleph-alpha', collection='infineon-complete-html-format-tables'),\n",
       " CollectionPath(namespace='aleph-alpha', collection='test-assistant-ieee-software-requirements-patterns-req-only'),\n",
       " CollectionPath(namespace='aleph-alpha', collection='demo2'),\n",
       " CollectionPath(namespace='aleph-alpha', collection='lumi-hd-events-test'),\n",
       " CollectionPath(namespace='aleph-alpha', collection='di-uploader-test'),\n",
       " CollectionPath(namespace='aleph-alpha', collection='test-jan-karstens'),\n",
       " CollectionPath(namespace='aleph-alpha', collection='lumi-hd-documents-test'),\n",
       " CollectionPath(namespace='aleph-alpha', collection='lumi-hd-contacts-test'),\n",
       " CollectionPath(namespace='aleph-alpha', collection='BDR-Tech-Demo'),\n",
       " CollectionPath(namespace='aleph-alpha', collection='byte-bayernportal-longversion'),\n",
       " CollectionPath(namespace='aleph-alpha', collection='infineon-manuals-html-format-tables'),\n",
       " CollectionPath(namespace='aleph-alpha', collection='test-assistant-infineon-data-req-ver'),\n",
       " CollectionPath(namespace='aleph-alpha', collection='docs-with-tables-test'),\n",
       " CollectionPath(namespace='aleph-alpha', collection='infineon-functional-blocks'),\n",
       " CollectionPath(namespace='aleph-alpha', collection='rewe-hr'),\n",
       " CollectionPath(namespace='aleph-alpha', collection='risk-assessment'),\n",
       " CollectionPath(namespace='aleph-alpha', collection='fact-checker-poc-collection-1'),\n",
       " CollectionPath(namespace='aleph-alpha', collection='infineon-errata'),\n",
       " CollectionPath(namespace='aleph-alpha', collection='graph-rag-workshop-koalitionsvertrag'),\n",
       " CollectionPath(namespace='aleph-alpha', collection='wuerth-produktdatenblaetter-schraubenzieher'),\n",
       " CollectionPath(namespace='aleph-alpha', collection='BayLfSt-demo'),\n",
       " CollectionPath(namespace='aleph-alpha', collection='infineon-recota-rag-v2'),\n",
       " CollectionPath(namespace='aleph-alpha', collection='infineon-errata-from-pdfs'),\n",
       " CollectionPath(namespace='aleph-alpha', collection='opmobility-requirements'),\n",
       " CollectionPath(namespace='aleph-alpha', collection='rewe-workshop-prep-30'),\n",
       " CollectionPath(namespace='aleph-alpha', collection='rewe-workshop-prep-100'),\n",
       " CollectionPath(namespace='aleph-alpha', collection='test-assistant-ieee-software-requirements-patterns-req-ver'),\n",
       " CollectionPath(namespace='aleph-alpha', collection='uc-22406'),\n",
       " CollectionPath(namespace='aleph-alpha', collection='rewe-delivery-faq'),\n",
       " CollectionPath(namespace='aleph-alpha', collection='infineon-test-collection'),\n",
       " CollectionPath(namespace='aleph-alpha', collection='graph-rag-infineon-datasheets-html-format-tables'),\n",
       " CollectionPath(namespace='aleph-alpha', collection='infineon-application-notes'),\n",
       " CollectionPath(namespace='aleph-alpha', collection='test-assistant-infineon-data-req-only'),\n",
       " CollectionPath(namespace='aleph-alpha', collection='infineon-functional-blocks-TEST'),\n",
       " CollectionPath(namespace='aleph-alpha', collection='byte-bayernportal-shortversion'),\n",
       " CollectionPath(namespace='aleph-alpha', collection='demo-2'),\n",
       " CollectionPath(namespace='aleph-alpha', collection='pharia-data-api-demo-collection'),\n",
       " CollectionPath(namespace='aleph-alpha', collection='pharia-data-etl-test-collection'),\n",
       " CollectionPath(namespace='aleph-alpha', collection='fact-checker-poc-collection-2'),\n",
       " CollectionPath(namespace='aleph-alpha', collection='infineon-application-notes-TEST'),\n",
       " CollectionPath(namespace='aleph-alpha', collection='graph-rag-workshop'),\n",
       " CollectionPath(namespace='aleph-alpha', collection='pbw-debug'),\n",
       " CollectionPath(namespace='aleph-alpha', collection='demo-collection-delete2'),\n",
       " CollectionPath(namespace='aleph-alpha', collection='infineon-manuals2'),\n",
       " CollectionPath(namespace='aleph-alpha', collection='infineon-manuals-html'),\n",
       " CollectionPath(namespace='aleph-alpha', collection='rewe-hr-document-based'),\n",
       " CollectionPath(namespace='aleph-alpha', collection='concise-findings'),\n",
       " CollectionPath(namespace='aleph-alpha', collection='preliminary-findings'),\n",
       " CollectionPath(namespace='aleph-alpha', collection='measures'),\n",
       " CollectionPath(namespace='aleph-alpha', collection='demo-collection-delete'),\n",
       " CollectionPath(namespace='aleph-alpha', collection='meta-data-filtering-demo')]"
      ]
     },
     "execution_count": 16,
     "metadata": {},
     "output_type": "execute_result"
    }
   ],
   "execution_count": 16
  },
  {
   "cell_type": "markdown",
   "metadata": {},
   "source": [
    "### Delete a Collection"
   ]
  },
  {
   "cell_type": "code",
   "metadata": {
    "ExecuteTime": {
     "end_time": "2024-11-27T11:49:18.067664Z",
     "start_time": "2024-11-27T11:49:17.801742Z"
    }
   },
   "source": [
    "def _delete_collection(collection_name: str):\n",
    "    document_index = DocumentIndexClient(\n",
    "            token=AA_TOKEN,\n",
    "        )\n",
    "    collection_path = CollectionPath(\n",
    "        namespace=NAMESPACE, \n",
    "        collection=collection_name,\n",
    "    )\n",
    "    # delete collection\n",
    "    document_index.delete_collection(collection_path)\n",
    "\n",
    "_delete_collection(COLLECTION_NAME_DELETE)\n",
    "# get collections to see if it was successfull\n",
    "get_collections()\n"
   ],
   "outputs": [
    {
     "data": {
      "text/plain": [
       "[CollectionPath(namespace='aleph-alpha', collection='demo-case-study-bosch-team-sru'),\n",
       " CollectionPath(namespace='aleph-alpha', collection='Jan-IL-vs-LC'),\n",
       " CollectionPath(namespace='aleph-alpha', collection='image-demo'),\n",
       " CollectionPath(namespace='aleph-alpha', collection='search-evaluation'),\n",
       " CollectionPath(namespace='aleph-alpha', collection='0010600002Eb5faAAB-demo'),\n",
       " CollectionPath(namespace='aleph-alpha', collection='wikipedia-de'),\n",
       " CollectionPath(namespace='aleph-alpha', collection='infineon-applikationsbeispiel'),\n",
       " CollectionPath(namespace='aleph-alpha', collection='f13-ci-collection'),\n",
       " CollectionPath(namespace='aleph-alpha', collection='bpa-demo-conet'),\n",
       " CollectionPath(namespace='aleph-alpha', collection='test-collection'),\n",
       " CollectionPath(namespace='aleph-alpha', collection='faqs'),\n",
       " CollectionPath(namespace='aleph-alpha', collection='BMZ-demo'),\n",
       " CollectionPath(namespace='aleph-alpha', collection='topic-test'),\n",
       " CollectionPath(namespace='aleph-alpha', collection='documents'),\n",
       " CollectionPath(namespace='aleph-alpha', collection='topic-test-1'),\n",
       " CollectionPath(namespace='aleph-alpha', collection='intelligence-layer-sdk-ci'),\n",
       " CollectionPath(namespace='aleph-alpha', collection='wikipedia-de-2'),\n",
       " CollectionPath(namespace='aleph-alpha', collection='Test'),\n",
       " CollectionPath(namespace='aleph-alpha', collection='kivo-docs'),\n",
       " CollectionPath(namespace='aleph-alpha', collection='demo'),\n",
       " CollectionPath(namespace='aleph-alpha', collection='capgemini-demo'),\n",
       " CollectionPath(namespace='aleph-alpha', collection='test'),\n",
       " CollectionPath(namespace='aleph-alpha', collection='demo-notebook'),\n",
       " CollectionPath(namespace='aleph-alpha', collection='ci-collection'),\n",
       " CollectionPath(namespace='aleph-alpha', collection='00606000018E361AAC-demo'),\n",
       " CollectionPath(namespace='aleph-alpha', collection='evaluation'),\n",
       " CollectionPath(namespace='aleph-alpha', collection='demo-collection-delete-2'),\n",
       " CollectionPath(namespace='aleph-alpha', collection='lumi-hd-documents'),\n",
       " CollectionPath(namespace='aleph-alpha', collection='lumi-hd-contacts'),\n",
       " CollectionPath(namespace='aleph-alpha', collection='demo-notebook1'),\n",
       " CollectionPath(namespace='aleph-alpha', collection='cybersec-rag-emails'),\n",
       " CollectionPath(namespace='aleph-alpha', collection='doc-qa-test'),\n",
       " CollectionPath(namespace='aleph-alpha', collection='bpa-demo'),\n",
       " CollectionPath(namespace='aleph-alpha', collection='infineon-manuals'),\n",
       " CollectionPath(namespace='aleph-alpha', collection='bpa-showcase'),\n",
       " CollectionPath(namespace='aleph-alpha', collection='cybersec-rag-emails-demo'),\n",
       " CollectionPath(namespace='aleph-alpha', collection='study-case-qa'),\n",
       " CollectionPath(namespace='aleph-alpha', collection='multiple-index-demo'),\n",
       " CollectionPath(namespace='aleph-alpha', collection='doc-qa'),\n",
       " CollectionPath(namespace='aleph-alpha', collection='bulletin-showcase-euparl'),\n",
       " CollectionPath(namespace='aleph-alpha', collection='il-competitor-analysis'),\n",
       " CollectionPath(namespace='aleph-alpha', collection='alfred-ops-codes'),\n",
       " CollectionPath(namespace='aleph-alpha', collection='alfred-icd10-codes'),\n",
       " CollectionPath(namespace='aleph-alpha', collection='bdr-demo'),\n",
       " CollectionPath(namespace='aleph-alpha', collection='alfred-faq'),\n",
       " CollectionPath(namespace='aleph-alpha', collection='alfred-documents'),\n",
       " CollectionPath(namespace='aleph-alpha', collection='doc-qa-raptor'),\n",
       " CollectionPath(namespace='aleph-alpha', collection='handbuch-demo'),\n",
       " CollectionPath(namespace='aleph-alpha', collection='rewe-workshop-prep-20'),\n",
       " CollectionPath(namespace='aleph-alpha', collection='intelligence-layer-sdk-demo-collection'),\n",
       " CollectionPath(namespace='aleph-alpha', collection='intelligence-layer-sdk-demo-index'),\n",
       " CollectionPath(namespace='aleph-alpha', collection='bmbf-demo'),\n",
       " CollectionPath(namespace='aleph-alpha', collection='infineon-code-abstracts'),\n",
       " CollectionPath(namespace='aleph-alpha', collection='infineon-datasheets-html-format-tables'),\n",
       " CollectionPath(namespace='aleph-alpha', collection='infineon-tables'),\n",
       " CollectionPath(namespace='aleph-alpha', collection='intelligence-layer-sdk-ci-2024-09-26'),\n",
       " CollectionPath(namespace='aleph-alpha', collection='infineon-tables-2'),\n",
       " CollectionPath(namespace='aleph-alpha', collection='00000'),\n",
       " CollectionPath(namespace='aleph-alpha', collection='rewe-workshop-prep'),\n",
       " CollectionPath(namespace='aleph-alpha', collection='pharia-kernel-demo-collection'),\n",
       " CollectionPath(namespace='aleph-alpha', collection='infineon-complete-html-format-tables'),\n",
       " CollectionPath(namespace='aleph-alpha', collection='test-assistant-ieee-software-requirements-patterns-req-only'),\n",
       " CollectionPath(namespace='aleph-alpha', collection='demo2'),\n",
       " CollectionPath(namespace='aleph-alpha', collection='lumi-hd-events-test'),\n",
       " CollectionPath(namespace='aleph-alpha', collection='di-uploader-test'),\n",
       " CollectionPath(namespace='aleph-alpha', collection='test-jan-karstens'),\n",
       " CollectionPath(namespace='aleph-alpha', collection='lumi-hd-documents-test'),\n",
       " CollectionPath(namespace='aleph-alpha', collection='lumi-hd-contacts-test'),\n",
       " CollectionPath(namespace='aleph-alpha', collection='BDR-Tech-Demo'),\n",
       " CollectionPath(namespace='aleph-alpha', collection='byte-bayernportal-longversion'),\n",
       " CollectionPath(namespace='aleph-alpha', collection='infineon-manuals-html-format-tables'),\n",
       " CollectionPath(namespace='aleph-alpha', collection='test-assistant-infineon-data-req-ver'),\n",
       " CollectionPath(namespace='aleph-alpha', collection='docs-with-tables-test'),\n",
       " CollectionPath(namespace='aleph-alpha', collection='infineon-functional-blocks'),\n",
       " CollectionPath(namespace='aleph-alpha', collection='rewe-hr'),\n",
       " CollectionPath(namespace='aleph-alpha', collection='risk-assessment'),\n",
       " CollectionPath(namespace='aleph-alpha', collection='fact-checker-poc-collection-1'),\n",
       " CollectionPath(namespace='aleph-alpha', collection='infineon-errata'),\n",
       " CollectionPath(namespace='aleph-alpha', collection='graph-rag-workshop-koalitionsvertrag'),\n",
       " CollectionPath(namespace='aleph-alpha', collection='wuerth-produktdatenblaetter-schraubenzieher'),\n",
       " CollectionPath(namespace='aleph-alpha', collection='BayLfSt-demo'),\n",
       " CollectionPath(namespace='aleph-alpha', collection='infineon-recota-rag-v2'),\n",
       " CollectionPath(namespace='aleph-alpha', collection='infineon-errata-from-pdfs'),\n",
       " CollectionPath(namespace='aleph-alpha', collection='opmobility-requirements'),\n",
       " CollectionPath(namespace='aleph-alpha', collection='rewe-workshop-prep-30'),\n",
       " CollectionPath(namespace='aleph-alpha', collection='rewe-workshop-prep-100'),\n",
       " CollectionPath(namespace='aleph-alpha', collection='test-assistant-ieee-software-requirements-patterns-req-ver'),\n",
       " CollectionPath(namespace='aleph-alpha', collection='uc-22406'),\n",
       " CollectionPath(namespace='aleph-alpha', collection='rewe-delivery-faq'),\n",
       " CollectionPath(namespace='aleph-alpha', collection='infineon-test-collection'),\n",
       " CollectionPath(namespace='aleph-alpha', collection='graph-rag-infineon-datasheets-html-format-tables'),\n",
       " CollectionPath(namespace='aleph-alpha', collection='infineon-application-notes'),\n",
       " CollectionPath(namespace='aleph-alpha', collection='test-assistant-infineon-data-req-only'),\n",
       " CollectionPath(namespace='aleph-alpha', collection='infineon-functional-blocks-TEST'),\n",
       " CollectionPath(namespace='aleph-alpha', collection='byte-bayernportal-shortversion'),\n",
       " CollectionPath(namespace='aleph-alpha', collection='demo-2'),\n",
       " CollectionPath(namespace='aleph-alpha', collection='pharia-data-api-demo-collection'),\n",
       " CollectionPath(namespace='aleph-alpha', collection='pharia-data-etl-test-collection'),\n",
       " CollectionPath(namespace='aleph-alpha', collection='fact-checker-poc-collection-2'),\n",
       " CollectionPath(namespace='aleph-alpha', collection='infineon-application-notes-TEST'),\n",
       " CollectionPath(namespace='aleph-alpha', collection='graph-rag-workshop'),\n",
       " CollectionPath(namespace='aleph-alpha', collection='pbw-debug'),\n",
       " CollectionPath(namespace='aleph-alpha', collection='demo-collection-delete2'),\n",
       " CollectionPath(namespace='aleph-alpha', collection='infineon-manuals2'),\n",
       " CollectionPath(namespace='aleph-alpha', collection='infineon-manuals-html'),\n",
       " CollectionPath(namespace='aleph-alpha', collection='rewe-hr-document-based'),\n",
       " CollectionPath(namespace='aleph-alpha', collection='concise-findings'),\n",
       " CollectionPath(namespace='aleph-alpha', collection='preliminary-findings'),\n",
       " CollectionPath(namespace='aleph-alpha', collection='measures'),\n",
       " CollectionPath(namespace='aleph-alpha', collection='meta-data-filtering-demo')]"
      ]
     },
     "execution_count": 17,
     "metadata": {},
     "output_type": "execute_result"
    }
   ],
   "execution_count": 17
  },
  {
   "cell_type": "markdown",
   "metadata": {},
   "source": [
    "## Documents"
   ]
  },
  {
   "cell_type": "markdown",
   "metadata": {},
   "source": [
    "### Parse Content of Document (PDF, TXT and DOCX) "
   ]
  },
  {
   "cell_type": "code",
   "metadata": {
    "ExecuteTime": {
     "end_time": "2024-11-27T11:49:18.102632Z",
     "start_time": "2024-11-27T11:49:18.086168Z"
    }
   },
   "source": [
    "from pathlib import Path\n",
    "from parser import FileParser\n",
    "\n",
    "def get_file_content(path) -> tuple[str, str]:\n",
    "    \"\"\"Returns content and file name.\"\"\"\n",
    "    parser = FileParser()\n",
    "    file_content, file_name = parser.parse(path)\n",
    "    return file_content, file_name\n",
    "\n",
    "root = Path().cwd().parent.parent / \"example_documents\"\n",
    "PATH_PDF = root / \"Der-Schattenmann.pdf\"\n",
    "PATH_TXT = root / \"Plyscraper.txt\"\n",
    "PATH_DOCX = root / \"Erfunde-Programmiersprache.docx\"\n",
    "\n",
    "file_content, file_name = get_file_content(PATH_DOCX)\n",
    "\n",
    "print(\"File name:\", file_name, \"\\n\", \"-\"*50)\n",
    "print(file_content)\n"
   ],
   "outputs": [
    {
     "name": "stdout",
     "output_type": "stream",
     "text": [
      "File name: Erfunde-Programmiersprache.docx \n",
      " --------------------------------------------------\n",
      "Einführung in Nohtyp\n",
      "Willkommen bei Nohtyp, der Programmiersprache, die alles auf den Kopf stellt! Nohtyp ist eine skurrile und einzigartige Sprache, die entwickelt wurde, um Programmierer herauszufordern und zu unterhalten. Hier sind die Grundlagen, um loszulegen.\n",
      "1. Syntax\n",
      "Die Syntax von Nohtyp ist ungewöhnlich und erfordert ein Umdenken. Hier sind einige grundlegende Regeln:\n",
      "Rückwärts-Schreiben: Alle Befehle und Variablennamen müssen rückwärts geschrieben werden.\n",
      "Kein Leerzeichen: Leerzeichen sind nicht erlaubt. Verwenden Sie stattdessen Unterstriche _.\n",
      "Zahlen in Worten: Zahlen müssen als Wörter geschrieben werden (z.B. eins, zwei, drei).\n",
      "2. Variablen\n",
      "Variablen in Nohtyp werden wie folgt deklariert:\n",
      "niam_var = \"Hallo Welt\"\n",
      "Hier ist niam_var die Variable main_var, rückwärts geschrieben.\n",
      "3. Datentypen\n",
      "Nohtyp unterstützt die folgenden Datentypen:\n",
      "Zeichenkette: Zeichenketten werden in doppelte Anführungszeichen gesetzt.\n",
      "Ganzzahlen: Ganzzahlen werden als Wörter geschrieben.\n",
      "Listen: Listen werden in eckige Klammern gesetzt und durch Kommas getrennt.\n",
      "Beispiel:\n",
      "4. Funktionen\n",
      "Funktionen in Nohtyp werden wie folgt definiert:\n",
      "Hier ist noitcnuf_niam die Funktion main_function, rückwärts geschrieben.\n",
      "5. Kontrollstrukturen\n",
      "Nohtyp verwendet ungewöhnliche Kontrollstrukturen:\n",
      "Wenn-Bedingung: fi\n",
      "Schleife: elihw\n",
      "6. Ein einfaches Programm\n",
      "Hier ist ein einfaches Nohtyp-Programm, das “Hallo Welt” ausgibt:\n",
      "7. Kommentare\n",
      "Kommentare werden mit § eingeleitet und sind einzeilig:\n",
      "Viel Spaß beim Programmieren mit Nohtyp! Es ist eine Herausforderung, aber auch eine unterhaltsame Art, Ihre Programmierfähigkeiten zu testen. 😊\n",
      "\n",
      "\n",
      "\n",
      "\n",
      "\n",
      "\n",
      "\n"
     ]
    }
   ],
   "execution_count": 18
  },
  {
   "cell_type": "markdown",
   "metadata": {},
   "source": [
    "### Upload Content"
   ]
  },
  {
   "cell_type": "code",
   "metadata": {
    "ExecuteTime": {
     "end_time": "2024-11-27T11:49:18.600121Z",
     "start_time": "2024-11-27T11:49:18.170866Z"
    }
   },
   "source": [
    "\n",
    "from intelligence_layer.connectors import (\n",
    "    CollectionPath,\n",
    "    DocumentContents,\n",
    "    DocumentIndexClient,\n",
    "    DocumentPath,\n",
    ")\n",
    "from datetime import datetime\n",
    "\n",
    "def upload_document(file_path: str, collection_name: str):\n",
    "    document_index = DocumentIndexClient(\n",
    "        token=AA_TOKEN,\n",
    "    )\n",
    "    collection_path = CollectionPath(\n",
    "        namespace=NAMESPACE, \n",
    "        collection=collection_name,\n",
    "    )\n",
    "    file_content, file_name = get_file_content(file_path)\n",
    "    document_path = DocumentPath(\n",
    "            collection_path=collection_path,\n",
    "            document_name=file_name,\n",
    "        )\n",
    "    document_contents = DocumentContents.from_text(file_content)\n",
    "    document_contents.metadata = {\n",
    "        \"upload_date\": datetime.now().isoformat()\n",
    "    }\n",
    "    document_index.add_document(\n",
    "        document_path, \n",
    "        contents=document_contents,\n",
    "    )\n",
    "\n",
    "upload_document(PATH_PDF, COLLECTION_NAME)\n",
    "upload_document(PATH_TXT, COLLECTION_NAME)\n",
    "upload_document(PATH_DOCX, COLLECTION_NAME)"
   ],
   "outputs": [],
   "execution_count": 19
  },
  {
   "cell_type": "markdown",
   "metadata": {},
   "source": [
    "### Get all Documents within a Collection"
   ]
  },
  {
   "cell_type": "code",
   "metadata": {
    "ExecuteTime": {
     "end_time": "2024-11-27T11:49:18.782671Z",
     "start_time": "2024-11-27T11:49:18.604210Z"
    }
   },
   "source": [
    "\n",
    "def get_documents(collection_name: str):\n",
    "    document_index = DocumentIndexClient(\n",
    "        token=AA_TOKEN,\n",
    "    )\n",
    "    collection_path = CollectionPath(\n",
    "        namespace=NAMESPACE, \n",
    "        collection=collection_name,\n",
    "    )\n",
    "    documents = document_index.documents(\n",
    "        collection_path=collection_path,\n",
    "    )\n",
    "    return documents\n",
    "\n",
    "documents = get_documents(COLLECTION_NAME)\n",
    "\n",
    "for document in documents:\n",
    "    print(document.model_dump_json(indent=2))"
   ],
   "outputs": [
    {
     "name": "stdout",
     "output_type": "stream",
     "text": [
      "{\n",
      "  \"document_path\": {\n",
      "    \"collection_path\": {\n",
      "      \"namespace\": \"aleph-alpha\",\n",
      "      \"collection\": \"demo\"\n",
      "    },\n",
      "    \"document_name\": \"Erfunde-Programmiersprache.docx\"\n",
      "  },\n",
      "  \"created\": \"2024-11-27T11:49:18.615543\",\n",
      "  \"version\": 1\n",
      "}\n",
      "{\n",
      "  \"document_path\": {\n",
      "    \"collection_path\": {\n",
      "      \"namespace\": \"aleph-alpha\",\n",
      "      \"collection\": \"demo\"\n",
      "    },\n",
      "    \"document_name\": \"Plyscraper.txt\"\n",
      "  },\n",
      "  \"created\": \"2024-11-27T11:49:18.515651\",\n",
      "  \"version\": 1\n",
      "}\n",
      "{\n",
      "  \"document_path\": {\n",
      "    \"collection_path\": {\n",
      "      \"namespace\": \"aleph-alpha\",\n",
      "      \"collection\": \"demo\"\n",
      "    },\n",
      "    \"document_name\": \"Der-Schattenmann.pdf\"\n",
      "  },\n",
      "  \"created\": \"2024-11-27T11:49:18.403193\",\n",
      "  \"version\": 1\n",
      "}\n",
      "{\n",
      "  \"document_path\": {\n",
      "    \"collection_path\": {\n",
      "      \"namespace\": \"aleph-alpha\",\n",
      "      \"collection\": \"demo\"\n",
      "    },\n",
      "    \"document_name\": \"Apollo 11 Mission\"\n",
      "  },\n",
      "  \"created\": \"2024-08-29T09:04:02.557691\",\n",
      "  \"version\": 1\n",
      "}\n",
      "{\n",
      "  \"document_path\": {\n",
      "    \"collection_path\": {\n",
      "      \"namespace\": \"aleph-alpha\",\n",
      "      \"collection\": \"demo\"\n",
      "    },\n",
      "    \"document_name\": \"nelson_rockefeller\"\n",
      "  },\n",
      "  \"created\": \"2024-08-09T20:18:35.800891\",\n",
      "  \"version\": 31\n",
      "}\n",
      "{\n",
      "  \"document_path\": {\n",
      "    \"collection_path\": {\n",
      "      \"namespace\": \"aleph-alpha\",\n",
      "      \"collection\": \"demo\"\n",
      "    },\n",
      "    \"document_name\": \"jane_jacobs\"\n",
      "  },\n",
      "  \"created\": \"2024-08-09T20:18:35.627444\",\n",
      "  \"version\": 29\n",
      "}\n",
      "{\n",
      "  \"document_path\": {\n",
      "    \"collection_path\": {\n",
      "      \"namespace\": \"aleph-alpha\",\n",
      "      \"collection\": \"demo\"\n",
      "    },\n",
      "    \"document_name\": \"robert_moses\"\n",
      "  },\n",
      "  \"created\": \"2024-08-09T20:18:35.472325\",\n",
      "  \"version\": 34\n",
      "}\n",
      "{\n",
      "  \"document_path\": {\n",
      "    \"collection_path\": {\n",
      "      \"namespace\": \"aleph-alpha\",\n",
      "      \"collection\": \"demo\"\n",
      "    },\n",
      "    \"document_name\": \"TKT1009\"\n",
      "  },\n",
      "  \"created\": \"2024-04-16T18:38:25.321925\",\n",
      "  \"version\": 1\n",
      "}\n",
      "{\n",
      "  \"document_path\": {\n",
      "    \"collection_path\": {\n",
      "      \"namespace\": \"aleph-alpha\",\n",
      "      \"collection\": \"demo\"\n",
      "    },\n",
      "    \"document_name\": \"TKT1008\"\n",
      "  },\n",
      "  \"created\": \"2024-04-16T18:38:24.984779\",\n",
      "  \"version\": 1\n",
      "}\n",
      "{\n",
      "  \"document_path\": {\n",
      "    \"collection_path\": {\n",
      "      \"namespace\": \"aleph-alpha\",\n",
      "      \"collection\": \"demo\"\n",
      "    },\n",
      "    \"document_name\": \"TKT1007\"\n",
      "  },\n",
      "  \"created\": \"2024-04-16T18:38:24.666370\",\n",
      "  \"version\": 1\n",
      "}\n",
      "{\n",
      "  \"document_path\": {\n",
      "    \"collection_path\": {\n",
      "      \"namespace\": \"aleph-alpha\",\n",
      "      \"collection\": \"demo\"\n",
      "    },\n",
      "    \"document_name\": \"TKT1006\"\n",
      "  },\n",
      "  \"created\": \"2024-04-16T18:38:24.351560\",\n",
      "  \"version\": 1\n",
      "}\n",
      "{\n",
      "  \"document_path\": {\n",
      "    \"collection_path\": {\n",
      "      \"namespace\": \"aleph-alpha\",\n",
      "      \"collection\": \"demo\"\n",
      "    },\n",
      "    \"document_name\": \"TKT1005\"\n",
      "  },\n",
      "  \"created\": \"2024-04-16T18:38:24.032960\",\n",
      "  \"version\": 1\n",
      "}\n",
      "{\n",
      "  \"document_path\": {\n",
      "    \"collection_path\": {\n",
      "      \"namespace\": \"aleph-alpha\",\n",
      "      \"collection\": \"demo\"\n",
      "    },\n",
      "    \"document_name\": \"TKT1004\"\n",
      "  },\n",
      "  \"created\": \"2024-04-16T18:38:23.721178\",\n",
      "  \"version\": 1\n",
      "}\n",
      "{\n",
      "  \"document_path\": {\n",
      "    \"collection_path\": {\n",
      "      \"namespace\": \"aleph-alpha\",\n",
      "      \"collection\": \"demo\"\n",
      "    },\n",
      "    \"document_name\": \"TKT1003\"\n",
      "  },\n",
      "  \"created\": \"2024-04-16T18:38:23.381143\",\n",
      "  \"version\": 1\n",
      "}\n",
      "{\n",
      "  \"document_path\": {\n",
      "    \"collection_path\": {\n",
      "      \"namespace\": \"aleph-alpha\",\n",
      "      \"collection\": \"demo\"\n",
      "    },\n",
      "    \"document_name\": \"TKT1002\"\n",
      "  },\n",
      "  \"created\": \"2024-04-16T18:38:23.101439\",\n",
      "  \"version\": 1\n",
      "}\n",
      "{\n",
      "  \"document_path\": {\n",
      "    \"collection_path\": {\n",
      "      \"namespace\": \"aleph-alpha\",\n",
      "      \"collection\": \"demo\"\n",
      "    },\n",
      "    \"document_name\": \"TKT1001\"\n",
      "  },\n",
      "  \"created\": \"2024-04-16T18:38:22.731025\",\n",
      "  \"version\": 1\n",
      "}\n",
      "{\n",
      "  \"document_path\": {\n",
      "    \"collection_path\": {\n",
      "      \"namespace\": \"aleph-alpha\",\n",
      "      \"collection\": \"demo\"\n",
      "    },\n",
      "    \"document_name\": \"TKT1000\"\n",
      "  },\n",
      "  \"created\": \"2024-04-16T18:38:22.304618\",\n",
      "  \"version\": 1\n",
      "}\n",
      "{\n",
      "  \"document_path\": {\n",
      "    \"collection_path\": {\n",
      "      \"namespace\": \"aleph-alpha\",\n",
      "      \"collection\": \"demo\"\n",
      "    },\n",
      "    \"document_name\": \"TCKT-1078\"\n",
      "  },\n",
      "  \"created\": \"2024-04-16T18:38:21.941525\",\n",
      "  \"version\": 1\n",
      "}\n",
      "{\n",
      "  \"document_path\": {\n",
      "    \"collection_path\": {\n",
      "      \"namespace\": \"aleph-alpha\",\n",
      "      \"collection\": \"demo\"\n",
      "    },\n",
      "    \"document_name\": \"TCKT-1076\"\n",
      "  },\n",
      "  \"created\": \"2024-04-16T18:38:21.606629\",\n",
      "  \"version\": 1\n",
      "}\n",
      "{\n",
      "  \"document_path\": {\n",
      "    \"collection_path\": {\n",
      "      \"namespace\": \"aleph-alpha\",\n",
      "      \"collection\": \"demo\"\n",
      "    },\n",
      "    \"document_name\": \"TCKT-1059\"\n",
      "  },\n",
      "  \"created\": \"2024-04-16T18:38:21.231763\",\n",
      "  \"version\": 1\n",
      "}\n",
      "{\n",
      "  \"document_path\": {\n",
      "    \"collection_path\": {\n",
      "      \"namespace\": \"aleph-alpha\",\n",
      "      \"collection\": \"demo\"\n",
      "    },\n",
      "    \"document_name\": \"TCKT-1057\"\n",
      "  },\n",
      "  \"created\": \"2024-04-16T18:38:20.844266\",\n",
      "  \"version\": 1\n",
      "}\n",
      "{\n",
      "  \"document_path\": {\n",
      "    \"collection_path\": {\n",
      "      \"namespace\": \"aleph-alpha\",\n",
      "      \"collection\": \"demo\"\n",
      "    },\n",
      "    \"document_name\": \"TCKT-1055\"\n",
      "  },\n",
      "  \"created\": \"2024-04-16T18:38:20.501809\",\n",
      "  \"version\": 1\n",
      "}\n",
      "{\n",
      "  \"document_path\": {\n",
      "    \"collection_path\": {\n",
      "      \"namespace\": \"aleph-alpha\",\n",
      "      \"collection\": \"demo\"\n",
      "    },\n",
      "    \"document_name\": \"TCKT-1054\"\n",
      "  },\n",
      "  \"created\": \"2024-04-16T18:38:20.221662\",\n",
      "  \"version\": 1\n",
      "}\n",
      "{\n",
      "  \"document_path\": {\n",
      "    \"collection_path\": {\n",
      "      \"namespace\": \"aleph-alpha\",\n",
      "      \"collection\": \"demo\"\n",
      "    },\n",
      "    \"document_name\": \"TCKT-1053\"\n",
      "  },\n",
      "  \"created\": \"2024-04-16T18:38:19.863937\",\n",
      "  \"version\": 1\n",
      "}\n",
      "{\n",
      "  \"document_path\": {\n",
      "    \"collection_path\": {\n",
      "      \"namespace\": \"aleph-alpha\",\n",
      "      \"collection\": \"demo\"\n",
      "    },\n",
      "    \"document_name\": \"TCKT-1052\"\n",
      "  },\n",
      "  \"created\": \"2024-04-16T18:38:19.505008\",\n",
      "  \"version\": 1\n",
      "}\n",
      "{\n",
      "  \"document_path\": {\n",
      "    \"collection_path\": {\n",
      "      \"namespace\": \"aleph-alpha\",\n",
      "      \"collection\": \"demo\"\n",
      "    },\n",
      "    \"document_name\": \"TCKT-1051\"\n",
      "  },\n",
      "  \"created\": \"2024-04-16T18:38:19.206234\",\n",
      "  \"version\": 1\n",
      "}\n",
      "{\n",
      "  \"document_path\": {\n",
      "    \"collection_path\": {\n",
      "      \"namespace\": \"aleph-alpha\",\n",
      "      \"collection\": \"demo\"\n",
      "    },\n",
      "    \"document_name\": \"TCKT-1050\"\n",
      "  },\n",
      "  \"created\": \"2024-04-16T18:38:18.882343\",\n",
      "  \"version\": 1\n",
      "}\n",
      "{\n",
      "  \"document_path\": {\n",
      "    \"collection_path\": {\n",
      "      \"namespace\": \"aleph-alpha\",\n",
      "      \"collection\": \"demo\"\n",
      "    },\n",
      "    \"document_name\": \"TCKT-1049\"\n",
      "  },\n",
      "  \"created\": \"2024-04-16T18:38:18.564074\",\n",
      "  \"version\": 1\n",
      "}\n",
      "{\n",
      "  \"document_path\": {\n",
      "    \"collection_path\": {\n",
      "      \"namespace\": \"aleph-alpha\",\n",
      "      \"collection\": \"demo\"\n",
      "    },\n",
      "    \"document_name\": \"TCKT-1048\"\n",
      "  },\n",
      "  \"created\": \"2024-04-16T18:38:18.263845\",\n",
      "  \"version\": 1\n",
      "}\n",
      "{\n",
      "  \"document_path\": {\n",
      "    \"collection_path\": {\n",
      "      \"namespace\": \"aleph-alpha\",\n",
      "      \"collection\": \"demo\"\n",
      "    },\n",
      "    \"document_name\": \"TCKT-1047\"\n",
      "  },\n",
      "  \"created\": \"2024-04-16T18:38:17.907021\",\n",
      "  \"version\": 1\n",
      "}\n",
      "{\n",
      "  \"document_path\": {\n",
      "    \"collection_path\": {\n",
      "      \"namespace\": \"aleph-alpha\",\n",
      "      \"collection\": \"demo\"\n",
      "    },\n",
      "    \"document_name\": \"TCKT-1046\"\n",
      "  },\n",
      "  \"created\": \"2024-04-16T18:38:17.563904\",\n",
      "  \"version\": 1\n",
      "}\n",
      "{\n",
      "  \"document_path\": {\n",
      "    \"collection_path\": {\n",
      "      \"namespace\": \"aleph-alpha\",\n",
      "      \"collection\": \"demo\"\n",
      "    },\n",
      "    \"document_name\": \"TCKT-1045\"\n",
      "  },\n",
      "  \"created\": \"2024-04-16T18:38:17.204945\",\n",
      "  \"version\": 1\n",
      "}\n",
      "{\n",
      "  \"document_path\": {\n",
      "    \"collection_path\": {\n",
      "      \"namespace\": \"aleph-alpha\",\n",
      "      \"collection\": \"demo\"\n",
      "    },\n",
      "    \"document_name\": \"TCKT-1044\"\n",
      "  },\n",
      "  \"created\": \"2024-04-16T18:11:29.135851\",\n",
      "  \"version\": 1\n",
      "}\n",
      "{\n",
      "  \"document_path\": {\n",
      "    \"collection_path\": {\n",
      "      \"namespace\": \"aleph-alpha\",\n",
      "      \"collection\": \"demo\"\n",
      "    },\n",
      "    \"document_name\": \"TCKT-1013\"\n",
      "  },\n",
      "  \"created\": \"2024-04-16T18:11:28.823863\",\n",
      "  \"version\": 1\n",
      "}\n",
      "{\n",
      "  \"document_path\": {\n",
      "    \"collection_path\": {\n",
      "      \"namespace\": \"aleph-alpha\",\n",
      "      \"collection\": \"demo\"\n",
      "    },\n",
      "    \"document_name\": \"TCKT-1012\"\n",
      "  },\n",
      "  \"created\": \"2024-04-16T18:11:28.506529\",\n",
      "  \"version\": 1\n",
      "}\n",
      "{\n",
      "  \"document_path\": {\n",
      "    \"collection_path\": {\n",
      "      \"namespace\": \"aleph-alpha\",\n",
      "      \"collection\": \"demo\"\n",
      "    },\n",
      "    \"document_name\": \"TCKT-1011\"\n",
      "  },\n",
      "  \"created\": \"2024-04-16T18:11:28.216216\",\n",
      "  \"version\": 1\n",
      "}\n",
      "{\n",
      "  \"document_path\": {\n",
      "    \"collection_path\": {\n",
      "      \"namespace\": \"aleph-alpha\",\n",
      "      \"collection\": \"demo\"\n",
      "    },\n",
      "    \"document_name\": \"TCKT-1010\"\n",
      "  },\n",
      "  \"created\": \"2024-04-16T18:11:27.890140\",\n",
      "  \"version\": 1\n",
      "}\n",
      "{\n",
      "  \"document_path\": {\n",
      "    \"collection_path\": {\n",
      "      \"namespace\": \"aleph-alpha\",\n",
      "      \"collection\": \"demo\"\n",
      "    },\n",
      "    \"document_name\": \"demo\"\n",
      "  },\n",
      "  \"created\": \"2023-10-02T10:43:40.891681\",\n",
      "  \"version\": 1\n",
      "}\n"
     ]
    }
   ],
   "execution_count": 20
  },
  {
   "cell_type": "markdown",
   "metadata": {},
   "source": [
    "### Get Single Document (and Content)"
   ]
  },
  {
   "cell_type": "code",
   "metadata": {
    "ExecuteTime": {
     "end_time": "2024-11-27T11:49:18.918750Z",
     "start_time": "2024-11-27T11:49:18.802841Z"
    }
   },
   "source": [
    "from intelligence_layer.connectors import (\n",
    "    CollectionPath,\n",
    "    DocumentIndexClient,\n",
    "    DocumentIndexRetriever,\n",
    "    IndexConfiguration,\n",
    "    IndexPath,\n",
    "    DocumentPath\n",
    ")\n",
    "def get_document(collection_name: str, document_name: str):\n",
    "    document_index = DocumentIndexClient(\n",
    "        token=AA_TOKEN,\n",
    "    )\n",
    "    collection_path = CollectionPath(\n",
    "        namespace=NAMESPACE, \n",
    "        collection=collection_name,\n",
    "    )\n",
    "    document_path = DocumentPath(\n",
    "        collection_path=collection_path,\n",
    "        document_name=document_name,\n",
    "    )\n",
    "    return document_index.document(document_path)\n",
    "\n",
    "document_name_pdf = \"Der-Schattenmann.pdf\"\n",
    "document_name_txt = \"Plyscraper.txt\"\n",
    "document_name_docx = \"Erfunde-Programmiersprache.docx\"\n",
    "\n",
    "document = get_document(\n",
    "    collection_name=COLLECTION_NAME,\n",
    "    document_name=document_name_pdf\n",
    ")\n",
    "\n",
    "print(document.model_dump_json(indent=2))"
   ],
   "outputs": [
    {
     "name": "stdout",
     "output_type": "stream",
     "text": [
      "{\n",
      "  \"contents\": [\n",
      "    \"Der Schattenmann  \\nvon Lukas Böhl  \\n \\n„Er ist verrückt“, dachte sich der kleine Jan, der im Treppenhaus des Mehrfamilienhauses saß, in \\ndem er mit seinen Eltern wohnte und den Kater der Nachbarin streichelte. „Herr Veith ist alt und \\nverrückt“. Seine Tür stand immer einen Spalt weit offen, egal ob bei Tag oder Nacht, und man \\nhörte ihn wirres Zeug flüstern. Wenn es so leise war wie jetzt, glaubte man, die Worte \\nentschlüsseln zu können, die er brabbelte. Doch so sehr man sich auch darauf konzentrierte, es \\nwar unmöglich, den Sinn dieses Kauderwelschs zu entziffern.  \\n \\nJan fuhr Felix, dem Kater, in gleichmäßigen Zügen über den Rücken. Mit der anderen Hand stützte \\ner seinen Kopf und starrte durch das große Fenster hinunter in den dunklen Hof vor dem Haus, \\nder gera de von einem heftigen Sommerregen überschwemmt wurde. Felix hasste den Regen, für \\nJan dagegen war es im Moment ein willkommener Zeitvertreib, den Tropfen beim Fallen \\nzuzusehen. Der Regen besaß die Eigenschaft, die Menschen in ihre Häuser zu treiben und was  \\nnoch besser war, er sorgte für Ruhe, indem er die meisten Geräusche dämpfte. Abgesehen von \\nder Stimme von Herrn Veith, der offensichtlich mit sich selbst redete, da er ohne Punkt und \\nKomma in einem Schwall fortfuhr und nie eine Antwort abwartete.  \\n \\nJan sah  ihn manchmal bei den Mülltonnen unten, ein geducktes Männlein mit tiefen Kerben im \\nGesicht, von denen er glaubte, dass dort 2 -Euro-Münzen reinpassen müssten. Er trug immer das \\nGleiche, jedenfalls kam es Jan so vor, seine Kleidung war so eintönig und farbl os, dass man sie \\nnicht voneinander unterscheiden konnte. Seine Haut war ebenso blass und wenn er mal kurz \\naufhörte, mit sich selbst zu reden, dann nur, um ein kratziges Keuchen aus seinen Lungen zu \\nentlassen, das ihn scheinbar seit Stunden plagte. Wenn er noch Familie hatte, dann irgendwo weit entfernt, sodass die lange Anfahrt als Ausrede herhalten konnte, den alten Sonderling nicht zu \\nbesuchen. Sein Einkauf wurde ihm zweimal wöchentlich von einer Pflegekraft gebracht, die \\naußerdem sicherstellte, dass er n icht tot war.  \\n \\nJan konnte nicht mal erklären, wieso er eine gewisse Abscheu gegen ihn empfand. Es gab viel \\nschlimmere, kinderfeindlichere Mieter im Haus. Herr Veith hatte nie geschimpft, wenn mal ein Ball \\ngegen die Scheibe geflogen war. Jan fischte noch ei n Leckerli für Felix aus seiner Hosentasche \\nund hielt es ihm hin. Der Kater nahm es dankend entgegen und verschlang fast seine kleine Hand, \\nso gierig war er. In seiner Tasche hatte er noch viel mehr davon, aber er wollte ihn nicht fett \\nfüttern. Die Nachbar in hatte sich schon mal beschwert, weil er wegen Jans Zuneigung 500 Gramm \\nzugenommen hatte, was viel war für einen Kater, wie er erfahren musste.  \\n \\nIn der Hoffnung auf ein weiteres Leckerli sah der Kater ihm fordernd in die Augen. Jan legte nur \\ndie Hand auf  dessen Kopf und sagte: „Zäh wie Rotze, dieser Sommer…“ Felix stimmte immer allem \\nzu, was Jan sagte. Daher war er so etwas wie sein bester Freund, zumindest unter den Vierbeinern. \\nDer Kater duckte sich unter seiner Hand weg, schlich um ihn herum und roch a n der Hosentasche, \\nin der sich die Leckerlis befanden. Wieder sah er ihn erwartungsvoll an, aber Jan drückte ihn mit \\nder rechten Hand weg und sagte: „Nein, sonst wirst du fett!“ Plötzlich hörten die beiden einen \\nKnall aus der Wohnung von Herrn Veith. Felix  schrak auf und rannte, einem plötzlichen Reflex \\nnachgebend, sofort nach unten.  \\n \\nJan, der sich ebenfalls erschrocken hatte, war für einen Augenblick wie versteinert. Normalerweise \\nmüsste jetzt ein Erwachsener eingreifen und sich beschweren, dachte er. Nach dem sich aber im \\nFlur nichts rührte und Felix bereits nach unten gerannt war, folgte er ihm. Er sah gerade noch, wie \\ner durch den offenen Spalt in der Wohnung verschwand. Jan sah sich wie nach Bestätigung suchend im Treppenhaus um, fand aber keinen Erwachs enen, der ihm die gewünschte Erlaubnis \\ngeben konnte und folgte daher seiner kindlichen Neugierde.  \\n \\nLeise schlich er sich zur Wohnungstür, bis er an der Schwelle angekommen war. Dort blieb er \\nstehen und horchte, ob er Herrn Veiths Stimme hören konnte. Es wa r ganz unheimlich leise im \\nHaus. „Felix“, rief er mit schwacher Stimme ins Innere, erinnerte sich aber gleich daran, dass der \\nsowieso nicht auf ihn hörte. Also schnappte er sich aus seiner Hosentasche einen Katzenkeks, \\nging in die Hocke und hob ihn in die Wohnung. Indem er die Hand hin - und herbewegte, \\nversuchte er, den Geruch zu verteilen und dadurch Felix anzulocken. Aber der Kater kam auch \\nnach wiederholtem Schwenken und abermaligem Rufen nicht.  \\n \\nDoch plötzlich glaubte Jan, etwas zu hören und aus der Hoc ke heraus lehnte er sich weiter nach \\nvorn, um das Ohr gegen die offene Tür zu legen. Ungeschickterweise lehnte er sich so weit nach \\nvorn, dass er das Gleichgewicht verlor und mit dem Gesicht vorwärts in die Wohnung plumpste. \\nDie Tür schlug geräuschvoll ers t gegen den Türstopper und dann gegen sein Knie. Im nächsten \\nMoment sprang er auf und flitzte wie von einer Biene gestochen aus der Wohnung, versteckte \\nsich hinter dem Treppengeländer und beobachtete, was passieren würde. Zu seiner \\nVerwunderung tat sich ga r nichts. Weder Herr Veith schien sich zu rühren, noch irgendein anderer \\nErwachsener im Haus.  \\n \\nJan grübelte nach. Die Teilnahmslosigkeit der Erwachsenen in dieser Sache hatte zunächst etwas \\nBefremdliches, doch als er genauer darüber nachdachte, schien es i hm wie ein Sechser im Lotto. \\nEin Freifahrtschein für eine noch nicht genau festgelegte Dummheit. Wie oft hatte man als kleiner \\nJunge schon die Möglichkeit, ungestraft in die Wohnung eines Fremden zu gehen? Jan warf all \\nseine moralischen Bedenken über den H aufen und wandte sich erneut der Wohnung zu, dieses \\nMal voller Selbstbewusstsein.   \\nDie Tür stand jetzt weit offen und er konnte ins Innere sehen. Die Wohnung war wie seine, nur \\nspiegelverkehrt. Als er so davorstand, musste er sich die Nase zuhalten, es roc h nach dem Atem \\neines alten Mannes. Mit zugehaltener Nase trat er ein und schob die Tür soweit zu, dass nur noch \\nein kleiner Spalt offen stand, so wie vorhin. Es brannte kein Licht im Flur und im geringen Schein, \\nder durch den Spalt aus dem Flur ins Innere  drang, sah er die Wohnung eines alten Mannes. An \\nder Wand hingen ätzende Bilder, die Jagdszenen oder Landschaften darstellten. An der \\nGarderobe hingen einige Jacken, von denen der muffige Geruch auszugehen schien.  \\n \\nJan lief schnell daran vorbei und ging a uf das einzige Zimmer zu, in dem Licht brannte. Es war das \\nSchlafzimmer, zumindest nutzten es seine Eltern als solches. Herr Veith aber nutzte es als eine Art \\nArbeitszimmer, in dem ein großer, alter Schreibtisch stand, auf dem lauter Zeichnungen verteilt \\nlagen. Auf der anderen Seite stand eine kleine Couch, an deren linker Lehne ein Kissen lag, auf \\ndem sehr deutlich ein Kopfabdruck zu erkennen war. Auch hier war der Geruch nach altem Mann \\nsehr präsent. Jan kippte das Fenster, weil er glaubte, sich gleich üb ergeben zu müssen. Dann \\nwandte er sich den Zeichnungen auf dem Tisch zu, die von einer sehr hellen Schreibtischlampe \\nangestrahlt wurden.  \\n \\nDie Zeichnungen waren sehr düster und in Schwarz gehalten, die Details mit Weiß \\nhervorgehoben. Jan war erstaunt, wie g ut sie waren. Eine Zeichnung zeigte einen alten Mann, der \\nzeichnet. Eine schwarze Katze saß auf seiner Schulter und blickte dem Betrachter genau in die \\nAugen. Ein anders Bild zeigte einen Mann am Kreuz ohne Kopf, über dem die Sonne aufging. Das \\nnächste ste llte einen Fisch dar, der in einer Bar saß und Wasser trank. Jan musste über den \\ndümmlichen Gesichtsausdruck lachen, den der Zeichner dem Fisch verpasst hatte.  \\n Schließlich fand er einen Stapel voller Bilder, die offensichtlich zusammengehörten. Sie alle \\nzeigten vermeintlich dasselbe Motiv: eine Parkbank neben einem Baum. Es waren bestimmt ein \\nDutzend Bilder. Das Interessante war aber die Person auf der Bank. War sie auf dem ersten Bild \\nnoch ganz zu sehen, verschwand sukzessive mit jedem weiteren Bild ein T eil der Person. Erst der \\nHut, dann der Kopf, dann die Arme, der Oberkörper und so weiter. Das Bild, auf dem nur die \\nSchuhe zu sehen waren, starrte Jan lange an. Er musste über die Vorstellung schmunzeln, dass ein \\npaar einsame Schuhe so vor einer Bank stehe n. \\n \\nDas letzte Bild zeigte schließlich nur noch den Schatten der Person, die sich eben vor Jans Augen \\nin Luft aufgelöst hatte. Er war so fasziniert von der Bilderreihe, dass er sie nochmal durchsah und \\nnochmal und nochmal. Das Erstaunen, das er empfand, immer wenn er beim letzten Bild \\nangelangte, ließ kein bisschen nach. Im Gegenteil, es wurde immer größer. Noch nie hatte er \\njemanden getroffen, der so gut zeichnen konnte. Er konnte sich auch an kein Bild erinnern, dass \\nseine Aufmerksamkeit je so gepackt hatte, wie dieser Schatten, der da einsam auf einer Bank saß.  \\n \\nSo tief in seinen Gedanken, merkte er gar nicht, wie Felix, um seine Beine streifte und versuchte, \\nsich bemerkbar zu machen. Erst als dieser auf seinen Schoß sprang, schreckte er auf un d ließ das \\nBild fallen. Es landete neben dem Stuhl auf dem Boden. „Felix! Wo kommst du denn her?“, fragte \\ner den Kater völlig verwirrt, als wäre er wo ganz anders und hätte eben nicht diese merkwürdigen \\nBilder durchgesehen. Aber der Kater war nur an dem Fu tter in seiner Hose interessiert und \\nschnupperte an der Tasche, in der sich die begehrten Leckerlis befanden. Er gab nach und holte \\ngleich zwei davon heraus. Dann bückte er sich nach der Zeichnung und betrachtete sie erneut, \\nwährend Felix laut die knusprig en Cracker zerkaute.  \\n \\nEr hob ihm das Bild direkt vor die Nase und sagte: „Schau mal, Felix, hast du sowas schon mal \\ngesehen? Ein Schatten, der auf einer Bank hockt.“ Der aber würdigte das Bild nur eines kurzen Blickes und sprang dann wieder von Jans Schoß,  lief in Richtung Tür, drehte sich zu ihm um, als \\nwolle er ihm etwas sagen und ging hinaus. Jan verstand und folgte ihm. Felix saß vor der Tür, \\nhinter der Jan das Badezimmer vermutete. Sie war verschlossen, was für ihn bedeutete, dass sich \\njemand darin bef and. Zuhause machten sie die Badtüre nie zu, es sei denn, jemand nahm ein Bad \\noder duschte.  \\n \\nJetzt erinnerte er sich auch wieder an den Knall von vorhin, der ihn erst dazu bewegt hatte, nach \\nunten zu laufen und nachzusehen. Vielleicht war es diese Tür gewe sen, die zugeschlagen worden \\nwar. Jan sah den Kater fragend an, der seinen Blick genauso ratlos erwiderte. Ein letztes Mal \\nversicherte sich Jan, ob nicht doch ein Erwachsener im Flur stand und alles mitbekommen hatte. \\nDas automatische Licht war mittlerweil e erloschen und draußen herrschte völlig Stille. \\nAnscheinend gehörten knallende Türen zu den Dingen, die ein Erwachsener als ein alltägliches \\nGeräusch einordnete. Kein Wunder, so oft wie die sich stritten. Für sie gab es viele Türen, die \\nzugeknallt werden mussten.  \\n \\nSo blieb ihm nichts anderes übrig, als an der Tür zu klopfen. Er klopfte genau dreimal, dann hielt \\ner das Ohr an die Tür und lauschte. Drinnen tat sich etwas, jemand antwortete, das heißt, jemand \\nsprach, aber nicht mit ihm, sondern mit sich selbs t. Es war die ihm wohlbekannte Stimme, die er \\nso oft gehört hatte, wenn er mit Felix im Treppenhaus gesessen und die Zeit totgeschlagen hat. \\nDa niemand sonst hier war, sah er nochmal zu Felix. Der war keine große Hilfe und leckte sich nur \\ndie Pfoten, als g inge ihn das alles nichts an. „Du bist doch hier reingelaufen!“, schimpfte er seinen \\npelzigen Freund.  \\n \\nAnschließend klopfte er nochmal und setzte gleich nach: „Herr Veith,  ist alles in Ordnung?“ \\nDieses Mal hielt er sogar den Atem als, er das Ohr an die Tü r hielt, um nichts von dem zu \\nverpassen, was er faselte. Zwischen all den unverständlichen Worten, glaubte er sowas wie „Komm herein“ gehört zu haben. Wieder sah er zu Felix, zuckte mit den Achseln und drückte die \\nKlinke nach unten. Die Tür war nicht versc hlossen und er öffnete sie behutsam, falls er sich doch \\nverhört haben sollte. Im Bad brannte Licht, das Erste, was er erkannte, waren die Füße von Herrn \\nVeith in der Badewanne.  \\n \\nAllerdings trug er seine schwarzen Lederschuhe und als er die Tür weiter öffne te, erkannte er, \\ndass er komplett angezogen in der Badewanne lag. Er trug eine braune Hose, ein graues Hemd, \\nseine Uhr und sogar die Brille hockte auf seiner Nase. So lag er in der gefüllten Wanne, starrte die \\nWand an und murmelte etwas vor sich hin. Jan g laubte, dass er jetzt völlig übergeschnappt war. \\nDa er ihn nicht zu bemerken schien, klopfte er nochmal leise an die offene Tür. Felix, der bis eben \\nvor dem Bad gesessen hatte, kam jetzt ebenfalls hereingelaufen, setzte sich vor die Badewanne \\nund miaute. B eides blieb unbeachtet.  \\n \\nAlso räusperte sich Jan und fragte: „Herr Veith, warum liegen Sie angezogen in der Badewanne?“ \\nDer hob nicht mal den Kopf, sondern murmelte nur weiter seinen Sermon vor sich hin. Für eine \\nWeile sah er ihn aufmerksam an. Ob er durch  die tiefen Falten in seinem Gesicht wohl Essen in \\nseinen Mund stecken könnte, fragte er sich. Dann seufzte er, ging kurz aus dem Zimmer und kam \\nmit der Zeichnung des Schattens auf der Parkbank wieder. Er hielt sie ihm direkt vor das Gesicht. \\nPlötzlich bew egten sich seine Hände wie mechanisch darauf zu. Da sie nicht im Wasser gelegen \\nhatten, ließ ihn Jan zupacken.  \\n \\nDer Moment, als ihre beiden Hände das Stück Papier berührten, ließ Jan einen kalten Schauer den \\nRücken hinunterlaufen. Fast konnte er die robote rhafte Kälte dieser Hände spüren. Schnell ließ er \\nlos und trat unwillkürlich einen Schritt zurück, wobei er den alten Veith keine Sekunde aus den \\nAugen ließ. Der, das Papier jetzt mit beiden Händen festhaltend, runzelte die faltige Stirn, die nun jeden Mom ent in sich zusammenzufallen drohte. Die Erkenntnis, dass das Papier nicht von alleine \\nin seine Hände geraten war, ließ ihn aufblicken.  \\n \\nZuerst bemerkte er die Katze, die jetzt auf den Hinterbeinen stehend, mit den Vorderpfoten auf \\nder Wanne lehnte und ihn ansah. Er tätschelte ihren Kopf und lächelte, wenigstens schoben sich \\nseine Mundwinkel zu Seite. Daraufhin wanderte sein Blick zu Jan, der wie erstarrt in der Ecke stand \\nund zitterte. „Hast du mir das gebracht?“, fragt er ihn, ohne sich zu wundern, das s er einfach so in \\nseine Wohnung eingedrungen war. „Ja“, stotterte Jan. „Das ist ein schönes Bild. Wer hat das \\ngezeichnet? Die Katze vielleicht?“, erwiderte der alte Mann.  \\n \\nJan, völlig perplex, konnte bei der Vorstellung ein Grinsen nicht unterdrücken und gerade noch \\neinen Lachanfall unterbinden. Er holte tief Luft und antwortete ganz nüchtern: „Das haben Sie \\ngezeichnet, Herr Veith.“ Die Antwort schien etwas mit ihm anzustellen. Sein ganzer Ausdruck \\nänderte sich plötzlich und nahm eine traurige Ausstrahlung  an. Jan glaubte etwas sagen zu \\nmüssen und so formulierte er den erstbesten Gedanken, der ihm in den Sinn kam: „Warum liegen \\nSie angezogen in der Badewanne, Herr Veith?“  \\n \\nDaraufhin wurde er noch trauriger und seine Augen wurden mit einem Mal ganz feucht. J an \\nbereute die Frage sofort und überlegte, ob er sich jetzt entschuldigen müsse. „Ich weiß es nicht!“, \\nsagte Herr Veith plötzlich und brach in Tränen aus. Nun war die Enthaltung der Erwachsenen \\nendgültig ausgereizt, dachte Jan, der die Nase voll hatte und schnell zu seiner Wohnung lief, um \\nseine Eltern zu holen. Von da an ging alles ganz schnell, plötzlich waren die Erwachsenen überall \\nim Treppenhaus und vor ihren Türen, bis schließlich die Sirenen ertönten und ein Krankenwagen \\nund die Polizei vorfuhr.  \\n Jan saß mit Felix auf der Treppe vor der Wohnung von Herrn Veith und beobachtete alles aus \\nsicherer Entfernung. Es faszinierte ihn, mit welcher Bestimmtheit die Erwachsenen solche Dinge \\nregelten. Sie wussten instinktiv, was zu tun war. Die Sanitäter holten He rrn Veith aus der \\nBadwanne und wickelten so eine glitzernde Decke um ihn. Dann führten sie ihn unter \\nschrecklichem Gebrüll aus der Wohnung. Er schimpfte und beleidigte sie. Als sie mit ihm in der \\nTürschwelle erschienen, sah er noch kleiner als sonst aus un d tat Jan plötzlich leid. Zwar verstand \\ner nicht, was mit ihm passierte, aber er wusste, dass es nichts Gutes war. Das verrieten ihm \\ndarüber hinaus auch die Gesichter der Erwachsenen, die mit betroffener, ernster Miene dem \\nSchauspiel zusahen.  \\n \\nAls Herrn Ve iths Blick auf Jan fiel, der auf der Treppe saß und ihn mitfühlend ansah, verstummte \\ner schlagartig. Er ging einen Schritt auf ihn zu. Da erkannte Jan, dass er immer noch die \\nZeichnung in der Hand hielt. Er streckte seinen Arm aus und hob sie ihm hin. „Gib  das der Katze“, \\nsagte er, und Jan nahm stellvertretend für Felix die Zeichnung entgegen. „Danke“, sagte er etwas \\nverblüfft. Nachdem Herr Veith das erledigt hatte, ließ er sich ohne ein weiteres Widerwort \\nabführen. Einige Erwachsene streichelten Jan über d en Kopf und fanden lobende Worte für seinen \\nMut, aber der hatte nur Augen für das Bild.  \\n \\nSchließlich versammelten sie sich alle auf dem Etagenabsatz unter ihm und unterhielten sich mit \\nder Polizei. Immer wieder wurde auf ihn gedeutet, den Helden, der wie angewurzelt dasaß, Fellx \\nstreichelte und zu verstehen versuchte, was es mit dem Bild auf s ich hatte. Als ihm die Stimmen \\nzu laut wurden, stand er auf und lief nach oben in die Wohnung. Felix folgte ihm wie sein \\nSchatten. Er ging in sein Zimmer und hängte die Zeichnung an die Pinnwand über seinem \\nSchreibtisch, nahm Felix auf den Schoß, holte sei ne Malsachen aus einer Schublade und begann \\nzu zeichnen.  \"\n",
      "  ],\n",
      "  \"metadata\": {\n",
      "    \"upload_date\": \"2024-11-27T12:49:18.268982\"\n",
      "  }\n",
      "}\n"
     ]
    }
   ],
   "execution_count": 21
  },
  {
   "cell_type": "markdown",
   "metadata": {},
   "source": [
    "## Data Retriever"
   ]
  },
  {
   "cell_type": "markdown",
   "metadata": {},
   "source": [
    "### Create Index"
   ]
  },
  {
   "cell_type": "code",
   "metadata": {
    "ExecuteTime": {
     "end_time": "2024-11-27T11:49:19.635312Z",
     "start_time": "2024-11-27T11:49:18.922682Z"
    }
   },
   "source": [
    "from intelligence_layer.connectors import (\n",
    "    CollectionPath,\n",
    "    DocumentIndexClient,\n",
    "    IndexConfiguration,\n",
    "    IndexPath,\n",
    ")\n",
    "\n",
    "def _create_index(index_name: str, chunk_size: int):\n",
    "    document_index = DocumentIndexClient(\n",
    "        token=AA_TOKEN,\n",
    "    )\n",
    "    index_path = IndexPath(\n",
    "        namespace=NAMESPACE,\n",
    "        index=index_name,\n",
    "    )\n",
    "    index_config = IndexConfiguration(\n",
    "        embedding_type=\"asymmetric\",\n",
    "        chunk_size=chunk_size,\n",
    "    )\n",
    "    document_index.create_index(\n",
    "        index_path=index_path,\n",
    "        index_configuration=index_config,\n",
    "    )\n",
    "    return\n",
    "\n",
    "INDEX_NAME = \"demo-index\"\n",
    "chunk_size = 126\n",
    "_create_index(INDEX_NAME, chunk_size)"
   ],
   "outputs": [],
   "execution_count": 22
  },
  {
   "cell_type": "markdown",
   "metadata": {},
   "source": [
    "### Get all Indexes"
   ]
  },
  {
   "cell_type": "code",
   "metadata": {
    "ExecuteTime": {
     "end_time": "2024-11-27T11:49:19.803286Z",
     "start_time": "2024-11-27T11:49:19.649672Z"
    }
   },
   "source": [
    "def get_all_indexes(collection_name: str):\n",
    "    document_index = DocumentIndexClient(\n",
    "        token=AA_TOKEN,\n",
    "    )\n",
    "    collection_path = CollectionPath(\n",
    "        namespace=NAMESPACE, \n",
    "        collection=collection_name,\n",
    "    )\n",
    "    return document_index.list_assigned_index_names(collection_path)\n",
    "indexes = get_all_indexes(collection_name=COLLECTION_NAME)\n",
    "indexes\n"
   ],
   "outputs": [
    {
     "data": {
      "text/plain": [
       "['asymmetric', 'asym-32', 'asym-128', 'demo-index']"
      ]
     },
     "execution_count": 23,
     "metadata": {},
     "output_type": "execute_result"
    }
   ],
   "execution_count": 23
  },
  {
   "cell_type": "markdown",
   "metadata": {},
   "source": [
    "### Assign Index to Collection"
   ]
  },
  {
   "cell_type": "code",
   "metadata": {
    "ExecuteTime": {
     "end_time": "2024-11-27T11:49:19.966159Z",
     "start_time": "2024-11-27T11:49:19.821863Z"
    }
   },
   "source": [
    "\n",
    "def _assign_index_to_collection(collection_name: str, index_name: str):\n",
    "    document_index = DocumentIndexClient(\n",
    "        token=AA_TOKEN,\n",
    "    )\n",
    "    collection_path = CollectionPath(\n",
    "        namespace=NAMESPACE,\n",
    "        collection=collection_name,\n",
    "    )\n",
    "    document_index.assign_index_to_collection(\n",
    "        collection_path=collection_path,\n",
    "        index_name=index_name\n",
    "    )\n",
    "    return\n",
    "\n",
    "_assign_index_to_collection(COLLECTION_NAME, INDEX_NAME)"
   ],
   "outputs": [],
   "execution_count": 24
  },
  {
   "cell_type": "markdown",
   "metadata": {},
   "source": [
    "### Similarity Search"
   ]
  },
  {
   "cell_type": "code",
   "metadata": {
    "ExecuteTime": {
     "end_time": "2024-11-27T11:51:08.529904Z",
     "start_time": "2024-11-27T11:51:07.831041Z"
    }
   },
   "source": [
    "from intelligence_layer.connectors import (\n",
    "    CollectionPath,\n",
    "    DocumentIndexClient,\n",
    "    DocumentIndexRetriever,\n",
    ")\n",
    "def similariy_search(collection_name:str, index_name: str, query: str):\n",
    "    document_index = DocumentIndexClient(\n",
    "        token=AA_TOKEN,\n",
    "    )\n",
    "    \n",
    "    document_index_retriever = DocumentIndexRetriever(\n",
    "        document_index=document_index,\n",
    "        index_name=index_name,\n",
    "        namespace=NAMESPACE,\n",
    "        collection=collection_name,\n",
    "        k=5,\n",
    "        threshold=0.5,\n",
    "    )\n",
    "    \n",
    "    relevant_documents = document_index_retriever.get_relevant_documents_with_scores(\n",
    "        query=query\n",
    "    )\n",
    "    return relevant_documents\n",
    "\n",
    "query = \"plyscraper\"\n",
    "relevant_documents = similariy_search(\n",
    "    collection_name=COLLECTION_NAME,\n",
    "    index_name=INDEX_NAME,\n",
    "    query=query\n",
    ")\n",
    "relevant_documents"
   ],
   "outputs": [
    {
     "data": {
      "text/plain": [
       "[SearchResult(id=DocumentPath(collection_path=CollectionPath(namespace='aleph-alpha', collection='demo'), document_name='Plyscraper.txt'), score=0.7895327, document_chunk=DocumentChunk(text='Plyscraper', start=0, end=9, metadata=None)),\n",
       " SearchResult(id=DocumentPath(collection_path=CollectionPath(namespace='aleph-alpha', collection='demo'), document_name='Plyscraper.txt'), score=0.6021297, document_chunk=DocumentChunk(text='For example, in Tokyo, a plyscraper that is 350 meters (1,150 ft) tall called the W350 Project has been proposed with plans to be complete in 2041.[10]  The W350 Project plans to be a hybrid plyscraper using only 10% steel and the remainder engineered wood.  In London, research and planning are underway for the Oakwood Tower which is estimated to be 300 meters (980 ft) tall.[11]  This would be an 80-story building integrated into the London skyline.', start=3927, end=4379, metadata=None)),\n",
       " SearchResult(id=DocumentPath(collection_path=CollectionPath(namespace='aleph-alpha', collection='demo'), document_name='Plyscraper.txt'), score=0.5913169, document_chunk=DocumentChunk(text='Tallest plyscrapers  Mjøstårnet in Brumunddal, Norway Over the years, many plyscrapers have been constructed, each becoming taller than the last.  In 2017, the tallest habitable plyscraper was Brock Commons Tallwood House, on the campus of the University of British Columbia near Vancouver, Canada  and measured 53 meters tall (174 feet).[6]  It was overtaken in 2019, when the Mjøstårnet was built in Brumunddal, Norway.', start=2540, end=2960, metadata=None)),\n",
       " SearchResult(id=DocumentPath(collection_path=CollectionPath(namespace='aleph-alpha', collection='demo'), document_name='Plyscraper.txt'), score=0.5617287, document_chunk=DocumentChunk(text='A plyscraper, or timber tower is a skyscraper made (at least partly) of wood. They may alternatively be known as mass timber buildings.  Materials There are four main types of engineered wood used for mass timber including cross-laminated timber (CLT), glued laminated timber (glulam), laminated strand lumber (LSL), and laminated veneer lumber (LVL). Of these three wood systems, CLT is the most commonly used.[', start=14, end=425, metadata=None)),\n",
       " SearchResult(id=DocumentPath(collection_path=CollectionPath(namespace='aleph-alpha', collection='demo'), document_name='Plyscraper.txt'), score=0.55420446, document_chunk=DocumentChunk(text='9] Plyscrapers are still in their infancy stage, but as we learn more about mass timber and become more proficient using it, many mass-timber buildings are currently being proposed.  In fact, they are becoming increasingly popular among contractors and builders due to the ease of construction, as putting together a plyscraper is faster and quieter compared to its steel and concrete counterparts.[8]  Several proposals to create more plyscrapers have been made all over the world.', start=3443, end=3924, metadata=None))]"
      ]
     },
     "execution_count": 29,
     "metadata": {},
     "output_type": "execute_result"
    }
   ],
   "execution_count": 29
  },
  {
   "cell_type": "markdown",
   "metadata": {},
   "source": [
    "# Upload Data for RAG"
   ]
  },
  {
   "cell_type": "markdown",
   "metadata": {},
   "source": [
    "## Upload Custom Dataset"
   ]
  },
  {
   "cell_type": "code",
   "metadata": {
    "ExecuteTime": {
     "end_time": "2024-11-27T11:49:20.303470Z",
     "start_time": "2024-11-27T11:49:20.291828Z"
    }
   },
   "source": [
    "ACCEPTED_FILE_EXTENSTIONS = [\"txt\", \"docx\", \"pdf\"]"
   ],
   "outputs": [],
   "execution_count": 26
  },
  {
   "cell_type": "code",
   "metadata": {
    "ExecuteTime": {
     "end_time": "2024-11-27T11:53:55.057516Z",
     "start_time": "2024-11-27T11:53:53.823152Z"
    }
   },
   "source": [
    "collection_name = \"rag-collection\"\n",
    "index_name = \"rag-index1\"\n",
    "chunk_size = 128\n",
    "file_directory_path = Path().cwd().parent.parent / \"example_documents\"\n",
    "\n",
    "create_collection(collection_name=collection_name)\n",
    "for root, dirs, files in os.walk(file_directory_path):\n",
    "    for file in files:\n",
    "        file_extenstion = file[file.rfind(\".\")+1:]\n",
    "        if file_extenstion in ACCEPTED_FILE_EXTENSTIONS:\n",
    "            file_path = os.path.join(root,file)\n",
    "            upload_document(\n",
    "                file_path=file_path,\n",
    "                collection_name=collection_name\n",
    "            )\n",
    "\n",
    "_create_index(index_name=index_name, chunk_size=chunk_size)\n",
    "_assign_index_to_collection(collection_name=collection_name, index_name=index_name)\n",
    "get_documents(collection_name=collection_name)"
   ],
   "outputs": [
    {
     "data": {
      "text/plain": [
       "[DocumentInfo(document_path=DocumentPath(collection_path=CollectionPath(namespace='aleph-alpha', collection='rag-collection'), document_name='zehn_euro_gehen_auf_reisen.txt'), created=datetime.datetime(2024, 11, 27, 11, 53, 54, 624227), version=2),\n",
       " DocumentInfo(document_path=DocumentPath(collection_path=CollectionPath(namespace='aleph-alpha', collection='rag-collection'), document_name='Plyscraper.txt'), created=datetime.datetime(2024, 11, 27, 11, 53, 54, 484826), version=2),\n",
       " DocumentInfo(document_path=DocumentPath(collection_path=CollectionPath(namespace='aleph-alpha', collection='rag-collection'), document_name='Erfunde-Programmiersprache.docx'), created=datetime.datetime(2024, 11, 27, 11, 53, 54, 387434), version=2),\n",
       " DocumentInfo(document_path=DocumentPath(collection_path=CollectionPath(namespace='aleph-alpha', collection='rag-collection'), document_name='Der-Schattenmann.pdf'), created=datetime.datetime(2024, 11, 27, 11, 53, 54, 276451), version=2)]"
      ]
     },
     "execution_count": 31,
     "metadata": {},
     "output_type": "execute_result"
    }
   ],
   "execution_count": 31
  },
  {
   "cell_type": "markdown",
   "metadata": {},
   "source": [
    "## Upload quad dataset"
   ]
  },
  {
   "cell_type": "code",
   "metadata": {
    "ExecuteTime": {
     "end_time": "2024-11-27T11:54:41.929477Z",
     "start_time": "2024-11-27T11:54:38.464633Z"
    }
   },
   "source": [
    "from datasets import DatasetDict, load_dataset\n",
    "from typing import cast\n",
    "import pandas as pd\n",
    "import urllib.parse\n",
    "\n",
    "collection_name = \"demo\"\n",
    "index_name = \"rag-index1\"\n",
    "\n",
    "HF_DATASET_NAME = \"deepset/germanquad\"\n",
    "\n",
    "def load_german_quad():\n",
    "    dataset = load_dataset(HF_DATASET_NAME, trust_remote_code=True)\n",
    "    dataset = cast(DatasetDict, dataset)\n",
    "    dataset = dataset[\"train\"]\n",
    "\n",
    "    data = dataset.to_pandas()\n",
    "    data = cast(pd.DataFrame, data)\n",
    "\n",
    "    data = data.sample(10, random_state=4711)\n",
    "\n",
    "    return data\n",
    "\n",
    "def store_german_quad_in_di(data: pd.DataFrame):\n",
    "    texts = data.context.unique()\n",
    "\n",
    "    di_client = DocumentIndexClient(os.getenv(\"AA_TOKEN\"))\n",
    "    _create_index(index_name=index_name, chunk_size=chunk_size)\n",
    "    _assign_index_to_collection(collection_name=collection_name, index_name=index_name)\n",
    "\n",
    "    for text in texts:\n",
    "        slug = urllib.parse.quote_plus(text[:10])\n",
    "        collection_path = CollectionPath(\n",
    "            namespace=NAMESPACE, \n",
    "            collection=collection_name,\n",
    "        )\n",
    "\n",
    "        document_path = DocumentPath(\n",
    "            collection_path=collection_path,\n",
    "            document_name=slug,\n",
    "        )\n",
    "\n",
    "        document_contents = DocumentContents(contents=[text])\n",
    "        di_client.add_document(\n",
    "            document_path=document_path, contents=document_contents\n",
    "        )\n",
    "\n",
    "data = load_german_quad()\n",
    "store_german_quad_in_di(data)"
   ],
   "outputs": [],
   "execution_count": 33
  },
  {
   "metadata": {},
   "cell_type": "code",
   "outputs": [],
   "execution_count": null,
   "source": ""
  }
 ],
 "metadata": {
  "kernelspec": {
   "display_name": ".venv",
   "language": "python",
   "name": "python3"
  },
  "language_info": {
   "codemirror_mode": {
    "name": "ipython",
    "version": 3
   },
   "file_extension": ".py",
   "mimetype": "text/x-python",
   "name": "python",
   "nbconvert_exporter": "python",
   "pygments_lexer": "ipython3",
   "version": "3.12.4"
  }
 },
 "nbformat": 4,
 "nbformat_minor": 2
}
