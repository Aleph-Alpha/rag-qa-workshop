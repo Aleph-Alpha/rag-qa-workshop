{
 "cells": [
  {
   "cell_type": "code",
   "execution_count": 8,
   "metadata": {},
   "outputs": [
    {
     "name": "stdout",
     "output_type": "stream",
     "text": [
      "The autoreload extension is already loaded. To reload it, use:\n",
      "  %reload_ext autoreload\n"
     ]
    }
   ],
   "source": [
    "%load_ext autoreload\n",
    "%autoreload 2"
   ]
  },
  {
   "cell_type": "code",
   "execution_count": 9,
   "metadata": {},
   "outputs": [],
   "source": [
    "from aleph_alpha_client import TextControl, Prompt\n",
    "from intelligence_layer.core import Llama3InstructModel, CompleteInput, NoOpTracer, RichPrompt"
   ]
  },
  {
   "cell_type": "code",
   "execution_count": 10,
   "metadata": {},
   "outputs": [
    {
     "data": {
      "text/plain": [
       "' ist bekannt für seine Fähigkeit, Fußballspiele zu analysieren und Vorhersagen zu treffen.\\n\\nPaul ist ein Experte für Fußballstat'"
      ]
     },
     "execution_count": 10,
     "metadata": {},
     "output_type": "execute_result"
    }
   ],
   "source": [
    "prompt_parts = [(\"Paul ist ein\", False), (\"Fußballspieler\", True), (\"und Informatiker. Er\", False)]\n",
    "\n",
    "i = 0\n",
    "prompt_text = \"\"\n",
    "text_controls = []\n",
    "for text, is_focused in prompt_parts:\n",
    "    prompt_text += text\n",
    "    text_length = len(text)\n",
    "    if is_focused:\n",
    "        text_controls.append(TextControl(start=i, length=text_length, factor=1.5))\n",
    "    i += text_length\n",
    "\n",
    "prompt = Prompt.from_text(prompt_text, controls=text_controls)\n",
    "\n",
    "model = Llama3InstructModel()\n",
    "complete_input = CompleteInput(prompt=prompt, maximum_tokens=32)\n",
    "complete_output = model.complete(complete_input, NoOpTracer())\n",
    "complete_output.completion"
   ]
  },
  {
   "cell_type": "code",
   "execution_count": null,
   "metadata": {},
   "outputs": [],
   "source": []
  }
 ],
 "metadata": {
  "kernelspec": {
   "display_name": ".venv",
   "language": "python",
   "name": "python3"
  },
  "language_info": {
   "codemirror_mode": {
    "name": "ipython",
    "version": 3
   },
   "file_extension": ".py",
   "mimetype": "text/x-python",
   "name": "python",
   "nbconvert_exporter": "python",
   "pygments_lexer": "ipython3",
   "version": "3.12.4"
  }
 },
 "nbformat": 4,
 "nbformat_minor": 2
}
