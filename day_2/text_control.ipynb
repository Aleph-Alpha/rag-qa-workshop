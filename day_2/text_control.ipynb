{
 "cells": [
  {
   "cell_type": "code",
   "metadata": {
    "ExecuteTime": {
     "end_time": "2024-11-27T14:25:29.578047Z",
     "start_time": "2024-11-27T14:25:29.570531Z"
    }
   },
   "source": [
    "%load_ext autoreload\n",
    "%autoreload 2"
   ],
   "outputs": [],
   "execution_count": 1
  },
  {
   "cell_type": "code",
   "metadata": {
    "ExecuteTime": {
     "end_time": "2024-11-27T14:26:44.290957Z",
     "start_time": "2024-11-27T14:26:44.275591Z"
    }
   },
   "source": [
    "from dotenv import load_dotenv\n",
    "from aleph_alpha_client import TextControl, Prompt\n",
    "from intelligence_layer.core import Llama3InstructModel, CompleteInput, NoOpTracer\n",
    "\n",
    "load_dotenv()"
   ],
   "outputs": [
    {
     "data": {
      "text/plain": [
       "True"
      ]
     },
     "execution_count": 5,
     "metadata": {},
     "output_type": "execute_result"
    }
   ],
   "execution_count": 5
  },
  {
   "cell_type": "code",
   "metadata": {
    "ExecuteTime": {
     "end_time": "2024-11-27T14:28:46.214740Z",
     "start_time": "2024-11-27T14:28:44.681409Z"
    }
   },
   "source": [
    "prompt_parts = [(\"Paul ist ein\", False), (\"Fußballspieler\", True), (\"und Informatiker. Er\", False)]\n",
    "\n",
    "atman_factor = 0.01\n",
    "\n",
    "i = 0\n",
    "prompt_text = \"\"\n",
    "text_controls = []\n",
    "for text, is_focused in prompt_parts:\n",
    "    prompt_text += text\n",
    "    text_length = len(text)\n",
    "    if is_focused:\n",
    "        text_controls.append(TextControl(start=i, length=text_length, factor=atman_factor))\n",
    "    i += text_length\n",
    "\n",
    "prompt = Prompt.from_text(prompt_text, controls=text_controls)\n",
    "\n",
    "model = Llama3InstructModel(\"llama-3.1-8b-instruct\")\n",
    "complete_input = CompleteInput(prompt=prompt, maximum_tokens=32)\n",
    "complete_output = model.complete(complete_input, NoOpTracer())\n",
    "complete_output.completion"
   ],
   "outputs": [
    {
     "data": {
      "text/plain": [
       "' ist der Gründer und CEO von Meta, einem der größten Technologieunternehmen der Welt. Paul ist auch der Gründer von Facebook, Instagram und WhatsApp'"
      ]
     },
     "execution_count": 10,
     "metadata": {},
     "output_type": "execute_result"
    }
   ],
   "execution_count": 10
  },
  {
   "cell_type": "code",
   "execution_count": null,
   "metadata": {},
   "outputs": [],
   "source": []
  }
 ],
 "metadata": {
  "kernelspec": {
   "display_name": ".venv",
   "language": "python",
   "name": "python3"
  },
  "language_info": {
   "codemirror_mode": {
    "name": "ipython",
    "version": 3
   },
   "file_extension": ".py",
   "mimetype": "text/x-python",
   "name": "python",
   "nbconvert_exporter": "python",
   "pygments_lexer": "ipython3",
   "version": "3.12.4"
  }
 },
 "nbformat": 4,
 "nbformat_minor": 2
}
