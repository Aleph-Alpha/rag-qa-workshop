{
 "cells": [
  {
   "cell_type": "code",
   "execution_count": 1,
   "metadata": {},
   "outputs": [],
   "source": [
    "%load_ext autoreload\n",
    "%autoreload 2"
   ]
  },
  {
   "cell_type": "markdown",
   "metadata": {},
   "source": [
    "# Evaluation"
   ]
  },
  {
   "cell_type": "code",
   "execution_count": 2,
   "metadata": {},
   "outputs": [
    {
     "name": "stderr",
     "output_type": "stream",
     "text": [
      "/Users/moritz.gottschling/dev/rewe-workshop/.venv/lib/python3.12/site-packages/tqdm/auto.py:21: TqdmWarning: IProgress not found. Please update jupyter and ipywidgets. See https://ipywidgets.readthedocs.io/en/stable/user_install.html\n",
      "  from .autonotebook import tqdm as notebook_tqdm\n"
     ]
    }
   ],
   "source": [
    "from typing import cast\n",
    "import os\n",
    "import urllib.parse\n",
    "\n",
    "import pandas as pd\n",
    "from datasets import DatasetDict, load_dataset\n",
    "from intelligence_layer.connectors import (\n",
    "    DocumentIndexClient,\n",
    "    DocumentPath,\n",
    "    CollectionPath,\n",
    "    DocumentContents,\n",
    " DocumentIndexRetriever\n",
    ")\n",
    "from intelligence_layer.evaluation import (\n",
    "    Dataset,\n",
    "    Example,\n",
    "    RepositoryNavigator,\n",
    "    RunOverview,\n",
    "    EvaluationOverview,\n",
    "    AggregationOverview,\n",
    "    run_lineages_to_pandas,\n",
    "    evaluation_lineages_to_pandas,\n",
    "    aggregation_overviews_to_pandas,\n",
    "    Evaluator,\n",
    "    Runner,\n",
    "    Aggregator,\n",
    ")\n",
    "from intelligence_layer.examples import (\n",
    "    RetrieverBasedQaInput,\n",
    "    MultipleChunkRetrieverQaOutput,\n",
    "    MultipleChunkRetrieverQa,\n",
    ")\n",
    "from intelligence_layer.core import (\n",
    "    Language,\n",
    "    ControlModel,\n",
    "    LuminousControlModel,\n",
    "    Llama3InstructModel,\n",
    ")\n",
    "from pydantic import BaseModel, ConfigDict\n",
    "\n",
    "from rewe_workshop.repositories import init_repos\n",
    "from rewe_workshop.evaluation import (\n",
    "    RetrieverQaEvaluationLogic,\n",
    "    RetrieverQaAggregationLogic,\n",
    "    RetrieverQaEvaluation,\n",
    ")"
   ]
  },
  {
   "cell_type": "markdown",
   "metadata": {
    "vscode": {
     "languageId": "plaintext"
    }
   },
   "source": [
    "## Dataset\n",
    "### Load Data"
   ]
  },
  {
   "cell_type": "code",
   "execution_count": 3,
   "metadata": {},
   "outputs": [],
   "source": [
    "HF_DATASET_NAME = \"deepset/germanquad\"\n",
    "COLLECTION_NAME = \"rewe-workshop-prep-100\"\n",
    "# COLLECTION_NAME = \"rewe-workshop-prep\"\n",
    "# DATASET_ID = \"deepset/germanquad\"\n",
    "DATASET_ID = \"deepset/germanquad-100\""
   ]
  },
  {
   "cell_type": "code",
   "execution_count": 4,
   "metadata": {},
   "outputs": [],
   "source": [
    "def load_german_quad():\n",
    "    dataset = load_dataset(HF_DATASET_NAME, trust_remote_code=True)\n",
    "    dataset = cast(DatasetDict, dataset)\n",
    "    dataset = dataset[\"train\"]\n",
    "\n",
    "    data = dataset.to_pandas()\n",
    "    data = cast(pd.DataFrame, data)\n",
    "\n",
    "    data = data.sample(100, random_state=4711)\n",
    "    # data = data.sample(20, random_state=4711)\n",
    "\n",
    "    return data\n"
   ]
  },
  {
   "cell_type": "code",
   "execution_count": 5,
   "metadata": {},
   "outputs": [],
   "source": [
    "data = load_german_quad()"
   ]
  },
  {
   "cell_type": "markdown",
   "metadata": {},
   "source": [
    "### Store Data in Document Index for Retrieval"
   ]
  },
  {
   "cell_type": "code",
   "execution_count": 6,
   "metadata": {},
   "outputs": [],
   "source": [
    "def setup_collection(di_client: DocumentIndexClient) -> CollectionPath:\n",
    "    collection_path = CollectionPath(\n",
    "        namespace=\"aleph-alpha\", collection=COLLECTION_NAME\n",
    "    )\n",
    "\n",
    "    di_client.create_collection(collection_path=collection_path)\n",
    "\n",
    "    di_client.assign_index_to_collection(\n",
    "        collection_path=collection_path, index_name=\"asymmetric\"\n",
    "    )\n",
    "\n",
    "    return collection_path\n",
    "\n",
    "def store_german_quad_in_di(data: pd.DataFrame):\n",
    "    texts = data.context.unique()\n",
    "\n",
    "    di_client = DocumentIndexClient(os.getenv(\"AA_TOKEN\"))\n",
    "    collection_path = setup_collection(di_client)\n",
    "\n",
    "    for text in texts:\n",
    "        slug = urllib.parse.quote_plus(text[:10])\n",
    "        document_path = DocumentPath(\n",
    "            collection_path=collection_path, document_name=slug\n",
    "        )\n",
    "\n",
    "        try:\n",
    "            document_contents = di_client.document(document_path)\n",
    "        except Exception:\n",
    "            print(f\"Adding new doc: {slug}\")\n",
    "            document_contents = DocumentContents(contents=[text])\n",
    "            di_client.add_document(\n",
    "                document_path=document_path, contents=document_contents\n",
    "            )\n",
    "\n"
   ]
  },
  {
   "cell_type": "code",
   "execution_count": 7,
   "metadata": {},
   "outputs": [],
   "source": [
    "store_german_quad_in_di(data)"
   ]
  },
  {
   "cell_type": "markdown",
   "metadata": {},
   "source": [
    "### Store Data (questions) in DatasetRepository for Evaluation"
   ]
  },
  {
   "cell_type": "code",
   "execution_count": 8,
   "metadata": {},
   "outputs": [],
   "source": [
    "def store_german_quad_in_dataset_repo(data: pd.DataFrame) -> Dataset:\n",
    "    repos = init_repos()\n",
    "\n",
    "    questions = data.question\n",
    "\n",
    "    dataset = repos.dataset_repo.dataset(DATASET_ID)\n",
    "    if dataset is not None:\n",
    "        return dataset\n",
    "\n",
    "    examples: list[Example] = [\n",
    "        Example(\n",
    "            input=RetrieverBasedQaInput(question=question, language=Language(\"de\")),\n",
    "            expected_output=None,\n",
    "        )\n",
    "        for question in questions\n",
    "    ]\n",
    "    return repos.dataset_repo.create_dataset(\n",
    "        examples=examples, dataset_name=DATASET_ID, id=DATASET_ID\n",
    "    )\n"
   ]
  },
  {
   "cell_type": "code",
   "execution_count": 9,
   "metadata": {},
   "outputs": [
    {
     "data": {
      "text/plain": [
       "Dataset ID = deepset/germanquad-100\n",
       "Name = deepset/germanquad-100\n",
       "Labels = set()\n",
       "Metadata = {}"
      ]
     },
     "execution_count": 9,
     "metadata": {},
     "output_type": "execute_result"
    }
   ],
   "source": [
    "store_german_quad_in_dataset_repo(data)"
   ]
  },
  {
   "cell_type": "markdown",
   "metadata": {},
   "source": [
    "## Run Step"
   ]
  },
  {
   "cell_type": "code",
   "execution_count": 10,
   "metadata": {},
   "outputs": [],
   "source": [
    "repositories = init_repos()\n",
    "navigator = RepositoryNavigator(\n",
    "    dataset_repository=repositories.dataset_repo,\n",
    "    run_repository=repositories.run_repo,\n",
    "    evaluation_repository=repositories.evaluation_repo,\n",
    ")"
   ]
  },
  {
   "cell_type": "code",
   "execution_count": 11,
   "metadata": {},
   "outputs": [],
   "source": [
    "class RunConfig(BaseModel):\n",
    "    model_config = ConfigDict(arbitrary_types_allowed=True)\n",
    "    description: str\n",
    "    model: ControlModel\n"
   ]
  },
  {
   "cell_type": "code",
   "execution_count": 12,
   "metadata": {},
   "outputs": [
    {
     "name": "stderr",
     "output_type": "stream",
     "text": [
      "/Users/moritz.gottschling/dev/rewe-workshop/.venv/lib/python3.12/site-packages/intelligence_layer/core/model.py:229: UserWarning: The provided model is not a recommended model for this model class.Make sure that the model you have selected is suited to be use for the prompt template used in this model class.\n",
      "  warnings.warn(\n"
     ]
    },
    {
     "name": "stdout",
     "output_type": "stream",
     "text": [
      "No CLIENT_URL specified in environment, using default: https://api.aleph-alpha.com.\n"
     ]
    }
   ],
   "source": [
    "configs = [\n",
    "    RunConfig(\n",
    "        description=\"luminous nextgen 7b\",\n",
    "        model=LuminousControlModel(\"luminous-nextgen-7b-control-384k-kto\"),\n",
    "    ),\n",
    "    RunConfig(\n",
    "        description=\"luminous nextgen 66b\",\n",
    "        model=LuminousControlModel(\"luminous-nextgen-66b-control-512k\"),\n",
    "    ),\n",
    "    RunConfig(\n",
    "        description=\"llama 3 8b\", model=LuminousControlModel(\"llama-3-8b-instruct\")\n",
    "    ),\n",
    "    RunConfig(\n",
    "        description=\"llama 3.1 8b\", model=Llama3InstructModel(\"llama-3.1-8b-instruct\")\n",
    "    ),\n",
    "]\n"
   ]
  },
  {
   "cell_type": "code",
   "execution_count": 13,
   "metadata": {},
   "outputs": [],
   "source": [
    "def build_task(model: ControlModel):\n",
    "    di_client = DocumentIndexClient(os.getenv(\"AA_TOKEN\"))\n",
    "    retriever = DocumentIndexRetriever(\n",
    "        di_client,\n",
    "        index_name=\"asymmetric\",\n",
    "        namespace=\"aleph-alpha\",\n",
    "        collection=\"wikipedia-de\",\n",
    "        k=3,\n",
    "    )\n",
    "\n",
    "    task = MultipleChunkRetrieverQa(retriever=retriever, model=model)\n",
    "    return task\n",
    "\n",
    "def run_for_configs(configs: list[RunConfig]):\n",
    "    run_overviews: list[RunOverview] = []\n",
    "    for config in configs:\n",
    "        task = build_task(config.model)\n",
    "\n",
    "        print(config.description)\n",
    "        runner = Runner(\n",
    "            task,\n",
    "            repositories.dataset_repo,\n",
    "            repositories.run_repo,\n",
    "            description=config.description,\n",
    "        )\n",
    "\n",
    "        run_overview = runner.run_dataset(DATASET_ID)\n",
    "        run_overviews.append(run_overview)\n",
    "    return run_overviews"
   ]
  },
  {
   "cell_type": "code",
   "execution_count": 14,
   "metadata": {},
   "outputs": [
    {
     "name": "stdout",
     "output_type": "stream",
     "text": [
      "luminous nextgen 7b\n",
      "luminous nextgen 66b\n",
      "llama 3 8b\n",
      "llama 3.1 8b\n"
     ]
    },
    {
     "data": {
      "text/html": [
       "<pre style=\"white-space:pre;overflow-x:auto;line-height:normal;font-family:Menlo,'DejaVu Sans Mono',consolas,'Courier New',monospace\"><span style=\"color: #7fbfbf; text-decoration-color: #7fbfbf\">[07/30/24 13:12:22] </span><span style=\"color: #800000; text-decoration-color: #800000\">WARNING </span> WARNING:urllib3.connectionpool:Retrying <span style=\"font-weight: bold\">(</span><span style=\"color: #800080; text-decoration-color: #800080; font-weight: bold\">Retry</span><span style=\"font-weight: bold\">(</span><span style=\"color: #808000; text-decoration-color: #808000\">total</span>=<span style=\"color: #008080; text-decoration-color: #008080; font-weight: bold\">7</span>,          <a href=\"file:///Users/moritz.gottschling/dev/rewe-workshop/.venv/lib/python3.12/site-packages/urllib3/connectionpool.py\" target=\"_blank\"><span style=\"color: #7f7f7f; text-decoration-color: #7f7f7f\">connectionpool.py</span></a><span style=\"color: #7f7f7f; text-decoration-color: #7f7f7f\">:</span><a href=\"file:///Users/moritz.gottschling/dev/rewe-workshop/.venv/lib/python3.12/site-packages/urllib3/connectionpool.py#870\" target=\"_blank\"><span style=\"color: #7f7f7f; text-decoration-color: #7f7f7f\">870</span></a>\n",
       "<span style=\"color: #7fbfbf; text-decoration-color: #7fbfbf\">                    </span>         <span style=\"color: #808000; text-decoration-color: #808000\">connect</span>=<span style=\"color: #800080; text-decoration-color: #800080; font-style: italic\">None</span>, <span style=\"color: #808000; text-decoration-color: #808000\">read</span>=<span style=\"color: #800080; text-decoration-color: #800080; font-style: italic\">None</span>, <span style=\"color: #808000; text-decoration-color: #808000\">redirect</span>=<span style=\"color: #800080; text-decoration-color: #800080; font-style: italic\">None</span>, <span style=\"color: #808000; text-decoration-color: #808000\">status</span>=<span style=\"color: #800080; text-decoration-color: #800080; font-style: italic\">None</span><span style=\"font-weight: bold\">))</span> after      <span style=\"color: #7f7f7f; text-decoration-color: #7f7f7f\">                     </span>\n",
       "<span style=\"color: #7fbfbf; text-decoration-color: #7fbfbf\">                    </span>         connection broken by                                             <span style=\"color: #7f7f7f; text-decoration-color: #7f7f7f\">                     </span>\n",
       "<span style=\"color: #7fbfbf; text-decoration-color: #7fbfbf\">                    </span>         <span style=\"color: #008000; text-decoration-color: #008000\">'ReadTimeoutError(\"HTTPSConnectionPool(host='</span>api.aleph-alpha.com <span style=\"color: #7f7f7f; text-decoration-color: #7f7f7f\">                     </span>\n",
       "<span style=\"color: #7fbfbf; text-decoration-color: #7fbfbf\">                    </span>         ', <span style=\"color: #808000; text-decoration-color: #808000\">port</span>=<span style=\"color: #008080; text-decoration-color: #008080; font-weight: bold\">443</span><span style=\"font-weight: bold\">)</span>: Read timed out. <span style=\"font-weight: bold\">(</span>read <span style=\"color: #808000; text-decoration-color: #808000\">timeout</span>=<span style=\"color: #008080; text-decoration-color: #008080; font-weight: bold\">305</span><span style=\"font-weight: bold\">)</span>\"<span style=\"font-weight: bold\">)</span>': <span style=\"color: #800080; text-decoration-color: #800080\">/</span><span style=\"color: #ff00ff; text-decoration-color: #ff00ff\">complete</span>   <span style=\"color: #7f7f7f; text-decoration-color: #7f7f7f\">                     </span>\n",
       "</pre>\n"
      ],
      "text/plain": [
       "\u001b[2;36m[07/30/24 13:12:22]\u001b[0m\u001b[2;36m \u001b[0m\u001b[31mWARNING \u001b[0m WARNING:urllib3.connectionpool:Retrying \u001b[1m(\u001b[0m\u001b[1;35mRetry\u001b[0m\u001b[1m(\u001b[0m\u001b[33mtotal\u001b[0m=\u001b[1;36m7\u001b[0m,          \u001b]8;id=661082;file:///Users/moritz.gottschling/dev/rewe-workshop/.venv/lib/python3.12/site-packages/urllib3/connectionpool.py\u001b\\\u001b[2mconnectionpool.py\u001b[0m\u001b]8;;\u001b\\\u001b[2m:\u001b[0m\u001b]8;id=517341;file:///Users/moritz.gottschling/dev/rewe-workshop/.venv/lib/python3.12/site-packages/urllib3/connectionpool.py#870\u001b\\\u001b[2m870\u001b[0m\u001b]8;;\u001b\\\n",
       "\u001b[2;36m                    \u001b[0m         \u001b[33mconnect\u001b[0m=\u001b[3;35mNone\u001b[0m, \u001b[33mread\u001b[0m=\u001b[3;35mNone\u001b[0m, \u001b[33mredirect\u001b[0m=\u001b[3;35mNone\u001b[0m, \u001b[33mstatus\u001b[0m=\u001b[3;35mNone\u001b[0m\u001b[1m)\u001b[0m\u001b[1m)\u001b[0m after      \u001b[2m                     \u001b[0m\n",
       "\u001b[2;36m                    \u001b[0m         connection broken by                                             \u001b[2m                     \u001b[0m\n",
       "\u001b[2;36m                    \u001b[0m         \u001b[32m'ReadTimeoutError\u001b[0m\u001b[32m(\u001b[0m\u001b[32m\"HTTPSConnectionPool\u001b[0m\u001b[32m(\u001b[0m\u001b[32mhost\u001b[0m\u001b[32m='\u001b[0mapi.aleph-alpha.com \u001b[2m                     \u001b[0m\n",
       "\u001b[2;36m                    \u001b[0m         ', \u001b[33mport\u001b[0m=\u001b[1;36m443\u001b[0m\u001b[1m)\u001b[0m: Read timed out. \u001b[1m(\u001b[0mread \u001b[33mtimeout\u001b[0m=\u001b[1;36m305\u001b[0m\u001b[1m)\u001b[0m\"\u001b[1m)\u001b[0m': \u001b[35m/\u001b[0m\u001b[95mcomplete\u001b[0m   \u001b[2m                     \u001b[0m\n"
      ]
     },
     "metadata": {},
     "output_type": "display_data"
    },
    {
     "data": {
      "text/html": [
       "<pre style=\"white-space:pre;overflow-x:auto;line-height:normal;font-family:Menlo,'DejaVu Sans Mono',consolas,'Courier New',monospace\"><span style=\"color: #7fbfbf; text-decoration-color: #7fbfbf\">[07/30/24 13:12:24] </span><span style=\"color: #800000; text-decoration-color: #800000\">WARNING </span> WARNING:urllib3.connectionpool:Retrying <span style=\"font-weight: bold\">(</span><span style=\"color: #800080; text-decoration-color: #800080; font-weight: bold\">Retry</span><span style=\"font-weight: bold\">(</span><span style=\"color: #808000; text-decoration-color: #808000\">total</span>=<span style=\"color: #008080; text-decoration-color: #008080; font-weight: bold\">7</span>,          <a href=\"file:///Users/moritz.gottschling/dev/rewe-workshop/.venv/lib/python3.12/site-packages/urllib3/connectionpool.py\" target=\"_blank\"><span style=\"color: #7f7f7f; text-decoration-color: #7f7f7f\">connectionpool.py</span></a><span style=\"color: #7f7f7f; text-decoration-color: #7f7f7f\">:</span><a href=\"file:///Users/moritz.gottschling/dev/rewe-workshop/.venv/lib/python3.12/site-packages/urllib3/connectionpool.py#870\" target=\"_blank\"><span style=\"color: #7f7f7f; text-decoration-color: #7f7f7f\">870</span></a>\n",
       "<span style=\"color: #7fbfbf; text-decoration-color: #7fbfbf\">                    </span>         <span style=\"color: #808000; text-decoration-color: #808000\">connect</span>=<span style=\"color: #800080; text-decoration-color: #800080; font-style: italic\">None</span>, <span style=\"color: #808000; text-decoration-color: #808000\">read</span>=<span style=\"color: #800080; text-decoration-color: #800080; font-style: italic\">None</span>, <span style=\"color: #808000; text-decoration-color: #808000\">redirect</span>=<span style=\"color: #800080; text-decoration-color: #800080; font-style: italic\">None</span>, <span style=\"color: #808000; text-decoration-color: #808000\">status</span>=<span style=\"color: #800080; text-decoration-color: #800080; font-style: italic\">None</span><span style=\"font-weight: bold\">))</span> after      <span style=\"color: #7f7f7f; text-decoration-color: #7f7f7f\">                     </span>\n",
       "<span style=\"color: #7fbfbf; text-decoration-color: #7fbfbf\">                    </span>         connection broken by                                             <span style=\"color: #7f7f7f; text-decoration-color: #7f7f7f\">                     </span>\n",
       "<span style=\"color: #7fbfbf; text-decoration-color: #7fbfbf\">                    </span>         <span style=\"color: #008000; text-decoration-color: #008000\">'ReadTimeoutError(\"HTTPSConnectionPool(host='</span>api.aleph-alpha.com <span style=\"color: #7f7f7f; text-decoration-color: #7f7f7f\">                     </span>\n",
       "<span style=\"color: #7fbfbf; text-decoration-color: #7fbfbf\">                    </span>         ', <span style=\"color: #808000; text-decoration-color: #808000\">port</span>=<span style=\"color: #008080; text-decoration-color: #008080; font-weight: bold\">443</span><span style=\"font-weight: bold\">)</span>: Read timed out. <span style=\"font-weight: bold\">(</span>read <span style=\"color: #808000; text-decoration-color: #808000\">timeout</span>=<span style=\"color: #008080; text-decoration-color: #008080; font-weight: bold\">305</span><span style=\"font-weight: bold\">)</span>\"<span style=\"font-weight: bold\">)</span>': <span style=\"color: #800080; text-decoration-color: #800080\">/</span><span style=\"color: #ff00ff; text-decoration-color: #ff00ff\">complete</span>   <span style=\"color: #7f7f7f; text-decoration-color: #7f7f7f\">                     </span>\n",
       "</pre>\n"
      ],
      "text/plain": [
       "\u001b[2;36m[07/30/24 13:12:24]\u001b[0m\u001b[2;36m \u001b[0m\u001b[31mWARNING \u001b[0m WARNING:urllib3.connectionpool:Retrying \u001b[1m(\u001b[0m\u001b[1;35mRetry\u001b[0m\u001b[1m(\u001b[0m\u001b[33mtotal\u001b[0m=\u001b[1;36m7\u001b[0m,          \u001b]8;id=825850;file:///Users/moritz.gottschling/dev/rewe-workshop/.venv/lib/python3.12/site-packages/urllib3/connectionpool.py\u001b\\\u001b[2mconnectionpool.py\u001b[0m\u001b]8;;\u001b\\\u001b[2m:\u001b[0m\u001b]8;id=115349;file:///Users/moritz.gottschling/dev/rewe-workshop/.venv/lib/python3.12/site-packages/urllib3/connectionpool.py#870\u001b\\\u001b[2m870\u001b[0m\u001b]8;;\u001b\\\n",
       "\u001b[2;36m                    \u001b[0m         \u001b[33mconnect\u001b[0m=\u001b[3;35mNone\u001b[0m, \u001b[33mread\u001b[0m=\u001b[3;35mNone\u001b[0m, \u001b[33mredirect\u001b[0m=\u001b[3;35mNone\u001b[0m, \u001b[33mstatus\u001b[0m=\u001b[3;35mNone\u001b[0m\u001b[1m)\u001b[0m\u001b[1m)\u001b[0m after      \u001b[2m                     \u001b[0m\n",
       "\u001b[2;36m                    \u001b[0m         connection broken by                                             \u001b[2m                     \u001b[0m\n",
       "\u001b[2;36m                    \u001b[0m         \u001b[32m'ReadTimeoutError\u001b[0m\u001b[32m(\u001b[0m\u001b[32m\"HTTPSConnectionPool\u001b[0m\u001b[32m(\u001b[0m\u001b[32mhost\u001b[0m\u001b[32m='\u001b[0mapi.aleph-alpha.com \u001b[2m                     \u001b[0m\n",
       "\u001b[2;36m                    \u001b[0m         ', \u001b[33mport\u001b[0m=\u001b[1;36m443\u001b[0m\u001b[1m)\u001b[0m: Read timed out. \u001b[1m(\u001b[0mread \u001b[33mtimeout\u001b[0m=\u001b[1;36m305\u001b[0m\u001b[1m)\u001b[0m\"\u001b[1m)\u001b[0m': \u001b[35m/\u001b[0m\u001b[95mcomplete\u001b[0m   \u001b[2m                     \u001b[0m\n"
      ]
     },
     "metadata": {},
     "output_type": "display_data"
    },
    {
     "data": {
      "text/html": [
       "<pre style=\"white-space:pre;overflow-x:auto;line-height:normal;font-family:Menlo,'DejaVu Sans Mono',consolas,'Courier New',monospace\"><span style=\"color: #7fbfbf; text-decoration-color: #7fbfbf\">[07/30/24 13:12:25] </span><span style=\"color: #800000; text-decoration-color: #800000\">WARNING </span> WARNING:urllib3.connectionpool:Retrying <span style=\"font-weight: bold\">(</span><span style=\"color: #800080; text-decoration-color: #800080; font-weight: bold\">Retry</span><span style=\"font-weight: bold\">(</span><span style=\"color: #808000; text-decoration-color: #808000\">total</span>=<span style=\"color: #008080; text-decoration-color: #008080; font-weight: bold\">7</span>,          <a href=\"file:///Users/moritz.gottschling/dev/rewe-workshop/.venv/lib/python3.12/site-packages/urllib3/connectionpool.py\" target=\"_blank\"><span style=\"color: #7f7f7f; text-decoration-color: #7f7f7f\">connectionpool.py</span></a><span style=\"color: #7f7f7f; text-decoration-color: #7f7f7f\">:</span><a href=\"file:///Users/moritz.gottschling/dev/rewe-workshop/.venv/lib/python3.12/site-packages/urllib3/connectionpool.py#870\" target=\"_blank\"><span style=\"color: #7f7f7f; text-decoration-color: #7f7f7f\">870</span></a>\n",
       "<span style=\"color: #7fbfbf; text-decoration-color: #7fbfbf\">                    </span>         <span style=\"color: #808000; text-decoration-color: #808000\">connect</span>=<span style=\"color: #800080; text-decoration-color: #800080; font-style: italic\">None</span>, <span style=\"color: #808000; text-decoration-color: #808000\">read</span>=<span style=\"color: #800080; text-decoration-color: #800080; font-style: italic\">None</span>, <span style=\"color: #808000; text-decoration-color: #808000\">redirect</span>=<span style=\"color: #800080; text-decoration-color: #800080; font-style: italic\">None</span>, <span style=\"color: #808000; text-decoration-color: #808000\">status</span>=<span style=\"color: #800080; text-decoration-color: #800080; font-style: italic\">None</span><span style=\"font-weight: bold\">))</span> after      <span style=\"color: #7f7f7f; text-decoration-color: #7f7f7f\">                     </span>\n",
       "<span style=\"color: #7fbfbf; text-decoration-color: #7fbfbf\">                    </span>         connection broken by                                             <span style=\"color: #7f7f7f; text-decoration-color: #7f7f7f\">                     </span>\n",
       "<span style=\"color: #7fbfbf; text-decoration-color: #7fbfbf\">                    </span>         <span style=\"color: #008000; text-decoration-color: #008000\">'ReadTimeoutError(\"HTTPSConnectionPool(host='</span>api.aleph-alpha.com <span style=\"color: #7f7f7f; text-decoration-color: #7f7f7f\">                     </span>\n",
       "<span style=\"color: #7fbfbf; text-decoration-color: #7fbfbf\">                    </span>         ', <span style=\"color: #808000; text-decoration-color: #808000\">port</span>=<span style=\"color: #008080; text-decoration-color: #008080; font-weight: bold\">443</span><span style=\"font-weight: bold\">)</span>: Read timed out. <span style=\"font-weight: bold\">(</span>read <span style=\"color: #808000; text-decoration-color: #808000\">timeout</span>=<span style=\"color: #008080; text-decoration-color: #008080; font-weight: bold\">305</span><span style=\"font-weight: bold\">)</span>\"<span style=\"font-weight: bold\">)</span>': <span style=\"color: #800080; text-decoration-color: #800080\">/</span><span style=\"color: #ff00ff; text-decoration-color: #ff00ff\">complete</span>   <span style=\"color: #7f7f7f; text-decoration-color: #7f7f7f\">                     </span>\n",
       "</pre>\n"
      ],
      "text/plain": [
       "\u001b[2;36m[07/30/24 13:12:25]\u001b[0m\u001b[2;36m \u001b[0m\u001b[31mWARNING \u001b[0m WARNING:urllib3.connectionpool:Retrying \u001b[1m(\u001b[0m\u001b[1;35mRetry\u001b[0m\u001b[1m(\u001b[0m\u001b[33mtotal\u001b[0m=\u001b[1;36m7\u001b[0m,          \u001b]8;id=233200;file:///Users/moritz.gottschling/dev/rewe-workshop/.venv/lib/python3.12/site-packages/urllib3/connectionpool.py\u001b\\\u001b[2mconnectionpool.py\u001b[0m\u001b]8;;\u001b\\\u001b[2m:\u001b[0m\u001b]8;id=553819;file:///Users/moritz.gottschling/dev/rewe-workshop/.venv/lib/python3.12/site-packages/urllib3/connectionpool.py#870\u001b\\\u001b[2m870\u001b[0m\u001b]8;;\u001b\\\n",
       "\u001b[2;36m                    \u001b[0m         \u001b[33mconnect\u001b[0m=\u001b[3;35mNone\u001b[0m, \u001b[33mread\u001b[0m=\u001b[3;35mNone\u001b[0m, \u001b[33mredirect\u001b[0m=\u001b[3;35mNone\u001b[0m, \u001b[33mstatus\u001b[0m=\u001b[3;35mNone\u001b[0m\u001b[1m)\u001b[0m\u001b[1m)\u001b[0m after      \u001b[2m                     \u001b[0m\n",
       "\u001b[2;36m                    \u001b[0m         connection broken by                                             \u001b[2m                     \u001b[0m\n",
       "\u001b[2;36m                    \u001b[0m         \u001b[32m'ReadTimeoutError\u001b[0m\u001b[32m(\u001b[0m\u001b[32m\"HTTPSConnectionPool\u001b[0m\u001b[32m(\u001b[0m\u001b[32mhost\u001b[0m\u001b[32m='\u001b[0mapi.aleph-alpha.com \u001b[2m                     \u001b[0m\n",
       "\u001b[2;36m                    \u001b[0m         ', \u001b[33mport\u001b[0m=\u001b[1;36m443\u001b[0m\u001b[1m)\u001b[0m: Read timed out. \u001b[1m(\u001b[0mread \u001b[33mtimeout\u001b[0m=\u001b[1;36m305\u001b[0m\u001b[1m)\u001b[0m\"\u001b[1m)\u001b[0m': \u001b[35m/\u001b[0m\u001b[95mcomplete\u001b[0m   \u001b[2m                     \u001b[0m\n"
      ]
     },
     "metadata": {},
     "output_type": "display_data"
    },
    {
     "data": {
      "text/html": [
       "<pre style=\"white-space:pre;overflow-x:auto;line-height:normal;font-family:Menlo,'DejaVu Sans Mono',consolas,'Courier New',monospace\"><span style=\"color: #7fbfbf; text-decoration-color: #7fbfbf\">                    </span><span style=\"color: #800000; text-decoration-color: #800000\">WARNING </span> WARNING:urllib3.connectionpool:Retrying <span style=\"font-weight: bold\">(</span><span style=\"color: #800080; text-decoration-color: #800080; font-weight: bold\">Retry</span><span style=\"font-weight: bold\">(</span><span style=\"color: #808000; text-decoration-color: #808000\">total</span>=<span style=\"color: #008080; text-decoration-color: #008080; font-weight: bold\">7</span>,          <a href=\"file:///Users/moritz.gottschling/dev/rewe-workshop/.venv/lib/python3.12/site-packages/urllib3/connectionpool.py\" target=\"_blank\"><span style=\"color: #7f7f7f; text-decoration-color: #7f7f7f\">connectionpool.py</span></a><span style=\"color: #7f7f7f; text-decoration-color: #7f7f7f\">:</span><a href=\"file:///Users/moritz.gottschling/dev/rewe-workshop/.venv/lib/python3.12/site-packages/urllib3/connectionpool.py#870\" target=\"_blank\"><span style=\"color: #7f7f7f; text-decoration-color: #7f7f7f\">870</span></a>\n",
       "<span style=\"color: #7fbfbf; text-decoration-color: #7fbfbf\">                    </span>         <span style=\"color: #808000; text-decoration-color: #808000\">connect</span>=<span style=\"color: #800080; text-decoration-color: #800080; font-style: italic\">None</span>, <span style=\"color: #808000; text-decoration-color: #808000\">read</span>=<span style=\"color: #800080; text-decoration-color: #800080; font-style: italic\">None</span>, <span style=\"color: #808000; text-decoration-color: #808000\">redirect</span>=<span style=\"color: #800080; text-decoration-color: #800080; font-style: italic\">None</span>, <span style=\"color: #808000; text-decoration-color: #808000\">status</span>=<span style=\"color: #800080; text-decoration-color: #800080; font-style: italic\">None</span><span style=\"font-weight: bold\">))</span> after      <span style=\"color: #7f7f7f; text-decoration-color: #7f7f7f\">                     </span>\n",
       "<span style=\"color: #7fbfbf; text-decoration-color: #7fbfbf\">                    </span>         connection broken by                                             <span style=\"color: #7f7f7f; text-decoration-color: #7f7f7f\">                     </span>\n",
       "<span style=\"color: #7fbfbf; text-decoration-color: #7fbfbf\">                    </span>         <span style=\"color: #008000; text-decoration-color: #008000\">'ReadTimeoutError(\"HTTPSConnectionPool(host='</span>api.aleph-alpha.com <span style=\"color: #7f7f7f; text-decoration-color: #7f7f7f\">                     </span>\n",
       "<span style=\"color: #7fbfbf; text-decoration-color: #7fbfbf\">                    </span>         ', <span style=\"color: #808000; text-decoration-color: #808000\">port</span>=<span style=\"color: #008080; text-decoration-color: #008080; font-weight: bold\">443</span><span style=\"font-weight: bold\">)</span>: Read timed out. <span style=\"font-weight: bold\">(</span>read <span style=\"color: #808000; text-decoration-color: #808000\">timeout</span>=<span style=\"color: #008080; text-decoration-color: #008080; font-weight: bold\">305</span><span style=\"font-weight: bold\">)</span>\"<span style=\"font-weight: bold\">)</span>': <span style=\"color: #800080; text-decoration-color: #800080\">/</span><span style=\"color: #ff00ff; text-decoration-color: #ff00ff\">complete</span>   <span style=\"color: #7f7f7f; text-decoration-color: #7f7f7f\">                     </span>\n",
       "</pre>\n"
      ],
      "text/plain": [
       "\u001b[2;36m                   \u001b[0m\u001b[2;36m \u001b[0m\u001b[31mWARNING \u001b[0m WARNING:urllib3.connectionpool:Retrying \u001b[1m(\u001b[0m\u001b[1;35mRetry\u001b[0m\u001b[1m(\u001b[0m\u001b[33mtotal\u001b[0m=\u001b[1;36m7\u001b[0m,          \u001b]8;id=355674;file:///Users/moritz.gottschling/dev/rewe-workshop/.venv/lib/python3.12/site-packages/urllib3/connectionpool.py\u001b\\\u001b[2mconnectionpool.py\u001b[0m\u001b]8;;\u001b\\\u001b[2m:\u001b[0m\u001b]8;id=234256;file:///Users/moritz.gottschling/dev/rewe-workshop/.venv/lib/python3.12/site-packages/urllib3/connectionpool.py#870\u001b\\\u001b[2m870\u001b[0m\u001b]8;;\u001b\\\n",
       "\u001b[2;36m                    \u001b[0m         \u001b[33mconnect\u001b[0m=\u001b[3;35mNone\u001b[0m, \u001b[33mread\u001b[0m=\u001b[3;35mNone\u001b[0m, \u001b[33mredirect\u001b[0m=\u001b[3;35mNone\u001b[0m, \u001b[33mstatus\u001b[0m=\u001b[3;35mNone\u001b[0m\u001b[1m)\u001b[0m\u001b[1m)\u001b[0m after      \u001b[2m                     \u001b[0m\n",
       "\u001b[2;36m                    \u001b[0m         connection broken by                                             \u001b[2m                     \u001b[0m\n",
       "\u001b[2;36m                    \u001b[0m         \u001b[32m'ReadTimeoutError\u001b[0m\u001b[32m(\u001b[0m\u001b[32m\"HTTPSConnectionPool\u001b[0m\u001b[32m(\u001b[0m\u001b[32mhost\u001b[0m\u001b[32m='\u001b[0mapi.aleph-alpha.com \u001b[2m                     \u001b[0m\n",
       "\u001b[2;36m                    \u001b[0m         ', \u001b[33mport\u001b[0m=\u001b[1;36m443\u001b[0m\u001b[1m)\u001b[0m: Read timed out. \u001b[1m(\u001b[0mread \u001b[33mtimeout\u001b[0m=\u001b[1;36m305\u001b[0m\u001b[1m)\u001b[0m\"\u001b[1m)\u001b[0m': \u001b[35m/\u001b[0m\u001b[95mcomplete\u001b[0m   \u001b[2m                     \u001b[0m\n"
      ]
     },
     "metadata": {},
     "output_type": "display_data"
    },
    {
     "data": {
      "text/html": [
       "<pre style=\"white-space:pre;overflow-x:auto;line-height:normal;font-family:Menlo,'DejaVu Sans Mono',consolas,'Courier New',monospace\"><span style=\"color: #7fbfbf; text-decoration-color: #7fbfbf\">[07/30/24 13:12:27] </span><span style=\"color: #800000; text-decoration-color: #800000\">WARNING </span> WARNING:urllib3.connectionpool:Retrying <span style=\"font-weight: bold\">(</span><span style=\"color: #800080; text-decoration-color: #800080; font-weight: bold\">Retry</span><span style=\"font-weight: bold\">(</span><span style=\"color: #808000; text-decoration-color: #808000\">total</span>=<span style=\"color: #008080; text-decoration-color: #008080; font-weight: bold\">7</span>,          <a href=\"file:///Users/moritz.gottschling/dev/rewe-workshop/.venv/lib/python3.12/site-packages/urllib3/connectionpool.py\" target=\"_blank\"><span style=\"color: #7f7f7f; text-decoration-color: #7f7f7f\">connectionpool.py</span></a><span style=\"color: #7f7f7f; text-decoration-color: #7f7f7f\">:</span><a href=\"file:///Users/moritz.gottschling/dev/rewe-workshop/.venv/lib/python3.12/site-packages/urllib3/connectionpool.py#870\" target=\"_blank\"><span style=\"color: #7f7f7f; text-decoration-color: #7f7f7f\">870</span></a>\n",
       "<span style=\"color: #7fbfbf; text-decoration-color: #7fbfbf\">                    </span>         <span style=\"color: #808000; text-decoration-color: #808000\">connect</span>=<span style=\"color: #800080; text-decoration-color: #800080; font-style: italic\">None</span>, <span style=\"color: #808000; text-decoration-color: #808000\">read</span>=<span style=\"color: #800080; text-decoration-color: #800080; font-style: italic\">None</span>, <span style=\"color: #808000; text-decoration-color: #808000\">redirect</span>=<span style=\"color: #800080; text-decoration-color: #800080; font-style: italic\">None</span>, <span style=\"color: #808000; text-decoration-color: #808000\">status</span>=<span style=\"color: #800080; text-decoration-color: #800080; font-style: italic\">None</span><span style=\"font-weight: bold\">))</span> after      <span style=\"color: #7f7f7f; text-decoration-color: #7f7f7f\">                     </span>\n",
       "<span style=\"color: #7fbfbf; text-decoration-color: #7fbfbf\">                    </span>         connection broken by                                             <span style=\"color: #7f7f7f; text-decoration-color: #7f7f7f\">                     </span>\n",
       "<span style=\"color: #7fbfbf; text-decoration-color: #7fbfbf\">                    </span>         <span style=\"color: #008000; text-decoration-color: #008000\">'ReadTimeoutError(\"HTTPSConnectionPool(host='</span>api.aleph-alpha.com <span style=\"color: #7f7f7f; text-decoration-color: #7f7f7f\">                     </span>\n",
       "<span style=\"color: #7fbfbf; text-decoration-color: #7fbfbf\">                    </span>         ', <span style=\"color: #808000; text-decoration-color: #808000\">port</span>=<span style=\"color: #008080; text-decoration-color: #008080; font-weight: bold\">443</span><span style=\"font-weight: bold\">)</span>: Read timed out. <span style=\"font-weight: bold\">(</span>read <span style=\"color: #808000; text-decoration-color: #808000\">timeout</span>=<span style=\"color: #008080; text-decoration-color: #008080; font-weight: bold\">305</span><span style=\"font-weight: bold\">)</span>\"<span style=\"font-weight: bold\">)</span>': <span style=\"color: #800080; text-decoration-color: #800080\">/</span><span style=\"color: #ff00ff; text-decoration-color: #ff00ff\">complete</span>   <span style=\"color: #7f7f7f; text-decoration-color: #7f7f7f\">                     </span>\n",
       "</pre>\n"
      ],
      "text/plain": [
       "\u001b[2;36m[07/30/24 13:12:27]\u001b[0m\u001b[2;36m \u001b[0m\u001b[31mWARNING \u001b[0m WARNING:urllib3.connectionpool:Retrying \u001b[1m(\u001b[0m\u001b[1;35mRetry\u001b[0m\u001b[1m(\u001b[0m\u001b[33mtotal\u001b[0m=\u001b[1;36m7\u001b[0m,          \u001b]8;id=582838;file:///Users/moritz.gottschling/dev/rewe-workshop/.venv/lib/python3.12/site-packages/urllib3/connectionpool.py\u001b\\\u001b[2mconnectionpool.py\u001b[0m\u001b]8;;\u001b\\\u001b[2m:\u001b[0m\u001b]8;id=869003;file:///Users/moritz.gottschling/dev/rewe-workshop/.venv/lib/python3.12/site-packages/urllib3/connectionpool.py#870\u001b\\\u001b[2m870\u001b[0m\u001b]8;;\u001b\\\n",
       "\u001b[2;36m                    \u001b[0m         \u001b[33mconnect\u001b[0m=\u001b[3;35mNone\u001b[0m, \u001b[33mread\u001b[0m=\u001b[3;35mNone\u001b[0m, \u001b[33mredirect\u001b[0m=\u001b[3;35mNone\u001b[0m, \u001b[33mstatus\u001b[0m=\u001b[3;35mNone\u001b[0m\u001b[1m)\u001b[0m\u001b[1m)\u001b[0m after      \u001b[2m                     \u001b[0m\n",
       "\u001b[2;36m                    \u001b[0m         connection broken by                                             \u001b[2m                     \u001b[0m\n",
       "\u001b[2;36m                    \u001b[0m         \u001b[32m'ReadTimeoutError\u001b[0m\u001b[32m(\u001b[0m\u001b[32m\"HTTPSConnectionPool\u001b[0m\u001b[32m(\u001b[0m\u001b[32mhost\u001b[0m\u001b[32m='\u001b[0mapi.aleph-alpha.com \u001b[2m                     \u001b[0m\n",
       "\u001b[2;36m                    \u001b[0m         ', \u001b[33mport\u001b[0m=\u001b[1;36m443\u001b[0m\u001b[1m)\u001b[0m: Read timed out. \u001b[1m(\u001b[0mread \u001b[33mtimeout\u001b[0m=\u001b[1;36m305\u001b[0m\u001b[1m)\u001b[0m\"\u001b[1m)\u001b[0m': \u001b[35m/\u001b[0m\u001b[95mcomplete\u001b[0m   \u001b[2m                     \u001b[0m\n"
      ]
     },
     "metadata": {},
     "output_type": "display_data"
    },
    {
     "data": {
      "text/html": [
       "<pre style=\"white-space:pre;overflow-x:auto;line-height:normal;font-family:Menlo,'DejaVu Sans Mono',consolas,'Courier New',monospace\"><span style=\"color: #7fbfbf; text-decoration-color: #7fbfbf\">[07/30/24 13:12:39] </span><span style=\"color: #800000; text-decoration-color: #800000\">WARNING </span> WARNING:urllib3.connectionpool:Retrying <span style=\"font-weight: bold\">(</span><span style=\"color: #800080; text-decoration-color: #800080; font-weight: bold\">Retry</span><span style=\"font-weight: bold\">(</span><span style=\"color: #808000; text-decoration-color: #808000\">total</span>=<span style=\"color: #008080; text-decoration-color: #008080; font-weight: bold\">7</span>,          <a href=\"file:///Users/moritz.gottschling/dev/rewe-workshop/.venv/lib/python3.12/site-packages/urllib3/connectionpool.py\" target=\"_blank\"><span style=\"color: #7f7f7f; text-decoration-color: #7f7f7f\">connectionpool.py</span></a><span style=\"color: #7f7f7f; text-decoration-color: #7f7f7f\">:</span><a href=\"file:///Users/moritz.gottschling/dev/rewe-workshop/.venv/lib/python3.12/site-packages/urllib3/connectionpool.py#870\" target=\"_blank\"><span style=\"color: #7f7f7f; text-decoration-color: #7f7f7f\">870</span></a>\n",
       "<span style=\"color: #7fbfbf; text-decoration-color: #7fbfbf\">                    </span>         <span style=\"color: #808000; text-decoration-color: #808000\">connect</span>=<span style=\"color: #800080; text-decoration-color: #800080; font-style: italic\">None</span>, <span style=\"color: #808000; text-decoration-color: #808000\">read</span>=<span style=\"color: #800080; text-decoration-color: #800080; font-style: italic\">None</span>, <span style=\"color: #808000; text-decoration-color: #808000\">redirect</span>=<span style=\"color: #800080; text-decoration-color: #800080; font-style: italic\">None</span>, <span style=\"color: #808000; text-decoration-color: #808000\">status</span>=<span style=\"color: #800080; text-decoration-color: #800080; font-style: italic\">None</span><span style=\"font-weight: bold\">))</span> after      <span style=\"color: #7f7f7f; text-decoration-color: #7f7f7f\">                     </span>\n",
       "<span style=\"color: #7fbfbf; text-decoration-color: #7fbfbf\">                    </span>         connection broken by                                             <span style=\"color: #7f7f7f; text-decoration-color: #7f7f7f\">                     </span>\n",
       "<span style=\"color: #7fbfbf; text-decoration-color: #7fbfbf\">                    </span>         <span style=\"color: #008000; text-decoration-color: #008000\">'ReadTimeoutError(\"HTTPSConnectionPool(host='</span>api.aleph-alpha.com <span style=\"color: #7f7f7f; text-decoration-color: #7f7f7f\">                     </span>\n",
       "<span style=\"color: #7fbfbf; text-decoration-color: #7fbfbf\">                    </span>         ', <span style=\"color: #808000; text-decoration-color: #808000\">port</span>=<span style=\"color: #008080; text-decoration-color: #008080; font-weight: bold\">443</span><span style=\"font-weight: bold\">)</span>: Read timed out. <span style=\"font-weight: bold\">(</span>read <span style=\"color: #808000; text-decoration-color: #808000\">timeout</span>=<span style=\"color: #008080; text-decoration-color: #008080; font-weight: bold\">305</span><span style=\"font-weight: bold\">)</span>\"<span style=\"font-weight: bold\">)</span>': <span style=\"color: #800080; text-decoration-color: #800080\">/</span><span style=\"color: #ff00ff; text-decoration-color: #ff00ff\">complete</span>   <span style=\"color: #7f7f7f; text-decoration-color: #7f7f7f\">                     </span>\n",
       "</pre>\n"
      ],
      "text/plain": [
       "\u001b[2;36m[07/30/24 13:12:39]\u001b[0m\u001b[2;36m \u001b[0m\u001b[31mWARNING \u001b[0m WARNING:urllib3.connectionpool:Retrying \u001b[1m(\u001b[0m\u001b[1;35mRetry\u001b[0m\u001b[1m(\u001b[0m\u001b[33mtotal\u001b[0m=\u001b[1;36m7\u001b[0m,          \u001b]8;id=647858;file:///Users/moritz.gottschling/dev/rewe-workshop/.venv/lib/python3.12/site-packages/urllib3/connectionpool.py\u001b\\\u001b[2mconnectionpool.py\u001b[0m\u001b]8;;\u001b\\\u001b[2m:\u001b[0m\u001b]8;id=574960;file:///Users/moritz.gottschling/dev/rewe-workshop/.venv/lib/python3.12/site-packages/urllib3/connectionpool.py#870\u001b\\\u001b[2m870\u001b[0m\u001b]8;;\u001b\\\n",
       "\u001b[2;36m                    \u001b[0m         \u001b[33mconnect\u001b[0m=\u001b[3;35mNone\u001b[0m, \u001b[33mread\u001b[0m=\u001b[3;35mNone\u001b[0m, \u001b[33mredirect\u001b[0m=\u001b[3;35mNone\u001b[0m, \u001b[33mstatus\u001b[0m=\u001b[3;35mNone\u001b[0m\u001b[1m)\u001b[0m\u001b[1m)\u001b[0m after      \u001b[2m                     \u001b[0m\n",
       "\u001b[2;36m                    \u001b[0m         connection broken by                                             \u001b[2m                     \u001b[0m\n",
       "\u001b[2;36m                    \u001b[0m         \u001b[32m'ReadTimeoutError\u001b[0m\u001b[32m(\u001b[0m\u001b[32m\"HTTPSConnectionPool\u001b[0m\u001b[32m(\u001b[0m\u001b[32mhost\u001b[0m\u001b[32m='\u001b[0mapi.aleph-alpha.com \u001b[2m                     \u001b[0m\n",
       "\u001b[2;36m                    \u001b[0m         ', \u001b[33mport\u001b[0m=\u001b[1;36m443\u001b[0m\u001b[1m)\u001b[0m: Read timed out. \u001b[1m(\u001b[0mread \u001b[33mtimeout\u001b[0m=\u001b[1;36m305\u001b[0m\u001b[1m)\u001b[0m\"\u001b[1m)\u001b[0m': \u001b[35m/\u001b[0m\u001b[95mcomplete\u001b[0m   \u001b[2m                     \u001b[0m\n"
      ]
     },
     "metadata": {},
     "output_type": "display_data"
    },
    {
     "data": {
      "text/html": [
       "<pre style=\"white-space:pre;overflow-x:auto;line-height:normal;font-family:Menlo,'DejaVu Sans Mono',consolas,'Courier New',monospace\"><span style=\"color: #7fbfbf; text-decoration-color: #7fbfbf\">                    </span><span style=\"color: #800000; text-decoration-color: #800000\">WARNING </span> WARNING:urllib3.connectionpool:Retrying <span style=\"font-weight: bold\">(</span><span style=\"color: #800080; text-decoration-color: #800080; font-weight: bold\">Retry</span><span style=\"font-weight: bold\">(</span><span style=\"color: #808000; text-decoration-color: #808000\">total</span>=<span style=\"color: #008080; text-decoration-color: #008080; font-weight: bold\">7</span>,          <a href=\"file:///Users/moritz.gottschling/dev/rewe-workshop/.venv/lib/python3.12/site-packages/urllib3/connectionpool.py\" target=\"_blank\"><span style=\"color: #7f7f7f; text-decoration-color: #7f7f7f\">connectionpool.py</span></a><span style=\"color: #7f7f7f; text-decoration-color: #7f7f7f\">:</span><a href=\"file:///Users/moritz.gottschling/dev/rewe-workshop/.venv/lib/python3.12/site-packages/urllib3/connectionpool.py#870\" target=\"_blank\"><span style=\"color: #7f7f7f; text-decoration-color: #7f7f7f\">870</span></a>\n",
       "<span style=\"color: #7fbfbf; text-decoration-color: #7fbfbf\">                    </span>         <span style=\"color: #808000; text-decoration-color: #808000\">connect</span>=<span style=\"color: #800080; text-decoration-color: #800080; font-style: italic\">None</span>, <span style=\"color: #808000; text-decoration-color: #808000\">read</span>=<span style=\"color: #800080; text-decoration-color: #800080; font-style: italic\">None</span>, <span style=\"color: #808000; text-decoration-color: #808000\">redirect</span>=<span style=\"color: #800080; text-decoration-color: #800080; font-style: italic\">None</span>, <span style=\"color: #808000; text-decoration-color: #808000\">status</span>=<span style=\"color: #800080; text-decoration-color: #800080; font-style: italic\">None</span><span style=\"font-weight: bold\">))</span> after      <span style=\"color: #7f7f7f; text-decoration-color: #7f7f7f\">                     </span>\n",
       "<span style=\"color: #7fbfbf; text-decoration-color: #7fbfbf\">                    </span>         connection broken by                                             <span style=\"color: #7f7f7f; text-decoration-color: #7f7f7f\">                     </span>\n",
       "<span style=\"color: #7fbfbf; text-decoration-color: #7fbfbf\">                    </span>         <span style=\"color: #008000; text-decoration-color: #008000\">'ReadTimeoutError(\"HTTPSConnectionPool(host='</span>api.aleph-alpha.com <span style=\"color: #7f7f7f; text-decoration-color: #7f7f7f\">                     </span>\n",
       "<span style=\"color: #7fbfbf; text-decoration-color: #7fbfbf\">                    </span>         ', <span style=\"color: #808000; text-decoration-color: #808000\">port</span>=<span style=\"color: #008080; text-decoration-color: #008080; font-weight: bold\">443</span><span style=\"font-weight: bold\">)</span>: Read timed out. <span style=\"font-weight: bold\">(</span>read <span style=\"color: #808000; text-decoration-color: #808000\">timeout</span>=<span style=\"color: #008080; text-decoration-color: #008080; font-weight: bold\">305</span><span style=\"font-weight: bold\">)</span>\"<span style=\"font-weight: bold\">)</span>': <span style=\"color: #800080; text-decoration-color: #800080\">/</span><span style=\"color: #ff00ff; text-decoration-color: #ff00ff\">complete</span>   <span style=\"color: #7f7f7f; text-decoration-color: #7f7f7f\">                     </span>\n",
       "</pre>\n"
      ],
      "text/plain": [
       "\u001b[2;36m                   \u001b[0m\u001b[2;36m \u001b[0m\u001b[31mWARNING \u001b[0m WARNING:urllib3.connectionpool:Retrying \u001b[1m(\u001b[0m\u001b[1;35mRetry\u001b[0m\u001b[1m(\u001b[0m\u001b[33mtotal\u001b[0m=\u001b[1;36m7\u001b[0m,          \u001b]8;id=884989;file:///Users/moritz.gottschling/dev/rewe-workshop/.venv/lib/python3.12/site-packages/urllib3/connectionpool.py\u001b\\\u001b[2mconnectionpool.py\u001b[0m\u001b]8;;\u001b\\\u001b[2m:\u001b[0m\u001b]8;id=92768;file:///Users/moritz.gottschling/dev/rewe-workshop/.venv/lib/python3.12/site-packages/urllib3/connectionpool.py#870\u001b\\\u001b[2m870\u001b[0m\u001b]8;;\u001b\\\n",
       "\u001b[2;36m                    \u001b[0m         \u001b[33mconnect\u001b[0m=\u001b[3;35mNone\u001b[0m, \u001b[33mread\u001b[0m=\u001b[3;35mNone\u001b[0m, \u001b[33mredirect\u001b[0m=\u001b[3;35mNone\u001b[0m, \u001b[33mstatus\u001b[0m=\u001b[3;35mNone\u001b[0m\u001b[1m)\u001b[0m\u001b[1m)\u001b[0m after      \u001b[2m                     \u001b[0m\n",
       "\u001b[2;36m                    \u001b[0m         connection broken by                                             \u001b[2m                     \u001b[0m\n",
       "\u001b[2;36m                    \u001b[0m         \u001b[32m'ReadTimeoutError\u001b[0m\u001b[32m(\u001b[0m\u001b[32m\"HTTPSConnectionPool\u001b[0m\u001b[32m(\u001b[0m\u001b[32mhost\u001b[0m\u001b[32m='\u001b[0mapi.aleph-alpha.com \u001b[2m                     \u001b[0m\n",
       "\u001b[2;36m                    \u001b[0m         ', \u001b[33mport\u001b[0m=\u001b[1;36m443\u001b[0m\u001b[1m)\u001b[0m: Read timed out. \u001b[1m(\u001b[0mread \u001b[33mtimeout\u001b[0m=\u001b[1;36m305\u001b[0m\u001b[1m)\u001b[0m\"\u001b[1m)\u001b[0m': \u001b[35m/\u001b[0m\u001b[95mcomplete\u001b[0m   \u001b[2m                     \u001b[0m\n"
      ]
     },
     "metadata": {},
     "output_type": "display_data"
    },
    {
     "data": {
      "text/html": [
       "<pre style=\"white-space:pre;overflow-x:auto;line-height:normal;font-family:Menlo,'DejaVu Sans Mono',consolas,'Courier New',monospace\"><span style=\"color: #7fbfbf; text-decoration-color: #7fbfbf\">[07/30/24 13:12:41] </span><span style=\"color: #800000; text-decoration-color: #800000\">WARNING </span> WARNING:urllib3.connectionpool:Retrying <span style=\"font-weight: bold\">(</span><span style=\"color: #800080; text-decoration-color: #800080; font-weight: bold\">Retry</span><span style=\"font-weight: bold\">(</span><span style=\"color: #808000; text-decoration-color: #808000\">total</span>=<span style=\"color: #008080; text-decoration-color: #008080; font-weight: bold\">7</span>,          <a href=\"file:///Users/moritz.gottschling/dev/rewe-workshop/.venv/lib/python3.12/site-packages/urllib3/connectionpool.py\" target=\"_blank\"><span style=\"color: #7f7f7f; text-decoration-color: #7f7f7f\">connectionpool.py</span></a><span style=\"color: #7f7f7f; text-decoration-color: #7f7f7f\">:</span><a href=\"file:///Users/moritz.gottschling/dev/rewe-workshop/.venv/lib/python3.12/site-packages/urllib3/connectionpool.py#870\" target=\"_blank\"><span style=\"color: #7f7f7f; text-decoration-color: #7f7f7f\">870</span></a>\n",
       "<span style=\"color: #7fbfbf; text-decoration-color: #7fbfbf\">                    </span>         <span style=\"color: #808000; text-decoration-color: #808000\">connect</span>=<span style=\"color: #800080; text-decoration-color: #800080; font-style: italic\">None</span>, <span style=\"color: #808000; text-decoration-color: #808000\">read</span>=<span style=\"color: #800080; text-decoration-color: #800080; font-style: italic\">None</span>, <span style=\"color: #808000; text-decoration-color: #808000\">redirect</span>=<span style=\"color: #800080; text-decoration-color: #800080; font-style: italic\">None</span>, <span style=\"color: #808000; text-decoration-color: #808000\">status</span>=<span style=\"color: #800080; text-decoration-color: #800080; font-style: italic\">None</span><span style=\"font-weight: bold\">))</span> after      <span style=\"color: #7f7f7f; text-decoration-color: #7f7f7f\">                     </span>\n",
       "<span style=\"color: #7fbfbf; text-decoration-color: #7fbfbf\">                    </span>         connection broken by                                             <span style=\"color: #7f7f7f; text-decoration-color: #7f7f7f\">                     </span>\n",
       "<span style=\"color: #7fbfbf; text-decoration-color: #7fbfbf\">                    </span>         <span style=\"color: #008000; text-decoration-color: #008000\">'ReadTimeoutError(\"HTTPSConnectionPool(host='</span>api.aleph-alpha.com <span style=\"color: #7f7f7f; text-decoration-color: #7f7f7f\">                     </span>\n",
       "<span style=\"color: #7fbfbf; text-decoration-color: #7fbfbf\">                    </span>         ', <span style=\"color: #808000; text-decoration-color: #808000\">port</span>=<span style=\"color: #008080; text-decoration-color: #008080; font-weight: bold\">443</span><span style=\"font-weight: bold\">)</span>: Read timed out. <span style=\"font-weight: bold\">(</span>read <span style=\"color: #808000; text-decoration-color: #808000\">timeout</span>=<span style=\"color: #008080; text-decoration-color: #008080; font-weight: bold\">305</span><span style=\"font-weight: bold\">)</span>\"<span style=\"font-weight: bold\">)</span>': <span style=\"color: #800080; text-decoration-color: #800080\">/</span><span style=\"color: #ff00ff; text-decoration-color: #ff00ff\">complete</span>   <span style=\"color: #7f7f7f; text-decoration-color: #7f7f7f\">                     </span>\n",
       "</pre>\n"
      ],
      "text/plain": [
       "\u001b[2;36m[07/30/24 13:12:41]\u001b[0m\u001b[2;36m \u001b[0m\u001b[31mWARNING \u001b[0m WARNING:urllib3.connectionpool:Retrying \u001b[1m(\u001b[0m\u001b[1;35mRetry\u001b[0m\u001b[1m(\u001b[0m\u001b[33mtotal\u001b[0m=\u001b[1;36m7\u001b[0m,          \u001b]8;id=496332;file:///Users/moritz.gottschling/dev/rewe-workshop/.venv/lib/python3.12/site-packages/urllib3/connectionpool.py\u001b\\\u001b[2mconnectionpool.py\u001b[0m\u001b]8;;\u001b\\\u001b[2m:\u001b[0m\u001b]8;id=618001;file:///Users/moritz.gottschling/dev/rewe-workshop/.venv/lib/python3.12/site-packages/urllib3/connectionpool.py#870\u001b\\\u001b[2m870\u001b[0m\u001b]8;;\u001b\\\n",
       "\u001b[2;36m                    \u001b[0m         \u001b[33mconnect\u001b[0m=\u001b[3;35mNone\u001b[0m, \u001b[33mread\u001b[0m=\u001b[3;35mNone\u001b[0m, \u001b[33mredirect\u001b[0m=\u001b[3;35mNone\u001b[0m, \u001b[33mstatus\u001b[0m=\u001b[3;35mNone\u001b[0m\u001b[1m)\u001b[0m\u001b[1m)\u001b[0m after      \u001b[2m                     \u001b[0m\n",
       "\u001b[2;36m                    \u001b[0m         connection broken by                                             \u001b[2m                     \u001b[0m\n",
       "\u001b[2;36m                    \u001b[0m         \u001b[32m'ReadTimeoutError\u001b[0m\u001b[32m(\u001b[0m\u001b[32m\"HTTPSConnectionPool\u001b[0m\u001b[32m(\u001b[0m\u001b[32mhost\u001b[0m\u001b[32m='\u001b[0mapi.aleph-alpha.com \u001b[2m                     \u001b[0m\n",
       "\u001b[2;36m                    \u001b[0m         ', \u001b[33mport\u001b[0m=\u001b[1;36m443\u001b[0m\u001b[1m)\u001b[0m: Read timed out. \u001b[1m(\u001b[0mread \u001b[33mtimeout\u001b[0m=\u001b[1;36m305\u001b[0m\u001b[1m)\u001b[0m\"\u001b[1m)\u001b[0m': \u001b[35m/\u001b[0m\u001b[95mcomplete\u001b[0m   \u001b[2m                     \u001b[0m\n"
      ]
     },
     "metadata": {},
     "output_type": "display_data"
    },
    {
     "data": {
      "text/html": [
       "<pre style=\"white-space:pre;overflow-x:auto;line-height:normal;font-family:Menlo,'DejaVu Sans Mono',consolas,'Courier New',monospace\"><span style=\"color: #7fbfbf; text-decoration-color: #7fbfbf\">[07/30/24 13:12:51] </span><span style=\"color: #800000; text-decoration-color: #800000\">WARNING </span> WARNING:urllib3.connectionpool:Retrying <span style=\"font-weight: bold\">(</span><span style=\"color: #800080; text-decoration-color: #800080; font-weight: bold\">Retry</span><span style=\"font-weight: bold\">(</span><span style=\"color: #808000; text-decoration-color: #808000\">total</span>=<span style=\"color: #008080; text-decoration-color: #008080; font-weight: bold\">7</span>,          <a href=\"file:///Users/moritz.gottschling/dev/rewe-workshop/.venv/lib/python3.12/site-packages/urllib3/connectionpool.py\" target=\"_blank\"><span style=\"color: #7f7f7f; text-decoration-color: #7f7f7f\">connectionpool.py</span></a><span style=\"color: #7f7f7f; text-decoration-color: #7f7f7f\">:</span><a href=\"file:///Users/moritz.gottschling/dev/rewe-workshop/.venv/lib/python3.12/site-packages/urllib3/connectionpool.py#870\" target=\"_blank\"><span style=\"color: #7f7f7f; text-decoration-color: #7f7f7f\">870</span></a>\n",
       "<span style=\"color: #7fbfbf; text-decoration-color: #7fbfbf\">                    </span>         <span style=\"color: #808000; text-decoration-color: #808000\">connect</span>=<span style=\"color: #800080; text-decoration-color: #800080; font-style: italic\">None</span>, <span style=\"color: #808000; text-decoration-color: #808000\">read</span>=<span style=\"color: #800080; text-decoration-color: #800080; font-style: italic\">None</span>, <span style=\"color: #808000; text-decoration-color: #808000\">redirect</span>=<span style=\"color: #800080; text-decoration-color: #800080; font-style: italic\">None</span>, <span style=\"color: #808000; text-decoration-color: #808000\">status</span>=<span style=\"color: #800080; text-decoration-color: #800080; font-style: italic\">None</span><span style=\"font-weight: bold\">))</span> after      <span style=\"color: #7f7f7f; text-decoration-color: #7f7f7f\">                     </span>\n",
       "<span style=\"color: #7fbfbf; text-decoration-color: #7fbfbf\">                    </span>         connection broken by                                             <span style=\"color: #7f7f7f; text-decoration-color: #7f7f7f\">                     </span>\n",
       "<span style=\"color: #7fbfbf; text-decoration-color: #7fbfbf\">                    </span>         <span style=\"color: #008000; text-decoration-color: #008000\">'ReadTimeoutError(\"HTTPSConnectionPool(host='</span>api.aleph-alpha.com <span style=\"color: #7f7f7f; text-decoration-color: #7f7f7f\">                     </span>\n",
       "<span style=\"color: #7fbfbf; text-decoration-color: #7fbfbf\">                    </span>         ', <span style=\"color: #808000; text-decoration-color: #808000\">port</span>=<span style=\"color: #008080; text-decoration-color: #008080; font-weight: bold\">443</span><span style=\"font-weight: bold\">)</span>: Read timed out. <span style=\"font-weight: bold\">(</span>read <span style=\"color: #808000; text-decoration-color: #808000\">timeout</span>=<span style=\"color: #008080; text-decoration-color: #008080; font-weight: bold\">305</span><span style=\"font-weight: bold\">)</span>\"<span style=\"font-weight: bold\">)</span>': <span style=\"color: #800080; text-decoration-color: #800080\">/</span><span style=\"color: #ff00ff; text-decoration-color: #ff00ff\">complete</span>   <span style=\"color: #7f7f7f; text-decoration-color: #7f7f7f\">                     </span>\n",
       "</pre>\n"
      ],
      "text/plain": [
       "\u001b[2;36m[07/30/24 13:12:51]\u001b[0m\u001b[2;36m \u001b[0m\u001b[31mWARNING \u001b[0m WARNING:urllib3.connectionpool:Retrying \u001b[1m(\u001b[0m\u001b[1;35mRetry\u001b[0m\u001b[1m(\u001b[0m\u001b[33mtotal\u001b[0m=\u001b[1;36m7\u001b[0m,          \u001b]8;id=698023;file:///Users/moritz.gottschling/dev/rewe-workshop/.venv/lib/python3.12/site-packages/urllib3/connectionpool.py\u001b\\\u001b[2mconnectionpool.py\u001b[0m\u001b]8;;\u001b\\\u001b[2m:\u001b[0m\u001b]8;id=404489;file:///Users/moritz.gottschling/dev/rewe-workshop/.venv/lib/python3.12/site-packages/urllib3/connectionpool.py#870\u001b\\\u001b[2m870\u001b[0m\u001b]8;;\u001b\\\n",
       "\u001b[2;36m                    \u001b[0m         \u001b[33mconnect\u001b[0m=\u001b[3;35mNone\u001b[0m, \u001b[33mread\u001b[0m=\u001b[3;35mNone\u001b[0m, \u001b[33mredirect\u001b[0m=\u001b[3;35mNone\u001b[0m, \u001b[33mstatus\u001b[0m=\u001b[3;35mNone\u001b[0m\u001b[1m)\u001b[0m\u001b[1m)\u001b[0m after      \u001b[2m                     \u001b[0m\n",
       "\u001b[2;36m                    \u001b[0m         connection broken by                                             \u001b[2m                     \u001b[0m\n",
       "\u001b[2;36m                    \u001b[0m         \u001b[32m'ReadTimeoutError\u001b[0m\u001b[32m(\u001b[0m\u001b[32m\"HTTPSConnectionPool\u001b[0m\u001b[32m(\u001b[0m\u001b[32mhost\u001b[0m\u001b[32m='\u001b[0mapi.aleph-alpha.com \u001b[2m                     \u001b[0m\n",
       "\u001b[2;36m                    \u001b[0m         ', \u001b[33mport\u001b[0m=\u001b[1;36m443\u001b[0m\u001b[1m)\u001b[0m: Read timed out. \u001b[1m(\u001b[0mread \u001b[33mtimeout\u001b[0m=\u001b[1;36m305\u001b[0m\u001b[1m)\u001b[0m\"\u001b[1m)\u001b[0m': \u001b[35m/\u001b[0m\u001b[95mcomplete\u001b[0m   \u001b[2m                     \u001b[0m\n"
      ]
     },
     "metadata": {},
     "output_type": "display_data"
    },
    {
     "data": {
      "text/html": [
       "<pre style=\"white-space:pre;overflow-x:auto;line-height:normal;font-family:Menlo,'DejaVu Sans Mono',consolas,'Courier New',monospace\"><span style=\"color: #7fbfbf; text-decoration-color: #7fbfbf\">[07/30/24 13:12:53] </span><span style=\"color: #800000; text-decoration-color: #800000\">WARNING </span> WARNING:urllib3.connectionpool:Retrying <span style=\"font-weight: bold\">(</span><span style=\"color: #800080; text-decoration-color: #800080; font-weight: bold\">Retry</span><span style=\"font-weight: bold\">(</span><span style=\"color: #808000; text-decoration-color: #808000\">total</span>=<span style=\"color: #008080; text-decoration-color: #008080; font-weight: bold\">7</span>,          <a href=\"file:///Users/moritz.gottschling/dev/rewe-workshop/.venv/lib/python3.12/site-packages/urllib3/connectionpool.py\" target=\"_blank\"><span style=\"color: #7f7f7f; text-decoration-color: #7f7f7f\">connectionpool.py</span></a><span style=\"color: #7f7f7f; text-decoration-color: #7f7f7f\">:</span><a href=\"file:///Users/moritz.gottschling/dev/rewe-workshop/.venv/lib/python3.12/site-packages/urllib3/connectionpool.py#870\" target=\"_blank\"><span style=\"color: #7f7f7f; text-decoration-color: #7f7f7f\">870</span></a>\n",
       "<span style=\"color: #7fbfbf; text-decoration-color: #7fbfbf\">                    </span>         <span style=\"color: #808000; text-decoration-color: #808000\">connect</span>=<span style=\"color: #800080; text-decoration-color: #800080; font-style: italic\">None</span>, <span style=\"color: #808000; text-decoration-color: #808000\">read</span>=<span style=\"color: #800080; text-decoration-color: #800080; font-style: italic\">None</span>, <span style=\"color: #808000; text-decoration-color: #808000\">redirect</span>=<span style=\"color: #800080; text-decoration-color: #800080; font-style: italic\">None</span>, <span style=\"color: #808000; text-decoration-color: #808000\">status</span>=<span style=\"color: #800080; text-decoration-color: #800080; font-style: italic\">None</span><span style=\"font-weight: bold\">))</span> after      <span style=\"color: #7f7f7f; text-decoration-color: #7f7f7f\">                     </span>\n",
       "<span style=\"color: #7fbfbf; text-decoration-color: #7fbfbf\">                    </span>         connection broken by                                             <span style=\"color: #7f7f7f; text-decoration-color: #7f7f7f\">                     </span>\n",
       "<span style=\"color: #7fbfbf; text-decoration-color: #7fbfbf\">                    </span>         <span style=\"color: #008000; text-decoration-color: #008000\">'ReadTimeoutError(\"HTTPSConnectionPool(host='</span>api.aleph-alpha.com <span style=\"color: #7f7f7f; text-decoration-color: #7f7f7f\">                     </span>\n",
       "<span style=\"color: #7fbfbf; text-decoration-color: #7fbfbf\">                    </span>         ', <span style=\"color: #808000; text-decoration-color: #808000\">port</span>=<span style=\"color: #008080; text-decoration-color: #008080; font-weight: bold\">443</span><span style=\"font-weight: bold\">)</span>: Read timed out. <span style=\"font-weight: bold\">(</span>read <span style=\"color: #808000; text-decoration-color: #808000\">timeout</span>=<span style=\"color: #008080; text-decoration-color: #008080; font-weight: bold\">305</span><span style=\"font-weight: bold\">)</span>\"<span style=\"font-weight: bold\">)</span>': <span style=\"color: #800080; text-decoration-color: #800080\">/</span><span style=\"color: #ff00ff; text-decoration-color: #ff00ff\">explain</span>    <span style=\"color: #7f7f7f; text-decoration-color: #7f7f7f\">                     </span>\n",
       "</pre>\n"
      ],
      "text/plain": [
       "\u001b[2;36m[07/30/24 13:12:53]\u001b[0m\u001b[2;36m \u001b[0m\u001b[31mWARNING \u001b[0m WARNING:urllib3.connectionpool:Retrying \u001b[1m(\u001b[0m\u001b[1;35mRetry\u001b[0m\u001b[1m(\u001b[0m\u001b[33mtotal\u001b[0m=\u001b[1;36m7\u001b[0m,          \u001b]8;id=723280;file:///Users/moritz.gottschling/dev/rewe-workshop/.venv/lib/python3.12/site-packages/urllib3/connectionpool.py\u001b\\\u001b[2mconnectionpool.py\u001b[0m\u001b]8;;\u001b\\\u001b[2m:\u001b[0m\u001b]8;id=351606;file:///Users/moritz.gottschling/dev/rewe-workshop/.venv/lib/python3.12/site-packages/urllib3/connectionpool.py#870\u001b\\\u001b[2m870\u001b[0m\u001b]8;;\u001b\\\n",
       "\u001b[2;36m                    \u001b[0m         \u001b[33mconnect\u001b[0m=\u001b[3;35mNone\u001b[0m, \u001b[33mread\u001b[0m=\u001b[3;35mNone\u001b[0m, \u001b[33mredirect\u001b[0m=\u001b[3;35mNone\u001b[0m, \u001b[33mstatus\u001b[0m=\u001b[3;35mNone\u001b[0m\u001b[1m)\u001b[0m\u001b[1m)\u001b[0m after      \u001b[2m                     \u001b[0m\n",
       "\u001b[2;36m                    \u001b[0m         connection broken by                                             \u001b[2m                     \u001b[0m\n",
       "\u001b[2;36m                    \u001b[0m         \u001b[32m'ReadTimeoutError\u001b[0m\u001b[32m(\u001b[0m\u001b[32m\"HTTPSConnectionPool\u001b[0m\u001b[32m(\u001b[0m\u001b[32mhost\u001b[0m\u001b[32m='\u001b[0mapi.aleph-alpha.com \u001b[2m                     \u001b[0m\n",
       "\u001b[2;36m                    \u001b[0m         ', \u001b[33mport\u001b[0m=\u001b[1;36m443\u001b[0m\u001b[1m)\u001b[0m: Read timed out. \u001b[1m(\u001b[0mread \u001b[33mtimeout\u001b[0m=\u001b[1;36m305\u001b[0m\u001b[1m)\u001b[0m\"\u001b[1m)\u001b[0m': \u001b[35m/\u001b[0m\u001b[95mexplain\u001b[0m    \u001b[2m                     \u001b[0m\n"
      ]
     },
     "metadata": {},
     "output_type": "display_data"
    }
   ],
   "source": [
    "run_overviews = run_for_configs(configs)"
   ]
  },
  {
   "cell_type": "code",
   "execution_count": 15,
   "metadata": {},
   "outputs": [
    {
     "data": {
      "text/html": [
       "<div>\n",
       "<style scoped>\n",
       "    .dataframe tbody tr th:only-of-type {\n",
       "        vertical-align: middle;\n",
       "    }\n",
       "\n",
       "    .dataframe tbody tr th {\n",
       "        vertical-align: top;\n",
       "    }\n",
       "\n",
       "    .dataframe thead th {\n",
       "        text-align: right;\n",
       "    }\n",
       "</style>\n",
       "<table border=\"1\" class=\"dataframe\">\n",
       "  <thead>\n",
       "    <tr style=\"text-align: right;\">\n",
       "      <th></th>\n",
       "      <th></th>\n",
       "      <th>input</th>\n",
       "      <th>expected_output</th>\n",
       "      <th>metadata</th>\n",
       "      <th>output</th>\n",
       "      <th>lineage</th>\n",
       "    </tr>\n",
       "    <tr>\n",
       "      <th>example_id</th>\n",
       "      <th>run_id</th>\n",
       "      <th></th>\n",
       "      <th></th>\n",
       "      <th></th>\n",
       "      <th></th>\n",
       "      <th></th>\n",
       "    </tr>\n",
       "  </thead>\n",
       "  <tbody>\n",
       "    <tr>\n",
       "      <th>073116a6-0fe8-46e2-bdff-c4c70f40aa21</th>\n",
       "      <th>97656db1-fae8-4d67-b88d-b7f7cbbb3156</th>\n",
       "      <td>question='Seit wann gibt es Heavy Metal?' lang...</td>\n",
       "      <td>None</td>\n",
       "      <td>None</td>\n",
       "      <td>answer='Heavy Metal entstand in den 1970er und...</td>\n",
       "      <td>&lt;intelligence_layer.evaluation.infrastructure....</td>\n",
       "    </tr>\n",
       "    <tr>\n",
       "      <th>09873257-a0a1-4e3a-a44b-4bccd1cb0adc</th>\n",
       "      <th>97656db1-fae8-4d67-b88d-b7f7cbbb3156</th>\n",
       "      <td>question='Was ist die Übertragungsgeschwindigk...</td>\n",
       "      <td>None</td>\n",
       "      <td>None</td>\n",
       "      <td>answer='DisplayPort 2.0 hat eine Übertragungsg...</td>\n",
       "      <td>&lt;intelligence_layer.evaluation.infrastructure....</td>\n",
       "    </tr>\n",
       "    <tr>\n",
       "      <th>0c528633-ca2a-48f7-8999-6c022738ed47</th>\n",
       "      <th>97656db1-fae8-4d67-b88d-b7f7cbbb3156</th>\n",
       "      <td>question='Welche Straßen führen von Sichuan na...</td>\n",
       "      <td>None</td>\n",
       "      <td>None</td>\n",
       "      <td>answer=None sources=[AnswerSource(chunk=Enrich...</td>\n",
       "      <td>&lt;intelligence_layer.evaluation.infrastructure....</td>\n",
       "    </tr>\n",
       "    <tr>\n",
       "      <th>0da21a3c-55ac-401a-a6b7-006fbecb35a2</th>\n",
       "      <th>97656db1-fae8-4d67-b88d-b7f7cbbb3156</th>\n",
       "      <td>question='Wer möchte das Tauschbörsen für Film...</td>\n",
       "      <td>None</td>\n",
       "      <td>None</td>\n",
       "      <td>answer=None sources=[AnswerSource(chunk=Enrich...</td>\n",
       "      <td>&lt;intelligence_layer.evaluation.infrastructure....</td>\n",
       "    </tr>\n",
       "    <tr>\n",
       "      <th>15f6bde7-03ab-4c51-bfcc-9968fe327577</th>\n",
       "      <th>97656db1-fae8-4d67-b88d-b7f7cbbb3156</th>\n",
       "      <td>question='Wo in Indien liegt die Wüste Thar?' ...</td>\n",
       "      <td>None</td>\n",
       "      <td>None</td>\n",
       "      <td>answer=None sources=[AnswerSource(chunk=Enrich...</td>\n",
       "      <td>&lt;intelligence_layer.evaluation.infrastructure....</td>\n",
       "    </tr>\n",
       "    <tr>\n",
       "      <th>...</th>\n",
       "      <th>...</th>\n",
       "      <td>...</td>\n",
       "      <td>...</td>\n",
       "      <td>...</td>\n",
       "      <td>...</td>\n",
       "      <td>...</td>\n",
       "    </tr>\n",
       "    <tr>\n",
       "      <th>eff4d5a4-a4aa-4083-beb3-46ff8c3ef49a</th>\n",
       "      <th>97656db1-fae8-4d67-b88d-b7f7cbbb3156</th>\n",
       "      <td>question='Ab welchem Jahr nahm die Bedeutung d...</td>\n",
       "      <td>None</td>\n",
       "      <td>None</td>\n",
       "      <td>answer='Die Bedeutung der NWA nahm ab 1957 ab,...</td>\n",
       "      <td>&lt;intelligence_layer.evaluation.infrastructure....</td>\n",
       "    </tr>\n",
       "    <tr>\n",
       "      <th>f3c2bd27-3711-436e-9c23-fa181f806241</th>\n",
       "      <th>97656db1-fae8-4d67-b88d-b7f7cbbb3156</th>\n",
       "      <td>question='wie lautet der Fachbegriff für das K...</td>\n",
       "      <td>None</td>\n",
       "      <td>None</td>\n",
       "      <td>answer=None sources=[AnswerSource(chunk=Enrich...</td>\n",
       "      <td>&lt;intelligence_layer.evaluation.infrastructure....</td>\n",
       "    </tr>\n",
       "    <tr>\n",
       "      <th>f59748c0-4631-4f2d-bd26-8f97ce8181d6</th>\n",
       "      <th>97656db1-fae8-4d67-b88d-b7f7cbbb3156</th>\n",
       "      <td>question='Was bedeutet phonematisches Orthogra...</td>\n",
       "      <td>None</td>\n",
       "      <td>None</td>\n",
       "      <td>answer=None sources=[AnswerSource(chunk=Enrich...</td>\n",
       "      <td>&lt;intelligence_layer.evaluation.infrastructure....</td>\n",
       "    </tr>\n",
       "    <tr>\n",
       "      <th>f793510f-2303-48e4-99a4-671198ad77d7</th>\n",
       "      <th>97656db1-fae8-4d67-b88d-b7f7cbbb3156</th>\n",
       "      <td>question='Wie wurde die Region Taoudénit Mali ...</td>\n",
       "      <td>None</td>\n",
       "      <td>None</td>\n",
       "      <td>answer=None sources=[AnswerSource(chunk=Enrich...</td>\n",
       "      <td>&lt;intelligence_layer.evaluation.infrastructure....</td>\n",
       "    </tr>\n",
       "    <tr>\n",
       "      <th>fc7cc419-5dc7-4787-b88e-82fac1858166</th>\n",
       "      <th>97656db1-fae8-4d67-b88d-b7f7cbbb3156</th>\n",
       "      <td>question='Wer betreibt den Hafen Southamptons?...</td>\n",
       "      <td>None</td>\n",
       "      <td>None</td>\n",
       "      <td>answer=None sources=[AnswerSource(chunk=Enrich...</td>\n",
       "      <td>&lt;intelligence_layer.evaluation.infrastructure....</td>\n",
       "    </tr>\n",
       "  </tbody>\n",
       "</table>\n",
       "<p>100 rows × 5 columns</p>\n",
       "</div>"
      ],
      "text/plain": [
       "                                                                                                                       input  \\\n",
       "example_id                           run_id                                                                                    \n",
       "073116a6-0fe8-46e2-bdff-c4c70f40aa21 97656db1-fae8-4d67-b88d-b7f7cbbb3156  question='Seit wann gibt es Heavy Metal?' lang...   \n",
       "09873257-a0a1-4e3a-a44b-4bccd1cb0adc 97656db1-fae8-4d67-b88d-b7f7cbbb3156  question='Was ist die Übertragungsgeschwindigk...   \n",
       "0c528633-ca2a-48f7-8999-6c022738ed47 97656db1-fae8-4d67-b88d-b7f7cbbb3156  question='Welche Straßen führen von Sichuan na...   \n",
       "0da21a3c-55ac-401a-a6b7-006fbecb35a2 97656db1-fae8-4d67-b88d-b7f7cbbb3156  question='Wer möchte das Tauschbörsen für Film...   \n",
       "15f6bde7-03ab-4c51-bfcc-9968fe327577 97656db1-fae8-4d67-b88d-b7f7cbbb3156  question='Wo in Indien liegt die Wüste Thar?' ...   \n",
       "...                                                                                                                      ...   \n",
       "eff4d5a4-a4aa-4083-beb3-46ff8c3ef49a 97656db1-fae8-4d67-b88d-b7f7cbbb3156  question='Ab welchem Jahr nahm die Bedeutung d...   \n",
       "f3c2bd27-3711-436e-9c23-fa181f806241 97656db1-fae8-4d67-b88d-b7f7cbbb3156  question='wie lautet der Fachbegriff für das K...   \n",
       "f59748c0-4631-4f2d-bd26-8f97ce8181d6 97656db1-fae8-4d67-b88d-b7f7cbbb3156  question='Was bedeutet phonematisches Orthogra...   \n",
       "f793510f-2303-48e4-99a4-671198ad77d7 97656db1-fae8-4d67-b88d-b7f7cbbb3156  question='Wie wurde die Region Taoudénit Mali ...   \n",
       "fc7cc419-5dc7-4787-b88e-82fac1858166 97656db1-fae8-4d67-b88d-b7f7cbbb3156  question='Wer betreibt den Hafen Southamptons?...   \n",
       "\n",
       "                                                                          expected_output  \\\n",
       "example_id                           run_id                                                 \n",
       "073116a6-0fe8-46e2-bdff-c4c70f40aa21 97656db1-fae8-4d67-b88d-b7f7cbbb3156            None   \n",
       "09873257-a0a1-4e3a-a44b-4bccd1cb0adc 97656db1-fae8-4d67-b88d-b7f7cbbb3156            None   \n",
       "0c528633-ca2a-48f7-8999-6c022738ed47 97656db1-fae8-4d67-b88d-b7f7cbbb3156            None   \n",
       "0da21a3c-55ac-401a-a6b7-006fbecb35a2 97656db1-fae8-4d67-b88d-b7f7cbbb3156            None   \n",
       "15f6bde7-03ab-4c51-bfcc-9968fe327577 97656db1-fae8-4d67-b88d-b7f7cbbb3156            None   \n",
       "...                                                                                   ...   \n",
       "eff4d5a4-a4aa-4083-beb3-46ff8c3ef49a 97656db1-fae8-4d67-b88d-b7f7cbbb3156            None   \n",
       "f3c2bd27-3711-436e-9c23-fa181f806241 97656db1-fae8-4d67-b88d-b7f7cbbb3156            None   \n",
       "f59748c0-4631-4f2d-bd26-8f97ce8181d6 97656db1-fae8-4d67-b88d-b7f7cbbb3156            None   \n",
       "f793510f-2303-48e4-99a4-671198ad77d7 97656db1-fae8-4d67-b88d-b7f7cbbb3156            None   \n",
       "fc7cc419-5dc7-4787-b88e-82fac1858166 97656db1-fae8-4d67-b88d-b7f7cbbb3156            None   \n",
       "\n",
       "                                                                          metadata  \\\n",
       "example_id                           run_id                                          \n",
       "073116a6-0fe8-46e2-bdff-c4c70f40aa21 97656db1-fae8-4d67-b88d-b7f7cbbb3156     None   \n",
       "09873257-a0a1-4e3a-a44b-4bccd1cb0adc 97656db1-fae8-4d67-b88d-b7f7cbbb3156     None   \n",
       "0c528633-ca2a-48f7-8999-6c022738ed47 97656db1-fae8-4d67-b88d-b7f7cbbb3156     None   \n",
       "0da21a3c-55ac-401a-a6b7-006fbecb35a2 97656db1-fae8-4d67-b88d-b7f7cbbb3156     None   \n",
       "15f6bde7-03ab-4c51-bfcc-9968fe327577 97656db1-fae8-4d67-b88d-b7f7cbbb3156     None   \n",
       "...                                                                            ...   \n",
       "eff4d5a4-a4aa-4083-beb3-46ff8c3ef49a 97656db1-fae8-4d67-b88d-b7f7cbbb3156     None   \n",
       "f3c2bd27-3711-436e-9c23-fa181f806241 97656db1-fae8-4d67-b88d-b7f7cbbb3156     None   \n",
       "f59748c0-4631-4f2d-bd26-8f97ce8181d6 97656db1-fae8-4d67-b88d-b7f7cbbb3156     None   \n",
       "f793510f-2303-48e4-99a4-671198ad77d7 97656db1-fae8-4d67-b88d-b7f7cbbb3156     None   \n",
       "fc7cc419-5dc7-4787-b88e-82fac1858166 97656db1-fae8-4d67-b88d-b7f7cbbb3156     None   \n",
       "\n",
       "                                                                                                                      output  \\\n",
       "example_id                           run_id                                                                                    \n",
       "073116a6-0fe8-46e2-bdff-c4c70f40aa21 97656db1-fae8-4d67-b88d-b7f7cbbb3156  answer='Heavy Metal entstand in den 1970er und...   \n",
       "09873257-a0a1-4e3a-a44b-4bccd1cb0adc 97656db1-fae8-4d67-b88d-b7f7cbbb3156  answer='DisplayPort 2.0 hat eine Übertragungsg...   \n",
       "0c528633-ca2a-48f7-8999-6c022738ed47 97656db1-fae8-4d67-b88d-b7f7cbbb3156  answer=None sources=[AnswerSource(chunk=Enrich...   \n",
       "0da21a3c-55ac-401a-a6b7-006fbecb35a2 97656db1-fae8-4d67-b88d-b7f7cbbb3156  answer=None sources=[AnswerSource(chunk=Enrich...   \n",
       "15f6bde7-03ab-4c51-bfcc-9968fe327577 97656db1-fae8-4d67-b88d-b7f7cbbb3156  answer=None sources=[AnswerSource(chunk=Enrich...   \n",
       "...                                                                                                                      ...   \n",
       "eff4d5a4-a4aa-4083-beb3-46ff8c3ef49a 97656db1-fae8-4d67-b88d-b7f7cbbb3156  answer='Die Bedeutung der NWA nahm ab 1957 ab,...   \n",
       "f3c2bd27-3711-436e-9c23-fa181f806241 97656db1-fae8-4d67-b88d-b7f7cbbb3156  answer=None sources=[AnswerSource(chunk=Enrich...   \n",
       "f59748c0-4631-4f2d-bd26-8f97ce8181d6 97656db1-fae8-4d67-b88d-b7f7cbbb3156  answer=None sources=[AnswerSource(chunk=Enrich...   \n",
       "f793510f-2303-48e4-99a4-671198ad77d7 97656db1-fae8-4d67-b88d-b7f7cbbb3156  answer=None sources=[AnswerSource(chunk=Enrich...   \n",
       "fc7cc419-5dc7-4787-b88e-82fac1858166 97656db1-fae8-4d67-b88d-b7f7cbbb3156  answer=None sources=[AnswerSource(chunk=Enrich...   \n",
       "\n",
       "                                                                                                                     lineage  \n",
       "example_id                           run_id                                                                                   \n",
       "073116a6-0fe8-46e2-bdff-c4c70f40aa21 97656db1-fae8-4d67-b88d-b7f7cbbb3156  <intelligence_layer.evaluation.infrastructure....  \n",
       "09873257-a0a1-4e3a-a44b-4bccd1cb0adc 97656db1-fae8-4d67-b88d-b7f7cbbb3156  <intelligence_layer.evaluation.infrastructure....  \n",
       "0c528633-ca2a-48f7-8999-6c022738ed47 97656db1-fae8-4d67-b88d-b7f7cbbb3156  <intelligence_layer.evaluation.infrastructure....  \n",
       "0da21a3c-55ac-401a-a6b7-006fbecb35a2 97656db1-fae8-4d67-b88d-b7f7cbbb3156  <intelligence_layer.evaluation.infrastructure....  \n",
       "15f6bde7-03ab-4c51-bfcc-9968fe327577 97656db1-fae8-4d67-b88d-b7f7cbbb3156  <intelligence_layer.evaluation.infrastructure....  \n",
       "...                                                                                                                      ...  \n",
       "eff4d5a4-a4aa-4083-beb3-46ff8c3ef49a 97656db1-fae8-4d67-b88d-b7f7cbbb3156  <intelligence_layer.evaluation.infrastructure....  \n",
       "f3c2bd27-3711-436e-9c23-fa181f806241 97656db1-fae8-4d67-b88d-b7f7cbbb3156  <intelligence_layer.evaluation.infrastructure....  \n",
       "f59748c0-4631-4f2d-bd26-8f97ce8181d6 97656db1-fae8-4d67-b88d-b7f7cbbb3156  <intelligence_layer.evaluation.infrastructure....  \n",
       "f793510f-2303-48e4-99a4-671198ad77d7 97656db1-fae8-4d67-b88d-b7f7cbbb3156  <intelligence_layer.evaluation.infrastructure....  \n",
       "fc7cc419-5dc7-4787-b88e-82fac1858166 97656db1-fae8-4d67-b88d-b7f7cbbb3156  <intelligence_layer.evaluation.infrastructure....  \n",
       "\n",
       "[100 rows x 5 columns]"
      ]
     },
     "execution_count": 15,
     "metadata": {},
     "output_type": "execute_result"
    }
   ],
   "source": [
    "run_lineages = list(\n",
    "    navigator.run_lineages(\n",
    "        run_overviews[0].id, RetrieverBasedQaInput, None, MultipleChunkRetrieverQaOutput\n",
    "    )\n",
    ")\n",
    "run_lineages_df = run_lineages_to_pandas(run_lineages)\n",
    "run_lineages_df"
   ]
  },
  {
   "cell_type": "markdown",
   "metadata": {},
   "source": [
    "## Evaluation Step"
   ]
  },
  {
   "cell_type": "code",
   "execution_count": 16,
   "metadata": {},
   "outputs": [],
   "source": [
    "def evaluate_runs(run_overviews: list[RunOverview])-> list[EvaluationOverview]:\n",
    "    eval_logic = RetrieverQaEvaluationLogic()\n",
    "\n",
    "    evaluator = Evaluator(\n",
    "        dataset_repository=repositories.dataset_repo,\n",
    "        run_repository=repositories.run_repo,\n",
    "        evaluation_repository=repositories.evaluation_repo,\n",
    "        description=\"default-evaluation\",\n",
    "        evaluation_logic=eval_logic,\n",
    "    )\n",
    "\n",
    "    evaluation_overviews = [\n",
    "        evaluator.evaluate_runs(run_overview.id) for run_overview in run_overviews\n",
    "    ]\n",
    "    return evaluation_overviews\n"
   ]
  },
  {
   "cell_type": "code",
   "execution_count": 17,
   "metadata": {},
   "outputs": [
    {
     "name": "stderr",
     "output_type": "stream",
     "text": [
      "/Users/moritz.gottschling/dev/rewe-workshop/.venv/lib/python3.12/site-packages/intelligence_layer/core/model.py:229: UserWarning: The provided model is not a recommended model for this model class.Make sure that the model you have selected is suited to be use for the prompt template used in this model class.\n",
      "  warnings.warn(\n",
      "Evaluating: 100it [00:30,  3.25it/s]\n",
      "Evaluating: 100it [00:28,  3.54it/s]\n",
      "Evaluating: 100it [02:07,  1.27s/it]\n",
      "Evaluating: 100it [00:34,  2.86it/s]\n"
     ]
    }
   ],
   "source": [
    "evaluation_overviews = evaluate_runs(run_overviews)"
   ]
  },
  {
   "cell_type": "code",
   "execution_count": 49,
   "metadata": {},
   "outputs": [
    {
     "data": {
      "text/html": [
       "<div>\n",
       "<style scoped>\n",
       "    .dataframe tbody tr th:only-of-type {\n",
       "        vertical-align: middle;\n",
       "    }\n",
       "\n",
       "    .dataframe tbody tr th {\n",
       "        vertical-align: top;\n",
       "    }\n",
       "\n",
       "    .dataframe thead th {\n",
       "        text-align: right;\n",
       "    }\n",
       "</style>\n",
       "<table border=\"1\" class=\"dataframe\">\n",
       "  <thead>\n",
       "    <tr style=\"text-align: right;\">\n",
       "      <th></th>\n",
       "      <th></th>\n",
       "      <th></th>\n",
       "      <th>input</th>\n",
       "      <th>expected_output</th>\n",
       "      <th>metadata</th>\n",
       "      <th>output</th>\n",
       "      <th>result</th>\n",
       "      <th>tracer</th>\n",
       "      <th>lineage</th>\n",
       "    </tr>\n",
       "    <tr>\n",
       "      <th>example_id</th>\n",
       "      <th>evaluation_id</th>\n",
       "      <th>run_id</th>\n",
       "      <th></th>\n",
       "      <th></th>\n",
       "      <th></th>\n",
       "      <th></th>\n",
       "      <th></th>\n",
       "      <th></th>\n",
       "      <th></th>\n",
       "    </tr>\n",
       "  </thead>\n",
       "  <tbody>\n",
       "    <tr>\n",
       "      <th>073116a6-0fe8-46e2-bdff-c4c70f40aa21</th>\n",
       "      <th>0fefb6ca-16da-4521-a429-c4fdb37f5414</th>\n",
       "      <th>97656db1-fae8-4d67-b88d-b7f7cbbb3156</th>\n",
       "      <td>question='Seit wann gibt es Heavy Metal?' lang...</td>\n",
       "      <td>None</td>\n",
       "      <td>None</td>\n",
       "      <td>answer='Heavy Metal entstand in den 1970er und...</td>\n",
       "      <td>answer_generated=True world_knowledge_grading_...</td>\n",
       "      <td>&lt;intelligence_layer.core.tracer.in_memory_trac...</td>\n",
       "      <td>&lt;intelligence_layer.evaluation.infrastructure....</td>\n",
       "    </tr>\n",
       "    <tr>\n",
       "      <th>09873257-a0a1-4e3a-a44b-4bccd1cb0adc</th>\n",
       "      <th>0fefb6ca-16da-4521-a429-c4fdb37f5414</th>\n",
       "      <th>97656db1-fae8-4d67-b88d-b7f7cbbb3156</th>\n",
       "      <td>question='Was ist die Übertragungsgeschwindigk...</td>\n",
       "      <td>None</td>\n",
       "      <td>None</td>\n",
       "      <td>answer='DisplayPort 2.0 hat eine Übertragungsg...</td>\n",
       "      <td>answer_generated=True world_knowledge_grading_...</td>\n",
       "      <td>&lt;intelligence_layer.core.tracer.in_memory_trac...</td>\n",
       "      <td>&lt;intelligence_layer.evaluation.infrastructure....</td>\n",
       "    </tr>\n",
       "    <tr>\n",
       "      <th>0c528633-ca2a-48f7-8999-6c022738ed47</th>\n",
       "      <th>0fefb6ca-16da-4521-a429-c4fdb37f5414</th>\n",
       "      <th>97656db1-fae8-4d67-b88d-b7f7cbbb3156</th>\n",
       "      <td>question='Welche Straßen führen von Sichuan na...</td>\n",
       "      <td>None</td>\n",
       "      <td>None</td>\n",
       "      <td>answer=None sources=[AnswerSource(chunk=Enrich...</td>\n",
       "      <td>answer_generated=False world_knowledge_grading...</td>\n",
       "      <td>&lt;intelligence_layer.core.tracer.in_memory_trac...</td>\n",
       "      <td>&lt;intelligence_layer.evaluation.infrastructure....</td>\n",
       "    </tr>\n",
       "    <tr>\n",
       "      <th>0da21a3c-55ac-401a-a6b7-006fbecb35a2</th>\n",
       "      <th>0fefb6ca-16da-4521-a429-c4fdb37f5414</th>\n",
       "      <th>97656db1-fae8-4d67-b88d-b7f7cbbb3156</th>\n",
       "      <td>question='Wer möchte das Tauschbörsen für Film...</td>\n",
       "      <td>None</td>\n",
       "      <td>None</td>\n",
       "      <td>answer=None sources=[AnswerSource(chunk=Enrich...</td>\n",
       "      <td>answer_generated=False world_knowledge_grading...</td>\n",
       "      <td>&lt;intelligence_layer.core.tracer.in_memory_trac...</td>\n",
       "      <td>&lt;intelligence_layer.evaluation.infrastructure....</td>\n",
       "    </tr>\n",
       "    <tr>\n",
       "      <th>15f6bde7-03ab-4c51-bfcc-9968fe327577</th>\n",
       "      <th>0fefb6ca-16da-4521-a429-c4fdb37f5414</th>\n",
       "      <th>97656db1-fae8-4d67-b88d-b7f7cbbb3156</th>\n",
       "      <td>question='Wo in Indien liegt die Wüste Thar?' ...</td>\n",
       "      <td>None</td>\n",
       "      <td>None</td>\n",
       "      <td>answer=None sources=[AnswerSource(chunk=Enrich...</td>\n",
       "      <td>answer_generated=False world_knowledge_grading...</td>\n",
       "      <td>&lt;intelligence_layer.core.tracer.in_memory_trac...</td>\n",
       "      <td>&lt;intelligence_layer.evaluation.infrastructure....</td>\n",
       "    </tr>\n",
       "    <tr>\n",
       "      <th>...</th>\n",
       "      <th>...</th>\n",
       "      <th>...</th>\n",
       "      <td>...</td>\n",
       "      <td>...</td>\n",
       "      <td>...</td>\n",
       "      <td>...</td>\n",
       "      <td>...</td>\n",
       "      <td>...</td>\n",
       "      <td>...</td>\n",
       "    </tr>\n",
       "    <tr>\n",
       "      <th>eff4d5a4-a4aa-4083-beb3-46ff8c3ef49a</th>\n",
       "      <th>0fefb6ca-16da-4521-a429-c4fdb37f5414</th>\n",
       "      <th>97656db1-fae8-4d67-b88d-b7f7cbbb3156</th>\n",
       "      <td>question='Ab welchem Jahr nahm die Bedeutung d...</td>\n",
       "      <td>None</td>\n",
       "      <td>None</td>\n",
       "      <td>answer='Die Bedeutung der NWA nahm ab 1957 ab,...</td>\n",
       "      <td>answer_generated=True world_knowledge_grading_...</td>\n",
       "      <td>&lt;intelligence_layer.core.tracer.in_memory_trac...</td>\n",
       "      <td>&lt;intelligence_layer.evaluation.infrastructure....</td>\n",
       "    </tr>\n",
       "    <tr>\n",
       "      <th>f3c2bd27-3711-436e-9c23-fa181f806241</th>\n",
       "      <th>0fefb6ca-16da-4521-a429-c4fdb37f5414</th>\n",
       "      <th>97656db1-fae8-4d67-b88d-b7f7cbbb3156</th>\n",
       "      <td>question='wie lautet der Fachbegriff für das K...</td>\n",
       "      <td>None</td>\n",
       "      <td>None</td>\n",
       "      <td>answer=None sources=[AnswerSource(chunk=Enrich...</td>\n",
       "      <td>answer_generated=False world_knowledge_grading...</td>\n",
       "      <td>&lt;intelligence_layer.core.tracer.in_memory_trac...</td>\n",
       "      <td>&lt;intelligence_layer.evaluation.infrastructure....</td>\n",
       "    </tr>\n",
       "    <tr>\n",
       "      <th>f59748c0-4631-4f2d-bd26-8f97ce8181d6</th>\n",
       "      <th>0fefb6ca-16da-4521-a429-c4fdb37f5414</th>\n",
       "      <th>97656db1-fae8-4d67-b88d-b7f7cbbb3156</th>\n",
       "      <td>question='Was bedeutet phonematisches Orthogra...</td>\n",
       "      <td>None</td>\n",
       "      <td>None</td>\n",
       "      <td>answer=None sources=[AnswerSource(chunk=Enrich...</td>\n",
       "      <td>answer_generated=False world_knowledge_grading...</td>\n",
       "      <td>&lt;intelligence_layer.core.tracer.in_memory_trac...</td>\n",
       "      <td>&lt;intelligence_layer.evaluation.infrastructure....</td>\n",
       "    </tr>\n",
       "    <tr>\n",
       "      <th>f793510f-2303-48e4-99a4-671198ad77d7</th>\n",
       "      <th>0fefb6ca-16da-4521-a429-c4fdb37f5414</th>\n",
       "      <th>97656db1-fae8-4d67-b88d-b7f7cbbb3156</th>\n",
       "      <td>question='Wie wurde die Region Taoudénit Mali ...</td>\n",
       "      <td>None</td>\n",
       "      <td>None</td>\n",
       "      <td>answer=None sources=[AnswerSource(chunk=Enrich...</td>\n",
       "      <td>answer_generated=False world_knowledge_grading...</td>\n",
       "      <td>&lt;intelligence_layer.core.tracer.in_memory_trac...</td>\n",
       "      <td>&lt;intelligence_layer.evaluation.infrastructure....</td>\n",
       "    </tr>\n",
       "    <tr>\n",
       "      <th>fc7cc419-5dc7-4787-b88e-82fac1858166</th>\n",
       "      <th>0fefb6ca-16da-4521-a429-c4fdb37f5414</th>\n",
       "      <th>97656db1-fae8-4d67-b88d-b7f7cbbb3156</th>\n",
       "      <td>question='Wer betreibt den Hafen Southamptons?...</td>\n",
       "      <td>None</td>\n",
       "      <td>None</td>\n",
       "      <td>answer=None sources=[AnswerSource(chunk=Enrich...</td>\n",
       "      <td>answer_generated=False world_knowledge_grading...</td>\n",
       "      <td>&lt;intelligence_layer.core.tracer.in_memory_trac...</td>\n",
       "      <td>&lt;intelligence_layer.evaluation.infrastructure....</td>\n",
       "    </tr>\n",
       "  </tbody>\n",
       "</table>\n",
       "<p>100 rows × 7 columns</p>\n",
       "</div>"
      ],
      "text/plain": [
       "                                                                                                                                                            input  \\\n",
       "example_id                           evaluation_id                        run_id                                                                                    \n",
       "073116a6-0fe8-46e2-bdff-c4c70f40aa21 0fefb6ca-16da-4521-a429-c4fdb37f5414 97656db1-fae8-4d67-b88d-b7f7cbbb3156  question='Seit wann gibt es Heavy Metal?' lang...   \n",
       "09873257-a0a1-4e3a-a44b-4bccd1cb0adc 0fefb6ca-16da-4521-a429-c4fdb37f5414 97656db1-fae8-4d67-b88d-b7f7cbbb3156  question='Was ist die Übertragungsgeschwindigk...   \n",
       "0c528633-ca2a-48f7-8999-6c022738ed47 0fefb6ca-16da-4521-a429-c4fdb37f5414 97656db1-fae8-4d67-b88d-b7f7cbbb3156  question='Welche Straßen führen von Sichuan na...   \n",
       "0da21a3c-55ac-401a-a6b7-006fbecb35a2 0fefb6ca-16da-4521-a429-c4fdb37f5414 97656db1-fae8-4d67-b88d-b7f7cbbb3156  question='Wer möchte das Tauschbörsen für Film...   \n",
       "15f6bde7-03ab-4c51-bfcc-9968fe327577 0fefb6ca-16da-4521-a429-c4fdb37f5414 97656db1-fae8-4d67-b88d-b7f7cbbb3156  question='Wo in Indien liegt die Wüste Thar?' ...   \n",
       "...                                                                                                                                                           ...   \n",
       "eff4d5a4-a4aa-4083-beb3-46ff8c3ef49a 0fefb6ca-16da-4521-a429-c4fdb37f5414 97656db1-fae8-4d67-b88d-b7f7cbbb3156  question='Ab welchem Jahr nahm die Bedeutung d...   \n",
       "f3c2bd27-3711-436e-9c23-fa181f806241 0fefb6ca-16da-4521-a429-c4fdb37f5414 97656db1-fae8-4d67-b88d-b7f7cbbb3156  question='wie lautet der Fachbegriff für das K...   \n",
       "f59748c0-4631-4f2d-bd26-8f97ce8181d6 0fefb6ca-16da-4521-a429-c4fdb37f5414 97656db1-fae8-4d67-b88d-b7f7cbbb3156  question='Was bedeutet phonematisches Orthogra...   \n",
       "f793510f-2303-48e4-99a4-671198ad77d7 0fefb6ca-16da-4521-a429-c4fdb37f5414 97656db1-fae8-4d67-b88d-b7f7cbbb3156  question='Wie wurde die Region Taoudénit Mali ...   \n",
       "fc7cc419-5dc7-4787-b88e-82fac1858166 0fefb6ca-16da-4521-a429-c4fdb37f5414 97656db1-fae8-4d67-b88d-b7f7cbbb3156  question='Wer betreibt den Hafen Southamptons?...   \n",
       "\n",
       "                                                                                                               expected_output  \\\n",
       "example_id                           evaluation_id                        run_id                                                 \n",
       "073116a6-0fe8-46e2-bdff-c4c70f40aa21 0fefb6ca-16da-4521-a429-c4fdb37f5414 97656db1-fae8-4d67-b88d-b7f7cbbb3156            None   \n",
       "09873257-a0a1-4e3a-a44b-4bccd1cb0adc 0fefb6ca-16da-4521-a429-c4fdb37f5414 97656db1-fae8-4d67-b88d-b7f7cbbb3156            None   \n",
       "0c528633-ca2a-48f7-8999-6c022738ed47 0fefb6ca-16da-4521-a429-c4fdb37f5414 97656db1-fae8-4d67-b88d-b7f7cbbb3156            None   \n",
       "0da21a3c-55ac-401a-a6b7-006fbecb35a2 0fefb6ca-16da-4521-a429-c4fdb37f5414 97656db1-fae8-4d67-b88d-b7f7cbbb3156            None   \n",
       "15f6bde7-03ab-4c51-bfcc-9968fe327577 0fefb6ca-16da-4521-a429-c4fdb37f5414 97656db1-fae8-4d67-b88d-b7f7cbbb3156            None   \n",
       "...                                                                                                                        ...   \n",
       "eff4d5a4-a4aa-4083-beb3-46ff8c3ef49a 0fefb6ca-16da-4521-a429-c4fdb37f5414 97656db1-fae8-4d67-b88d-b7f7cbbb3156            None   \n",
       "f3c2bd27-3711-436e-9c23-fa181f806241 0fefb6ca-16da-4521-a429-c4fdb37f5414 97656db1-fae8-4d67-b88d-b7f7cbbb3156            None   \n",
       "f59748c0-4631-4f2d-bd26-8f97ce8181d6 0fefb6ca-16da-4521-a429-c4fdb37f5414 97656db1-fae8-4d67-b88d-b7f7cbbb3156            None   \n",
       "f793510f-2303-48e4-99a4-671198ad77d7 0fefb6ca-16da-4521-a429-c4fdb37f5414 97656db1-fae8-4d67-b88d-b7f7cbbb3156            None   \n",
       "fc7cc419-5dc7-4787-b88e-82fac1858166 0fefb6ca-16da-4521-a429-c4fdb37f5414 97656db1-fae8-4d67-b88d-b7f7cbbb3156            None   \n",
       "\n",
       "                                                                                                               metadata  \\\n",
       "example_id                           evaluation_id                        run_id                                          \n",
       "073116a6-0fe8-46e2-bdff-c4c70f40aa21 0fefb6ca-16da-4521-a429-c4fdb37f5414 97656db1-fae8-4d67-b88d-b7f7cbbb3156     None   \n",
       "09873257-a0a1-4e3a-a44b-4bccd1cb0adc 0fefb6ca-16da-4521-a429-c4fdb37f5414 97656db1-fae8-4d67-b88d-b7f7cbbb3156     None   \n",
       "0c528633-ca2a-48f7-8999-6c022738ed47 0fefb6ca-16da-4521-a429-c4fdb37f5414 97656db1-fae8-4d67-b88d-b7f7cbbb3156     None   \n",
       "0da21a3c-55ac-401a-a6b7-006fbecb35a2 0fefb6ca-16da-4521-a429-c4fdb37f5414 97656db1-fae8-4d67-b88d-b7f7cbbb3156     None   \n",
       "15f6bde7-03ab-4c51-bfcc-9968fe327577 0fefb6ca-16da-4521-a429-c4fdb37f5414 97656db1-fae8-4d67-b88d-b7f7cbbb3156     None   \n",
       "...                                                                                                                 ...   \n",
       "eff4d5a4-a4aa-4083-beb3-46ff8c3ef49a 0fefb6ca-16da-4521-a429-c4fdb37f5414 97656db1-fae8-4d67-b88d-b7f7cbbb3156     None   \n",
       "f3c2bd27-3711-436e-9c23-fa181f806241 0fefb6ca-16da-4521-a429-c4fdb37f5414 97656db1-fae8-4d67-b88d-b7f7cbbb3156     None   \n",
       "f59748c0-4631-4f2d-bd26-8f97ce8181d6 0fefb6ca-16da-4521-a429-c4fdb37f5414 97656db1-fae8-4d67-b88d-b7f7cbbb3156     None   \n",
       "f793510f-2303-48e4-99a4-671198ad77d7 0fefb6ca-16da-4521-a429-c4fdb37f5414 97656db1-fae8-4d67-b88d-b7f7cbbb3156     None   \n",
       "fc7cc419-5dc7-4787-b88e-82fac1858166 0fefb6ca-16da-4521-a429-c4fdb37f5414 97656db1-fae8-4d67-b88d-b7f7cbbb3156     None   \n",
       "\n",
       "                                                                                                                                                           output  \\\n",
       "example_id                           evaluation_id                        run_id                                                                                    \n",
       "073116a6-0fe8-46e2-bdff-c4c70f40aa21 0fefb6ca-16da-4521-a429-c4fdb37f5414 97656db1-fae8-4d67-b88d-b7f7cbbb3156  answer='Heavy Metal entstand in den 1970er und...   \n",
       "09873257-a0a1-4e3a-a44b-4bccd1cb0adc 0fefb6ca-16da-4521-a429-c4fdb37f5414 97656db1-fae8-4d67-b88d-b7f7cbbb3156  answer='DisplayPort 2.0 hat eine Übertragungsg...   \n",
       "0c528633-ca2a-48f7-8999-6c022738ed47 0fefb6ca-16da-4521-a429-c4fdb37f5414 97656db1-fae8-4d67-b88d-b7f7cbbb3156  answer=None sources=[AnswerSource(chunk=Enrich...   \n",
       "0da21a3c-55ac-401a-a6b7-006fbecb35a2 0fefb6ca-16da-4521-a429-c4fdb37f5414 97656db1-fae8-4d67-b88d-b7f7cbbb3156  answer=None sources=[AnswerSource(chunk=Enrich...   \n",
       "15f6bde7-03ab-4c51-bfcc-9968fe327577 0fefb6ca-16da-4521-a429-c4fdb37f5414 97656db1-fae8-4d67-b88d-b7f7cbbb3156  answer=None sources=[AnswerSource(chunk=Enrich...   \n",
       "...                                                                                                                                                           ...   \n",
       "eff4d5a4-a4aa-4083-beb3-46ff8c3ef49a 0fefb6ca-16da-4521-a429-c4fdb37f5414 97656db1-fae8-4d67-b88d-b7f7cbbb3156  answer='Die Bedeutung der NWA nahm ab 1957 ab,...   \n",
       "f3c2bd27-3711-436e-9c23-fa181f806241 0fefb6ca-16da-4521-a429-c4fdb37f5414 97656db1-fae8-4d67-b88d-b7f7cbbb3156  answer=None sources=[AnswerSource(chunk=Enrich...   \n",
       "f59748c0-4631-4f2d-bd26-8f97ce8181d6 0fefb6ca-16da-4521-a429-c4fdb37f5414 97656db1-fae8-4d67-b88d-b7f7cbbb3156  answer=None sources=[AnswerSource(chunk=Enrich...   \n",
       "f793510f-2303-48e4-99a4-671198ad77d7 0fefb6ca-16da-4521-a429-c4fdb37f5414 97656db1-fae8-4d67-b88d-b7f7cbbb3156  answer=None sources=[AnswerSource(chunk=Enrich...   \n",
       "fc7cc419-5dc7-4787-b88e-82fac1858166 0fefb6ca-16da-4521-a429-c4fdb37f5414 97656db1-fae8-4d67-b88d-b7f7cbbb3156  answer=None sources=[AnswerSource(chunk=Enrich...   \n",
       "\n",
       "                                                                                                                                                           result  \\\n",
       "example_id                           evaluation_id                        run_id                                                                                    \n",
       "073116a6-0fe8-46e2-bdff-c4c70f40aa21 0fefb6ca-16da-4521-a429-c4fdb37f5414 97656db1-fae8-4d67-b88d-b7f7cbbb3156  answer_generated=True world_knowledge_grading_...   \n",
       "09873257-a0a1-4e3a-a44b-4bccd1cb0adc 0fefb6ca-16da-4521-a429-c4fdb37f5414 97656db1-fae8-4d67-b88d-b7f7cbbb3156  answer_generated=True world_knowledge_grading_...   \n",
       "0c528633-ca2a-48f7-8999-6c022738ed47 0fefb6ca-16da-4521-a429-c4fdb37f5414 97656db1-fae8-4d67-b88d-b7f7cbbb3156  answer_generated=False world_knowledge_grading...   \n",
       "0da21a3c-55ac-401a-a6b7-006fbecb35a2 0fefb6ca-16da-4521-a429-c4fdb37f5414 97656db1-fae8-4d67-b88d-b7f7cbbb3156  answer_generated=False world_knowledge_grading...   \n",
       "15f6bde7-03ab-4c51-bfcc-9968fe327577 0fefb6ca-16da-4521-a429-c4fdb37f5414 97656db1-fae8-4d67-b88d-b7f7cbbb3156  answer_generated=False world_knowledge_grading...   \n",
       "...                                                                                                                                                           ...   \n",
       "eff4d5a4-a4aa-4083-beb3-46ff8c3ef49a 0fefb6ca-16da-4521-a429-c4fdb37f5414 97656db1-fae8-4d67-b88d-b7f7cbbb3156  answer_generated=True world_knowledge_grading_...   \n",
       "f3c2bd27-3711-436e-9c23-fa181f806241 0fefb6ca-16da-4521-a429-c4fdb37f5414 97656db1-fae8-4d67-b88d-b7f7cbbb3156  answer_generated=False world_knowledge_grading...   \n",
       "f59748c0-4631-4f2d-bd26-8f97ce8181d6 0fefb6ca-16da-4521-a429-c4fdb37f5414 97656db1-fae8-4d67-b88d-b7f7cbbb3156  answer_generated=False world_knowledge_grading...   \n",
       "f793510f-2303-48e4-99a4-671198ad77d7 0fefb6ca-16da-4521-a429-c4fdb37f5414 97656db1-fae8-4d67-b88d-b7f7cbbb3156  answer_generated=False world_knowledge_grading...   \n",
       "fc7cc419-5dc7-4787-b88e-82fac1858166 0fefb6ca-16da-4521-a429-c4fdb37f5414 97656db1-fae8-4d67-b88d-b7f7cbbb3156  answer_generated=False world_knowledge_grading...   \n",
       "\n",
       "                                                                                                                                                           tracer  \\\n",
       "example_id                           evaluation_id                        run_id                                                                                    \n",
       "073116a6-0fe8-46e2-bdff-c4c70f40aa21 0fefb6ca-16da-4521-a429-c4fdb37f5414 97656db1-fae8-4d67-b88d-b7f7cbbb3156  <intelligence_layer.core.tracer.in_memory_trac...   \n",
       "09873257-a0a1-4e3a-a44b-4bccd1cb0adc 0fefb6ca-16da-4521-a429-c4fdb37f5414 97656db1-fae8-4d67-b88d-b7f7cbbb3156  <intelligence_layer.core.tracer.in_memory_trac...   \n",
       "0c528633-ca2a-48f7-8999-6c022738ed47 0fefb6ca-16da-4521-a429-c4fdb37f5414 97656db1-fae8-4d67-b88d-b7f7cbbb3156  <intelligence_layer.core.tracer.in_memory_trac...   \n",
       "0da21a3c-55ac-401a-a6b7-006fbecb35a2 0fefb6ca-16da-4521-a429-c4fdb37f5414 97656db1-fae8-4d67-b88d-b7f7cbbb3156  <intelligence_layer.core.tracer.in_memory_trac...   \n",
       "15f6bde7-03ab-4c51-bfcc-9968fe327577 0fefb6ca-16da-4521-a429-c4fdb37f5414 97656db1-fae8-4d67-b88d-b7f7cbbb3156  <intelligence_layer.core.tracer.in_memory_trac...   \n",
       "...                                                                                                                                                           ...   \n",
       "eff4d5a4-a4aa-4083-beb3-46ff8c3ef49a 0fefb6ca-16da-4521-a429-c4fdb37f5414 97656db1-fae8-4d67-b88d-b7f7cbbb3156  <intelligence_layer.core.tracer.in_memory_trac...   \n",
       "f3c2bd27-3711-436e-9c23-fa181f806241 0fefb6ca-16da-4521-a429-c4fdb37f5414 97656db1-fae8-4d67-b88d-b7f7cbbb3156  <intelligence_layer.core.tracer.in_memory_trac...   \n",
       "f59748c0-4631-4f2d-bd26-8f97ce8181d6 0fefb6ca-16da-4521-a429-c4fdb37f5414 97656db1-fae8-4d67-b88d-b7f7cbbb3156  <intelligence_layer.core.tracer.in_memory_trac...   \n",
       "f793510f-2303-48e4-99a4-671198ad77d7 0fefb6ca-16da-4521-a429-c4fdb37f5414 97656db1-fae8-4d67-b88d-b7f7cbbb3156  <intelligence_layer.core.tracer.in_memory_trac...   \n",
       "fc7cc419-5dc7-4787-b88e-82fac1858166 0fefb6ca-16da-4521-a429-c4fdb37f5414 97656db1-fae8-4d67-b88d-b7f7cbbb3156  <intelligence_layer.core.tracer.in_memory_trac...   \n",
       "\n",
       "                                                                                                                                                          lineage  \n",
       "example_id                           evaluation_id                        run_id                                                                                   \n",
       "073116a6-0fe8-46e2-bdff-c4c70f40aa21 0fefb6ca-16da-4521-a429-c4fdb37f5414 97656db1-fae8-4d67-b88d-b7f7cbbb3156  <intelligence_layer.evaluation.infrastructure....  \n",
       "09873257-a0a1-4e3a-a44b-4bccd1cb0adc 0fefb6ca-16da-4521-a429-c4fdb37f5414 97656db1-fae8-4d67-b88d-b7f7cbbb3156  <intelligence_layer.evaluation.infrastructure....  \n",
       "0c528633-ca2a-48f7-8999-6c022738ed47 0fefb6ca-16da-4521-a429-c4fdb37f5414 97656db1-fae8-4d67-b88d-b7f7cbbb3156  <intelligence_layer.evaluation.infrastructure....  \n",
       "0da21a3c-55ac-401a-a6b7-006fbecb35a2 0fefb6ca-16da-4521-a429-c4fdb37f5414 97656db1-fae8-4d67-b88d-b7f7cbbb3156  <intelligence_layer.evaluation.infrastructure....  \n",
       "15f6bde7-03ab-4c51-bfcc-9968fe327577 0fefb6ca-16da-4521-a429-c4fdb37f5414 97656db1-fae8-4d67-b88d-b7f7cbbb3156  <intelligence_layer.evaluation.infrastructure....  \n",
       "...                                                                                                                                                           ...  \n",
       "eff4d5a4-a4aa-4083-beb3-46ff8c3ef49a 0fefb6ca-16da-4521-a429-c4fdb37f5414 97656db1-fae8-4d67-b88d-b7f7cbbb3156  <intelligence_layer.evaluation.infrastructure....  \n",
       "f3c2bd27-3711-436e-9c23-fa181f806241 0fefb6ca-16da-4521-a429-c4fdb37f5414 97656db1-fae8-4d67-b88d-b7f7cbbb3156  <intelligence_layer.evaluation.infrastructure....  \n",
       "f59748c0-4631-4f2d-bd26-8f97ce8181d6 0fefb6ca-16da-4521-a429-c4fdb37f5414 97656db1-fae8-4d67-b88d-b7f7cbbb3156  <intelligence_layer.evaluation.infrastructure....  \n",
       "f793510f-2303-48e4-99a4-671198ad77d7 0fefb6ca-16da-4521-a429-c4fdb37f5414 97656db1-fae8-4d67-b88d-b7f7cbbb3156  <intelligence_layer.evaluation.infrastructure....  \n",
       "fc7cc419-5dc7-4787-b88e-82fac1858166 0fefb6ca-16da-4521-a429-c4fdb37f5414 97656db1-fae8-4d67-b88d-b7f7cbbb3156  <intelligence_layer.evaluation.infrastructure....  \n",
       "\n",
       "[100 rows x 7 columns]"
      ]
     },
     "execution_count": 49,
     "metadata": {},
     "output_type": "execute_result"
    }
   ],
   "source": [
    "evaluation_lineages = list(navigator.evaluation_lineages(\n",
    "    evaluation_overviews[0].id,\n",
    "    RetrieverBasedQaInput,\n",
    "    None,\n",
    "    MultipleChunkRetrieverQaOutput,\n",
    "    RetrieverQaEvaluation,\n",
    "))\n",
    "\n",
    "evaluation_lineages_df = evaluation_lineages_to_pandas(evaluation_lineages)\n",
    "evaluation_lineages_df"
   ]
  },
  {
   "cell_type": "code",
   "execution_count": 56,
   "metadata": {},
   "outputs": [],
   "source": [
    "def expand_pydantic_column(df: pd.DataFrame, column: str):\n",
    "    normalized = pd.json_normalize(df[column].map(lambda x: x.model_dump())).add_prefix(\n",
    "        column + \".\"\n",
    "    )\n",
    "\n",
    "    normalized.index = df.index\n",
    "    return pd.concat(\n",
    "        [\n",
    "            df,\n",
    "            normalized,\n",
    "        ],\n",
    "        axis=1,\n",
    "    )\n",
    "# expand_pydantic_column(evaluation_lineages_df, \"result\")"
   ]
  },
  {
   "cell_type": "markdown",
   "metadata": {},
   "source": [
    "(Optional) Manually edit the run example output to add hallucination."
   ]
  },
  {
   "cell_type": "code",
   "execution_count": 20,
   "metadata": {},
   "outputs": [
    {
     "data": {
      "text/html": [
       "<div>\n",
       "<style scoped>\n",
       "    .dataframe tbody tr th:only-of-type {\n",
       "        vertical-align: middle;\n",
       "    }\n",
       "\n",
       "    .dataframe tbody tr th {\n",
       "        vertical-align: top;\n",
       "    }\n",
       "\n",
       "    .dataframe thead th {\n",
       "        text-align: right;\n",
       "    }\n",
       "</style>\n",
       "<table border=\"1\" class=\"dataframe\">\n",
       "  <thead>\n",
       "    <tr style=\"text-align: right;\">\n",
       "      <th></th>\n",
       "      <th></th>\n",
       "      <th></th>\n",
       "      <th>input</th>\n",
       "      <th>expected_output</th>\n",
       "      <th>metadata</th>\n",
       "      <th>output</th>\n",
       "      <th>result</th>\n",
       "      <th>tracer</th>\n",
       "      <th>lineage</th>\n",
       "      <th>contains_world_knowledge</th>\n",
       "    </tr>\n",
       "    <tr>\n",
       "      <th>example_id</th>\n",
       "      <th>evaluation_id</th>\n",
       "      <th>run_id</th>\n",
       "      <th></th>\n",
       "      <th></th>\n",
       "      <th></th>\n",
       "      <th></th>\n",
       "      <th></th>\n",
       "      <th></th>\n",
       "      <th></th>\n",
       "      <th></th>\n",
       "    </tr>\n",
       "  </thead>\n",
       "  <tbody>\n",
       "    <tr>\n",
       "      <th>3173ac7b-3ce7-4a3c-8b48-327c858c5d36</th>\n",
       "      <th>0fefb6ca-16da-4521-a429-c4fdb37f5414</th>\n",
       "      <th>97656db1-fae8-4d67-b88d-b7f7cbbb3156</th>\n",
       "      <td>question='Wann wurde die RSFSR gebildet? ' lan...</td>\n",
       "      <td>None</td>\n",
       "      <td>None</td>\n",
       "      <td>answer='Die Russische Sozialistische Föderativ...</td>\n",
       "      <td>answer_generated=True world_knowledge_grading_...</td>\n",
       "      <td>&lt;intelligence_layer.core.tracer.in_memory_trac...</td>\n",
       "      <td>&lt;intelligence_layer.evaluation.infrastructure....</td>\n",
       "      <td>True</td>\n",
       "    </tr>\n",
       "  </tbody>\n",
       "</table>\n",
       "</div>"
      ],
      "text/plain": [
       "                                                                                                                                                            input  \\\n",
       "example_id                           evaluation_id                        run_id                                                                                    \n",
       "3173ac7b-3ce7-4a3c-8b48-327c858c5d36 0fefb6ca-16da-4521-a429-c4fdb37f5414 97656db1-fae8-4d67-b88d-b7f7cbbb3156  question='Wann wurde die RSFSR gebildet? ' lan...   \n",
       "\n",
       "                                                                                                               expected_output  \\\n",
       "example_id                           evaluation_id                        run_id                                                 \n",
       "3173ac7b-3ce7-4a3c-8b48-327c858c5d36 0fefb6ca-16da-4521-a429-c4fdb37f5414 97656db1-fae8-4d67-b88d-b7f7cbbb3156            None   \n",
       "\n",
       "                                                                                                               metadata  \\\n",
       "example_id                           evaluation_id                        run_id                                          \n",
       "3173ac7b-3ce7-4a3c-8b48-327c858c5d36 0fefb6ca-16da-4521-a429-c4fdb37f5414 97656db1-fae8-4d67-b88d-b7f7cbbb3156     None   \n",
       "\n",
       "                                                                                                                                                           output  \\\n",
       "example_id                           evaluation_id                        run_id                                                                                    \n",
       "3173ac7b-3ce7-4a3c-8b48-327c858c5d36 0fefb6ca-16da-4521-a429-c4fdb37f5414 97656db1-fae8-4d67-b88d-b7f7cbbb3156  answer='Die Russische Sozialistische Föderativ...   \n",
       "\n",
       "                                                                                                                                                           result  \\\n",
       "example_id                           evaluation_id                        run_id                                                                                    \n",
       "3173ac7b-3ce7-4a3c-8b48-327c858c5d36 0fefb6ca-16da-4521-a429-c4fdb37f5414 97656db1-fae8-4d67-b88d-b7f7cbbb3156  answer_generated=True world_knowledge_grading_...   \n",
       "\n",
       "                                                                                                                                                           tracer  \\\n",
       "example_id                           evaluation_id                        run_id                                                                                    \n",
       "3173ac7b-3ce7-4a3c-8b48-327c858c5d36 0fefb6ca-16da-4521-a429-c4fdb37f5414 97656db1-fae8-4d67-b88d-b7f7cbbb3156  <intelligence_layer.core.tracer.in_memory_trac...   \n",
       "\n",
       "                                                                                                                                                          lineage  \\\n",
       "example_id                           evaluation_id                        run_id                                                                                    \n",
       "3173ac7b-3ce7-4a3c-8b48-327c858c5d36 0fefb6ca-16da-4521-a429-c4fdb37f5414 97656db1-fae8-4d67-b88d-b7f7cbbb3156  <intelligence_layer.evaluation.infrastructure....   \n",
       "\n",
       "                                                                                                               contains_world_knowledge  \n",
       "example_id                           evaluation_id                        run_id                                                         \n",
       "3173ac7b-3ce7-4a3c-8b48-327c858c5d36 0fefb6ca-16da-4521-a429-c4fdb37f5414 97656db1-fae8-4d67-b88d-b7f7cbbb3156                     True  "
      ]
     },
     "execution_count": 20,
     "metadata": {},
     "output_type": "execute_result"
    }
   ],
   "source": [
    "evaluation_lineages_df[\n",
    "    (evaluation_lineages_df[\"contains_world_knowledge\"] | False)\n",
    "]"
   ]
  },
  {
   "cell_type": "code",
   "execution_count": 21,
   "metadata": {},
   "outputs": [
    {
     "data": {
      "text/html": [
       "<pre style=\"white-space:pre;overflow-x:auto;line-height:normal;font-family:Menlo,'DejaVu Sans Mono',consolas,'Courier New',monospace\">Open the <a href=\"http://localhost:3000\" target=\"_blank\">Trace Viewer</a> to view the trace.\n",
       "</pre>\n"
      ],
      "text/plain": [
       "Open the \u001b]8;id=231456;http://localhost:3000\u001b\\Trace Viewer\u001b]8;;\u001b\\ to view the trace.\n"
      ]
     },
     "metadata": {},
     "output_type": "display_data"
    },
    {
     "data": {
      "text/plain": [
       "True"
      ]
     },
     "execution_count": 21,
     "metadata": {},
     "output_type": "execute_result"
    }
   ],
   "source": [
    "from intelligence_layer.core import FileTracer\n",
    "FileTracer(\n",
    "    os.path.join(\"eval_tracer/e968469c-09df-410c-8392-afb3a41e1150\")\n",
    ").submit_to_trace_viewer()"
   ]
  },
  {
   "cell_type": "markdown",
   "metadata": {},
   "source": [
    "## Aggregation Step"
   ]
  },
  {
   "cell_type": "code",
   "execution_count": 22,
   "metadata": {},
   "outputs": [],
   "source": [
    "def aggregate_evaluations(\n",
    "    evaluation_overviews: list[EvaluationOverview],\n",
    ") -> list[AggregationOverview]:\n",
    "    aggregation_logic = RetrieverQaAggregationLogic()\n",
    "    aggregator = Aggregator(\n",
    "        evaluation_repository=repositories.evaluation_repo,\n",
    "        aggregation_repository=repositories.aggregation_repo,\n",
    "        description=\"default-aggregation\",\n",
    "        aggregation_logic=aggregation_logic,\n",
    "    )\n",
    "    aggregation_overviews = [\n",
    "        aggregator.aggregate_evaluation(evaluation_overview.id)\n",
    "        for evaluation_overview in evaluation_overviews\n",
    "    ]\n",
    "    return aggregation_overviews"
   ]
  },
  {
   "cell_type": "code",
   "execution_count": 23,
   "metadata": {},
   "outputs": [],
   "source": [
    "aggregation_overviews = aggregate_evaluations(evaluation_overviews)"
   ]
  },
  {
   "cell_type": "code",
   "execution_count": 24,
   "metadata": {},
   "outputs": [],
   "source": [
    "aggregation_df = aggregation_overviews_to_pandas(aggregation_overviews)\n",
    "aggregation_df[\"description\"] = aggregation_df[\"evaluation_overviews\"].map(\n",
    "    lambda evaluation_overviews: evaluation_overviews[0][\"run_overviews\"][0][\n",
    "        \"description\"\n",
    "    ]\n",
    ")"
   ]
  },
  {
   "cell_type": "code",
   "execution_count": 25,
   "metadata": {},
   "outputs": [
    {
     "data": {
      "text/html": [
       "<div>\n",
       "<style scoped>\n",
       "    .dataframe tbody tr th:only-of-type {\n",
       "        vertical-align: middle;\n",
       "    }\n",
       "\n",
       "    .dataframe tbody tr th {\n",
       "        vertical-align: top;\n",
       "    }\n",
       "\n",
       "    .dataframe thead th {\n",
       "        text-align: right;\n",
       "    }\n",
       "</style>\n",
       "<table border=\"1\" class=\"dataframe\">\n",
       "  <thead>\n",
       "    <tr style=\"text-align: right;\">\n",
       "      <th></th>\n",
       "      <th>evaluation_overviews</th>\n",
       "      <th>id</th>\n",
       "      <th>start</th>\n",
       "      <th>end</th>\n",
       "      <th>successful_evaluation_count</th>\n",
       "      <th>crashed_during_evaluation_count</th>\n",
       "      <th>description</th>\n",
       "      <th>labels</th>\n",
       "      <th>contains_no_world_knowledge</th>\n",
       "      <th>n_answers_generated</th>\n",
       "    </tr>\n",
       "  </thead>\n",
       "  <tbody>\n",
       "    <tr>\n",
       "      <th>0</th>\n",
       "      <td>[{'run_overviews': [{'dataset_id': 'deepset/ge...</td>\n",
       "      <td>59744ee9-930a-4142-b7b0-4eebe978665d</td>\n",
       "      <td>2024-07-30T11:17:25.422158Z</td>\n",
       "      <td>2024-07-30T11:17:25.422278Z</td>\n",
       "      <td>100</td>\n",
       "      <td>0</td>\n",
       "      <td>luminous nextgen 7b</td>\n",
       "      <td>[]</td>\n",
       "      <td>0.950000</td>\n",
       "      <td>20</td>\n",
       "    </tr>\n",
       "    <tr>\n",
       "      <th>1</th>\n",
       "      <td>[{'run_overviews': [{'dataset_id': 'deepset/ge...</td>\n",
       "      <td>8ca0d5c1-1bd4-4f85-b18f-31bfd904f291</td>\n",
       "      <td>2024-07-30T11:17:25.436749Z</td>\n",
       "      <td>2024-07-30T11:17:25.436876Z</td>\n",
       "      <td>100</td>\n",
       "      <td>0</td>\n",
       "      <td>luminous nextgen 66b</td>\n",
       "      <td>[]</td>\n",
       "      <td>1.000000</td>\n",
       "      <td>19</td>\n",
       "    </tr>\n",
       "    <tr>\n",
       "      <th>2</th>\n",
       "      <td>[{'run_overviews': [{'dataset_id': 'deepset/ge...</td>\n",
       "      <td>cc78ac30-7406-4a78-bbe1-d5fc3d39774b</td>\n",
       "      <td>2024-07-30T11:17:25.447932Z</td>\n",
       "      <td>2024-07-30T11:17:25.448023Z</td>\n",
       "      <td>100</td>\n",
       "      <td>0</td>\n",
       "      <td>llama 3 8b</td>\n",
       "      <td>[]</td>\n",
       "      <td>0.762712</td>\n",
       "      <td>59</td>\n",
       "    </tr>\n",
       "    <tr>\n",
       "      <th>3</th>\n",
       "      <td>[{'run_overviews': [{'dataset_id': 'deepset/ge...</td>\n",
       "      <td>910edc10-b234-446d-9e9c-b6163cb799ef</td>\n",
       "      <td>2024-07-30T11:17:25.456109Z</td>\n",
       "      <td>2024-07-30T11:17:25.456169Z</td>\n",
       "      <td>100</td>\n",
       "      <td>0</td>\n",
       "      <td>llama 3.1 8b</td>\n",
       "      <td>[]</td>\n",
       "      <td>0.952381</td>\n",
       "      <td>21</td>\n",
       "    </tr>\n",
       "  </tbody>\n",
       "</table>\n",
       "</div>"
      ],
      "text/plain": [
       "                                evaluation_overviews  \\\n",
       "0  [{'run_overviews': [{'dataset_id': 'deepset/ge...   \n",
       "1  [{'run_overviews': [{'dataset_id': 'deepset/ge...   \n",
       "2  [{'run_overviews': [{'dataset_id': 'deepset/ge...   \n",
       "3  [{'run_overviews': [{'dataset_id': 'deepset/ge...   \n",
       "\n",
       "                                     id                        start  \\\n",
       "0  59744ee9-930a-4142-b7b0-4eebe978665d  2024-07-30T11:17:25.422158Z   \n",
       "1  8ca0d5c1-1bd4-4f85-b18f-31bfd904f291  2024-07-30T11:17:25.436749Z   \n",
       "2  cc78ac30-7406-4a78-bbe1-d5fc3d39774b  2024-07-30T11:17:25.447932Z   \n",
       "3  910edc10-b234-446d-9e9c-b6163cb799ef  2024-07-30T11:17:25.456109Z   \n",
       "\n",
       "                           end  successful_evaluation_count  \\\n",
       "0  2024-07-30T11:17:25.422278Z                          100   \n",
       "1  2024-07-30T11:17:25.436876Z                          100   \n",
       "2  2024-07-30T11:17:25.448023Z                          100   \n",
       "3  2024-07-30T11:17:25.456169Z                          100   \n",
       "\n",
       "   crashed_during_evaluation_count           description labels  \\\n",
       "0                                0   luminous nextgen 7b     []   \n",
       "1                                0  luminous nextgen 66b     []   \n",
       "2                                0            llama 3 8b     []   \n",
       "3                                0          llama 3.1 8b     []   \n",
       "\n",
       "   contains_no_world_knowledge  n_answers_generated  \n",
       "0                     0.950000                   20  \n",
       "1                     1.000000                   19  \n",
       "2                     0.762712                   59  \n",
       "3                     0.952381                   21  "
      ]
     },
     "execution_count": 25,
     "metadata": {},
     "output_type": "execute_result"
    }
   ],
   "source": [
    "aggregation_df"
   ]
  },
  {
   "cell_type": "code",
   "execution_count": 26,
   "metadata": {},
   "outputs": [],
   "source": [
    "# llama_3_1_index = 1\n",
    "# luminous_nextgen_7b_index = 0\n",
    "\n",
    "# evaluation_lineages_df = evaluation_lineages_to_pandas(\n",
    "#     list(\n",
    "#         navigator.evaluation_lineages(\n",
    "#             evaluation_overviews[llama_3_1_index].id,\n",
    "#             RetrieverBasedQaInput,\n",
    "#             None,\n",
    "#             MultipleChunkRetrieverQaOutput,\n",
    "#             RetrieverQaEvaluation,\n",
    "#         )\n",
    "#     )\n",
    "# )\n",
    "\n",
    "\n",
    "# evaluation_lineages_df[\"contains_world_knowledge\"] = evaluation_lineages_df.result.map(\n",
    "#     lambda result: (\n",
    "#         result.world_knowledge_grading_output.contains_world_knowledge\n",
    "#         if result.world_knowledge_grading_output\n",
    "#         else None\n",
    "#     )\n",
    "# )\n",
    "# evaluation_lineages_df = evaluation_lineages_df[(evaluation_lineages_df[\"contains_world_knowledge\"] | False)]\n",
    "# hallucinated_example_ids = evaluation_lineages_df.reset_index().example_id\n",
    "# evaluation_lineages_df\n",
    "# # evaluation_lineages_df.iloc[0].lineage"
   ]
  },
  {
   "cell_type": "code",
   "execution_count": 27,
   "metadata": {},
   "outputs": [],
   "source": [
    "# evaluation_lineages_df.iloc[0].lineage.tracers[0]"
   ]
  }
 ],
 "metadata": {
  "kernelspec": {
   "display_name": ".venv",
   "language": "python",
   "name": "python3"
  },
  "language_info": {
   "codemirror_mode": {
    "name": "ipython",
    "version": 3
   },
   "file_extension": ".py",
   "mimetype": "text/x-python",
   "name": "python",
   "nbconvert_exporter": "python",
   "pygments_lexer": "ipython3",
   "version": "3.12.4"
  }
 },
 "nbformat": 4,
 "nbformat_minor": 2
}
